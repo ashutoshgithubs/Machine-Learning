{
  "nbformat": 4,
  "nbformat_minor": 0,
  "metadata": {
    "colab": {
      "provenance": [],
      "authorship_tag": "ABX9TyMex7/fN0CW0Nb2djC3X77g",
      "include_colab_link": true
    },
    "kernelspec": {
      "name": "python3",
      "display_name": "Python 3"
    },
    "language_info": {
      "name": "python"
    }
  },
  "cells": [
    {
      "cell_type": "markdown",
      "metadata": {
        "id": "view-in-github",
        "colab_type": "text"
      },
      "source": [
        "<a href=\"https://colab.research.google.com/github/ashutoshgithubs/Machine-Learning/blob/main/wordEmbeddingTech.ipynb\" target=\"_parent\"><img src=\"https://colab.research.google.com/assets/colab-badge.svg\" alt=\"Open In Colab\"/></a>"
      ]
    },
    {
      "cell_type": "markdown",
      "source": [
        "### Word Embedding Techniques using Embedding Layer in Keras\n",
        "#### Steps:\n",
        "\n",
        "\n",
        "*   Sentence\n",
        "*   One Hot Encoding\n",
        "*   Padding (post/pre) -> OHE\n",
        "*   OHE -> Vector\n",
        "\n",
        "\n",
        "\n"
      ],
      "metadata": {
        "id": "-RUlAlHPn_79"
      }
    },
    {
      "cell_type": "code",
      "execution_count": 1,
      "metadata": {
        "colab": {
          "base_uri": "https://localhost:8080/"
        },
        "id": "NFbLp2smnpAW",
        "outputId": "c4cf907f-5bd7-433e-8d79-0417999317bb"
      },
      "outputs": [
        {
          "output_type": "stream",
          "name": "stdout",
          "text": [
            "Requirement already satisfied: tensorflow[and-cuda] in /usr/local/lib/python3.12/dist-packages (2.19.0)\n",
            "Requirement already satisfied: absl-py>=1.0.0 in /usr/local/lib/python3.12/dist-packages (from tensorflow[and-cuda]) (1.4.0)\n",
            "Requirement already satisfied: astunparse>=1.6.0 in /usr/local/lib/python3.12/dist-packages (from tensorflow[and-cuda]) (1.6.3)\n",
            "Requirement already satisfied: flatbuffers>=24.3.25 in /usr/local/lib/python3.12/dist-packages (from tensorflow[and-cuda]) (25.2.10)\n",
            "Requirement already satisfied: gast!=0.5.0,!=0.5.1,!=0.5.2,>=0.2.1 in /usr/local/lib/python3.12/dist-packages (from tensorflow[and-cuda]) (0.6.0)\n",
            "Requirement already satisfied: google-pasta>=0.1.1 in /usr/local/lib/python3.12/dist-packages (from tensorflow[and-cuda]) (0.2.0)\n",
            "Requirement already satisfied: libclang>=13.0.0 in /usr/local/lib/python3.12/dist-packages (from tensorflow[and-cuda]) (18.1.1)\n",
            "Requirement already satisfied: opt-einsum>=2.3.2 in /usr/local/lib/python3.12/dist-packages (from tensorflow[and-cuda]) (3.4.0)\n",
            "Requirement already satisfied: packaging in /usr/local/lib/python3.12/dist-packages (from tensorflow[and-cuda]) (25.0)\n",
            "Requirement already satisfied: protobuf!=4.21.0,!=4.21.1,!=4.21.2,!=4.21.3,!=4.21.4,!=4.21.5,<6.0.0dev,>=3.20.3 in /usr/local/lib/python3.12/dist-packages (from tensorflow[and-cuda]) (5.29.5)\n",
            "Requirement already satisfied: requests<3,>=2.21.0 in /usr/local/lib/python3.12/dist-packages (from tensorflow[and-cuda]) (2.32.4)\n",
            "Requirement already satisfied: setuptools in /usr/local/lib/python3.12/dist-packages (from tensorflow[and-cuda]) (75.2.0)\n",
            "Requirement already satisfied: six>=1.12.0 in /usr/local/lib/python3.12/dist-packages (from tensorflow[and-cuda]) (1.17.0)\n",
            "Requirement already satisfied: termcolor>=1.1.0 in /usr/local/lib/python3.12/dist-packages (from tensorflow[and-cuda]) (3.1.0)\n",
            "Requirement already satisfied: typing-extensions>=3.6.6 in /usr/local/lib/python3.12/dist-packages (from tensorflow[and-cuda]) (4.15.0)\n",
            "Requirement already satisfied: wrapt>=1.11.0 in /usr/local/lib/python3.12/dist-packages (from tensorflow[and-cuda]) (1.17.3)\n",
            "Requirement already satisfied: grpcio<2.0,>=1.24.3 in /usr/local/lib/python3.12/dist-packages (from tensorflow[and-cuda]) (1.74.0)\n",
            "Requirement already satisfied: tensorboard~=2.19.0 in /usr/local/lib/python3.12/dist-packages (from tensorflow[and-cuda]) (2.19.0)\n",
            "Requirement already satisfied: keras>=3.5.0 in /usr/local/lib/python3.12/dist-packages (from tensorflow[and-cuda]) (3.10.0)\n",
            "Requirement already satisfied: numpy<2.2.0,>=1.26.0 in /usr/local/lib/python3.12/dist-packages (from tensorflow[and-cuda]) (2.0.2)\n",
            "Requirement already satisfied: h5py>=3.11.0 in /usr/local/lib/python3.12/dist-packages (from tensorflow[and-cuda]) (3.14.0)\n",
            "Requirement already satisfied: ml-dtypes<1.0.0,>=0.5.1 in /usr/local/lib/python3.12/dist-packages (from tensorflow[and-cuda]) (0.5.3)\n",
            "Collecting nvidia-cublas-cu12==12.5.3.2 (from tensorflow[and-cuda])\n",
            "  Downloading nvidia_cublas_cu12-12.5.3.2-py3-none-manylinux2014_x86_64.whl.metadata (1.5 kB)\n",
            "Collecting nvidia-cuda-cupti-cu12==12.5.82 (from tensorflow[and-cuda])\n",
            "  Downloading nvidia_cuda_cupti_cu12-12.5.82-py3-none-manylinux2014_x86_64.whl.metadata (1.6 kB)\n",
            "Requirement already satisfied: nvidia-cuda-nvcc-cu12==12.5.82 in /usr/local/lib/python3.12/dist-packages (from tensorflow[and-cuda]) (12.5.82)\n",
            "Collecting nvidia-cuda-nvrtc-cu12==12.5.82 (from tensorflow[and-cuda])\n",
            "  Downloading nvidia_cuda_nvrtc_cu12-12.5.82-py3-none-manylinux2014_x86_64.whl.metadata (1.5 kB)\n",
            "Collecting nvidia-cuda-runtime-cu12==12.5.82 (from tensorflow[and-cuda])\n",
            "  Downloading nvidia_cuda_runtime_cu12-12.5.82-py3-none-manylinux2014_x86_64.whl.metadata (1.5 kB)\n",
            "Collecting nvidia-cudnn-cu12==9.3.0.75 (from tensorflow[and-cuda])\n",
            "  Downloading nvidia_cudnn_cu12-9.3.0.75-py3-none-manylinux2014_x86_64.whl.metadata (1.6 kB)\n",
            "Collecting nvidia-cufft-cu12==11.2.3.61 (from tensorflow[and-cuda])\n",
            "  Downloading nvidia_cufft_cu12-11.2.3.61-py3-none-manylinux2014_x86_64.whl.metadata (1.5 kB)\n",
            "Collecting nvidia-curand-cu12==10.3.6.82 (from tensorflow[and-cuda])\n",
            "  Downloading nvidia_curand_cu12-10.3.6.82-py3-none-manylinux2014_x86_64.whl.metadata (1.5 kB)\n",
            "Collecting nvidia-cusolver-cu12==11.6.3.83 (from tensorflow[and-cuda])\n",
            "  Downloading nvidia_cusolver_cu12-11.6.3.83-py3-none-manylinux2014_x86_64.whl.metadata (1.6 kB)\n",
            "Collecting nvidia-cusparse-cu12==12.5.1.3 (from tensorflow[and-cuda])\n",
            "  Downloading nvidia_cusparse_cu12-12.5.1.3-py3-none-manylinux2014_x86_64.whl.metadata (1.6 kB)\n",
            "Collecting nvidia-nccl-cu12==2.23.4 (from tensorflow[and-cuda])\n",
            "  Downloading nvidia_nccl_cu12-2.23.4-py3-none-manylinux2014_x86_64.whl.metadata (1.8 kB)\n",
            "Collecting nvidia-nvjitlink-cu12==12.5.82 (from tensorflow[and-cuda])\n",
            "  Downloading nvidia_nvjitlink_cu12-12.5.82-py3-none-manylinux2014_x86_64.whl.metadata (1.5 kB)\n",
            "Requirement already satisfied: wheel<1.0,>=0.23.0 in /usr/local/lib/python3.12/dist-packages (from astunparse>=1.6.0->tensorflow[and-cuda]) (0.45.1)\n",
            "Requirement already satisfied: rich in /usr/local/lib/python3.12/dist-packages (from keras>=3.5.0->tensorflow[and-cuda]) (13.9.4)\n",
            "Requirement already satisfied: namex in /usr/local/lib/python3.12/dist-packages (from keras>=3.5.0->tensorflow[and-cuda]) (0.1.0)\n",
            "Requirement already satisfied: optree in /usr/local/lib/python3.12/dist-packages (from keras>=3.5.0->tensorflow[and-cuda]) (0.17.0)\n",
            "Requirement already satisfied: charset_normalizer<4,>=2 in /usr/local/lib/python3.12/dist-packages (from requests<3,>=2.21.0->tensorflow[and-cuda]) (3.4.3)\n",
            "Requirement already satisfied: idna<4,>=2.5 in /usr/local/lib/python3.12/dist-packages (from requests<3,>=2.21.0->tensorflow[and-cuda]) (3.10)\n",
            "Requirement already satisfied: urllib3<3,>=1.21.1 in /usr/local/lib/python3.12/dist-packages (from requests<3,>=2.21.0->tensorflow[and-cuda]) (2.5.0)\n",
            "Requirement already satisfied: certifi>=2017.4.17 in /usr/local/lib/python3.12/dist-packages (from requests<3,>=2.21.0->tensorflow[and-cuda]) (2025.8.3)\n",
            "Requirement already satisfied: markdown>=2.6.8 in /usr/local/lib/python3.12/dist-packages (from tensorboard~=2.19.0->tensorflow[and-cuda]) (3.9)\n",
            "Requirement already satisfied: tensorboard-data-server<0.8.0,>=0.7.0 in /usr/local/lib/python3.12/dist-packages (from tensorboard~=2.19.0->tensorflow[and-cuda]) (0.7.2)\n",
            "Requirement already satisfied: werkzeug>=1.0.1 in /usr/local/lib/python3.12/dist-packages (from tensorboard~=2.19.0->tensorflow[and-cuda]) (3.1.3)\n",
            "Requirement already satisfied: MarkupSafe>=2.1.1 in /usr/local/lib/python3.12/dist-packages (from werkzeug>=1.0.1->tensorboard~=2.19.0->tensorflow[and-cuda]) (3.0.2)\n",
            "Requirement already satisfied: markdown-it-py>=2.2.0 in /usr/local/lib/python3.12/dist-packages (from rich->keras>=3.5.0->tensorflow[and-cuda]) (4.0.0)\n",
            "Requirement already satisfied: pygments<3.0.0,>=2.13.0 in /usr/local/lib/python3.12/dist-packages (from rich->keras>=3.5.0->tensorflow[and-cuda]) (2.19.2)\n",
            "Requirement already satisfied: mdurl~=0.1 in /usr/local/lib/python3.12/dist-packages (from markdown-it-py>=2.2.0->rich->keras>=3.5.0->tensorflow[and-cuda]) (0.1.2)\n",
            "Downloading nvidia_cublas_cu12-12.5.3.2-py3-none-manylinux2014_x86_64.whl (363.3 MB)\n",
            "\u001b[2K   \u001b[90m━━━━━━━━━━━━━━━━━━━━━━━━━━━━━━━━━━━━━━━━\u001b[0m \u001b[32m363.3/363.3 MB\u001b[0m \u001b[31m1.6 MB/s\u001b[0m eta \u001b[36m0:00:00\u001b[0m\n",
            "\u001b[?25hDownloading nvidia_cuda_cupti_cu12-12.5.82-py3-none-manylinux2014_x86_64.whl (13.8 MB)\n",
            "\u001b[2K   \u001b[90m━━━━━━━━━━━━━━━━━━━━━━━━━━━━━━━━━━━━━━━━\u001b[0m \u001b[32m13.8/13.8 MB\u001b[0m \u001b[31m93.6 MB/s\u001b[0m eta \u001b[36m0:00:00\u001b[0m\n",
            "\u001b[?25hDownloading nvidia_cuda_nvrtc_cu12-12.5.82-py3-none-manylinux2014_x86_64.whl (24.9 MB)\n",
            "\u001b[2K   \u001b[90m━━━━━━━━━━━━━━━━━━━━━━━━━━━━━━━━━━━━━━━━\u001b[0m \u001b[32m24.9/24.9 MB\u001b[0m \u001b[31m83.5 MB/s\u001b[0m eta \u001b[36m0:00:00\u001b[0m\n",
            "\u001b[?25hDownloading nvidia_cuda_runtime_cu12-12.5.82-py3-none-manylinux2014_x86_64.whl (895 kB)\n",
            "\u001b[2K   \u001b[90m━━━━━━━━━━━━━━━━━━━━━━━━━━━━━━━━━━━━━━━━\u001b[0m \u001b[32m895.7/895.7 kB\u001b[0m \u001b[31m46.8 MB/s\u001b[0m eta \u001b[36m0:00:00\u001b[0m\n",
            "\u001b[?25hDownloading nvidia_cudnn_cu12-9.3.0.75-py3-none-manylinux2014_x86_64.whl (577.2 MB)\n",
            "\u001b[2K   \u001b[90m━━━━━━━━━━━━━━━━━━━━━━━━━━━━━━━━━━━━━━━━\u001b[0m \u001b[32m577.2/577.2 MB\u001b[0m \u001b[31m3.1 MB/s\u001b[0m eta \u001b[36m0:00:00\u001b[0m\n",
            "\u001b[?25hDownloading nvidia_cufft_cu12-11.2.3.61-py3-none-manylinux2014_x86_64.whl (192.5 MB)\n",
            "\u001b[2K   \u001b[90m━━━━━━━━━━━━━━━━━━━━━━━━━━━━━━━━━━━━━━━━\u001b[0m \u001b[32m192.5/192.5 MB\u001b[0m \u001b[31m6.1 MB/s\u001b[0m eta \u001b[36m0:00:00\u001b[0m\n",
            "\u001b[?25hDownloading nvidia_curand_cu12-10.3.6.82-py3-none-manylinux2014_x86_64.whl (56.3 MB)\n",
            "\u001b[2K   \u001b[90m━━━━━━━━━━━━━━━━━━━━━━━━━━━━━━━━━━━━━━━━\u001b[0m \u001b[32m56.3/56.3 MB\u001b[0m \u001b[31m11.6 MB/s\u001b[0m eta \u001b[36m0:00:00\u001b[0m\n",
            "\u001b[?25hDownloading nvidia_cusolver_cu12-11.6.3.83-py3-none-manylinux2014_x86_64.whl (130.3 MB)\n",
            "\u001b[2K   \u001b[90m━━━━━━━━━━━━━━━━━━━━━━━━━━━━━━━━━━━━━━━━\u001b[0m \u001b[32m130.3/130.3 MB\u001b[0m \u001b[31m7.1 MB/s\u001b[0m eta \u001b[36m0:00:00\u001b[0m\n",
            "\u001b[?25hDownloading nvidia_cusparse_cu12-12.5.1.3-py3-none-manylinux2014_x86_64.whl (217.6 MB)\n",
            "\u001b[2K   \u001b[90m━━━━━━━━━━━━━━━━━━━━━━━━━━━━━━━━━━━━━━━━\u001b[0m \u001b[32m217.6/217.6 MB\u001b[0m \u001b[31m5.4 MB/s\u001b[0m eta \u001b[36m0:00:00\u001b[0m\n",
            "\u001b[?25hDownloading nvidia_nccl_cu12-2.23.4-py3-none-manylinux2014_x86_64.whl (199.0 MB)\n",
            "\u001b[2K   \u001b[90m━━━━━━━━━━━━━━━━━━━━━━━━━━━━━━━━━━━━━━━━\u001b[0m \u001b[32m199.0/199.0 MB\u001b[0m \u001b[31m5.4 MB/s\u001b[0m eta \u001b[36m0:00:00\u001b[0m\n",
            "\u001b[?25hDownloading nvidia_nvjitlink_cu12-12.5.82-py3-none-manylinux2014_x86_64.whl (21.3 MB)\n",
            "\u001b[2K   \u001b[90m━━━━━━━━━━━━━━━━━━━━━━━━━━━━━━━━━━━━━━━━\u001b[0m \u001b[32m21.3/21.3 MB\u001b[0m \u001b[31m34.0 MB/s\u001b[0m eta \u001b[36m0:00:00\u001b[0m\n",
            "\u001b[?25hInstalling collected packages: nvidia-nvjitlink-cu12, nvidia-nccl-cu12, nvidia-curand-cu12, nvidia-cuda-runtime-cu12, nvidia-cuda-nvrtc-cu12, nvidia-cuda-cupti-cu12, nvidia-cublas-cu12, nvidia-cusparse-cu12, nvidia-cufft-cu12, nvidia-cudnn-cu12, nvidia-cusolver-cu12\n",
            "  Attempting uninstall: nvidia-nvjitlink-cu12\n",
            "    Found existing installation: nvidia-nvjitlink-cu12 12.6.85\n",
            "    Uninstalling nvidia-nvjitlink-cu12-12.6.85:\n",
            "      Successfully uninstalled nvidia-nvjitlink-cu12-12.6.85\n",
            "  Attempting uninstall: nvidia-nccl-cu12\n",
            "    Found existing installation: nvidia-nccl-cu12 2.27.3\n",
            "    Uninstalling nvidia-nccl-cu12-2.27.3:\n",
            "      Successfully uninstalled nvidia-nccl-cu12-2.27.3\n",
            "  Attempting uninstall: nvidia-curand-cu12\n",
            "    Found existing installation: nvidia-curand-cu12 10.3.7.77\n",
            "    Uninstalling nvidia-curand-cu12-10.3.7.77:\n",
            "      Successfully uninstalled nvidia-curand-cu12-10.3.7.77\n",
            "  Attempting uninstall: nvidia-cuda-runtime-cu12\n",
            "    Found existing installation: nvidia-cuda-runtime-cu12 12.6.77\n",
            "    Uninstalling nvidia-cuda-runtime-cu12-12.6.77:\n",
            "      Successfully uninstalled nvidia-cuda-runtime-cu12-12.6.77\n",
            "  Attempting uninstall: nvidia-cuda-nvrtc-cu12\n",
            "    Found existing installation: nvidia-cuda-nvrtc-cu12 12.6.77\n",
            "    Uninstalling nvidia-cuda-nvrtc-cu12-12.6.77:\n",
            "      Successfully uninstalled nvidia-cuda-nvrtc-cu12-12.6.77\n",
            "  Attempting uninstall: nvidia-cuda-cupti-cu12\n",
            "    Found existing installation: nvidia-cuda-cupti-cu12 12.6.80\n",
            "    Uninstalling nvidia-cuda-cupti-cu12-12.6.80:\n",
            "      Successfully uninstalled nvidia-cuda-cupti-cu12-12.6.80\n",
            "  Attempting uninstall: nvidia-cublas-cu12\n",
            "    Found existing installation: nvidia-cublas-cu12 12.6.4.1\n",
            "    Uninstalling nvidia-cublas-cu12-12.6.4.1:\n",
            "      Successfully uninstalled nvidia-cublas-cu12-12.6.4.1\n",
            "  Attempting uninstall: nvidia-cusparse-cu12\n",
            "    Found existing installation: nvidia-cusparse-cu12 12.5.4.2\n",
            "    Uninstalling nvidia-cusparse-cu12-12.5.4.2:\n",
            "      Successfully uninstalled nvidia-cusparse-cu12-12.5.4.2\n",
            "  Attempting uninstall: nvidia-cufft-cu12\n",
            "    Found existing installation: nvidia-cufft-cu12 11.3.0.4\n",
            "    Uninstalling nvidia-cufft-cu12-11.3.0.4:\n",
            "      Successfully uninstalled nvidia-cufft-cu12-11.3.0.4\n",
            "  Attempting uninstall: nvidia-cudnn-cu12\n",
            "    Found existing installation: nvidia-cudnn-cu12 9.10.2.21\n",
            "    Uninstalling nvidia-cudnn-cu12-9.10.2.21:\n",
            "      Successfully uninstalled nvidia-cudnn-cu12-9.10.2.21\n",
            "  Attempting uninstall: nvidia-cusolver-cu12\n",
            "    Found existing installation: nvidia-cusolver-cu12 11.7.1.2\n",
            "    Uninstalling nvidia-cusolver-cu12-11.7.1.2:\n",
            "      Successfully uninstalled nvidia-cusolver-cu12-11.7.1.2\n",
            "\u001b[31mERROR: pip's dependency resolver does not currently take into account all the packages that are installed. This behaviour is the source of the following dependency conflicts.\n",
            "torch 2.8.0+cu126 requires nvidia-cublas-cu12==12.6.4.1; platform_system == \"Linux\" and platform_machine == \"x86_64\", but you have nvidia-cublas-cu12 12.5.3.2 which is incompatible.\n",
            "torch 2.8.0+cu126 requires nvidia-cuda-cupti-cu12==12.6.80; platform_system == \"Linux\" and platform_machine == \"x86_64\", but you have nvidia-cuda-cupti-cu12 12.5.82 which is incompatible.\n",
            "torch 2.8.0+cu126 requires nvidia-cuda-nvrtc-cu12==12.6.77; platform_system == \"Linux\" and platform_machine == \"x86_64\", but you have nvidia-cuda-nvrtc-cu12 12.5.82 which is incompatible.\n",
            "torch 2.8.0+cu126 requires nvidia-cuda-runtime-cu12==12.6.77; platform_system == \"Linux\" and platform_machine == \"x86_64\", but you have nvidia-cuda-runtime-cu12 12.5.82 which is incompatible.\n",
            "torch 2.8.0+cu126 requires nvidia-cudnn-cu12==9.10.2.21; platform_system == \"Linux\" and platform_machine == \"x86_64\", but you have nvidia-cudnn-cu12 9.3.0.75 which is incompatible.\n",
            "torch 2.8.0+cu126 requires nvidia-cufft-cu12==11.3.0.4; platform_system == \"Linux\" and platform_machine == \"x86_64\", but you have nvidia-cufft-cu12 11.2.3.61 which is incompatible.\n",
            "torch 2.8.0+cu126 requires nvidia-curand-cu12==10.3.7.77; platform_system == \"Linux\" and platform_machine == \"x86_64\", but you have nvidia-curand-cu12 10.3.6.82 which is incompatible.\n",
            "torch 2.8.0+cu126 requires nvidia-cusolver-cu12==11.7.1.2; platform_system == \"Linux\" and platform_machine == \"x86_64\", but you have nvidia-cusolver-cu12 11.6.3.83 which is incompatible.\n",
            "torch 2.8.0+cu126 requires nvidia-cusparse-cu12==12.5.4.2; platform_system == \"Linux\" and platform_machine == \"x86_64\", but you have nvidia-cusparse-cu12 12.5.1.3 which is incompatible.\n",
            "torch 2.8.0+cu126 requires nvidia-nccl-cu12==2.27.3; platform_system == \"Linux\" and platform_machine == \"x86_64\", but you have nvidia-nccl-cu12 2.23.4 which is incompatible.\n",
            "torch 2.8.0+cu126 requires nvidia-nvjitlink-cu12==12.6.85; platform_system == \"Linux\" and platform_machine == \"x86_64\", but you have nvidia-nvjitlink-cu12 12.5.82 which is incompatible.\u001b[0m\u001b[31m\n",
            "\u001b[0mSuccessfully installed nvidia-cublas-cu12-12.5.3.2 nvidia-cuda-cupti-cu12-12.5.82 nvidia-cuda-nvrtc-cu12-12.5.82 nvidia-cuda-runtime-cu12-12.5.82 nvidia-cudnn-cu12-9.3.0.75 nvidia-cufft-cu12-11.2.3.61 nvidia-curand-cu12-10.3.6.82 nvidia-cusolver-cu12-11.6.3.83 nvidia-cusparse-cu12-12.5.1.3 nvidia-nccl-cu12-2.23.4 nvidia-nvjitlink-cu12-12.5.82\n"
          ]
        }
      ],
      "source": [
        "!pip install tensorflow[and-cuda]"
      ]
    },
    {
      "cell_type": "code",
      "source": [
        "import tensorflow as tf\n",
        "print(tf.__version__)"
      ],
      "metadata": {
        "colab": {
          "base_uri": "https://localhost:8080/"
        },
        "id": "gmIuiK6So7aE",
        "outputId": "d59c8973-8ae5-49d6-e355-ebdc83efc938"
      },
      "execution_count": 2,
      "outputs": [
        {
          "output_type": "stream",
          "name": "stdout",
          "text": [
            "2.19.0\n"
          ]
        }
      ]
    },
    {
      "cell_type": "code",
      "source": [
        "from tensorflow.keras.preprocessing.text import one_hot"
      ],
      "metadata": {
        "id": "0ak0UF9hpgVH"
      },
      "execution_count": 3,
      "outputs": []
    },
    {
      "cell_type": "code",
      "source": [
        "### sentences /corpus\n",
        "sent=[  'the glass of milk',\n",
        "     'the glass of juice',\n",
        "     'the cup of tea',\n",
        "    'I am a good boy',\n",
        "     'I am a good developer',\n",
        "     'understand the meaning of words',\n",
        "     'your videos are good']"
      ],
      "metadata": {
        "id": "BTYpFLVqprzC"
      },
      "execution_count": 4,
      "outputs": []
    },
    {
      "cell_type": "code",
      "source": [
        "### Vocabulary size\n",
        "voc_size=500"
      ],
      "metadata": {
        "id": "td8F2tTqpx_T"
      },
      "execution_count": 8,
      "outputs": []
    },
    {
      "cell_type": "markdown",
      "source": [
        "### OHE Representation"
      ],
      "metadata": {
        "id": "KuC_9Z0Yp4qa"
      }
    },
    {
      "cell_type": "code",
      "source": [
        "ohe_rep = []\n",
        "for words in sent:\n",
        "  one_hot_rep = one_hot(words, voc_size)\n",
        "  ohe_rep.append(one_hot_rep)"
      ],
      "metadata": {
        "id": "VmJ3-yqDp2C2"
      },
      "execution_count": 6,
      "outputs": []
    },
    {
      "cell_type": "code",
      "source": [
        "ohe_rep"
      ],
      "metadata": {
        "colab": {
          "base_uri": "https://localhost:8080/"
        },
        "id": "vH5DnVSbqKrd",
        "outputId": "01259506-b6c9-4922-c76c-f62a198cbb6b"
      },
      "execution_count": 7,
      "outputs": [
        {
          "output_type": "execute_result",
          "data": {
            "text/plain": [
              "[[35, 34, 132, 333],\n",
              " [35, 34, 132, 132],\n",
              " [35, 395, 132, 65],\n",
              " [493, 494, 266, 116, 82],\n",
              " [493, 494, 266, 116, 229],\n",
              " [208, 35, 52, 132, 414],\n",
              " [483, 433, 92, 116]]"
            ]
          },
          "metadata": {},
          "execution_count": 7
        }
      ]
    },
    {
      "cell_type": "markdown",
      "source": [
        "### Word Embedding Represntation"
      ],
      "metadata": {
        "id": "HLAg-lnVrVsR"
      }
    },
    {
      "cell_type": "code",
      "source": [
        "from tensorflow.keras.layers import Embedding # word2Vec like\n",
        "from tensorflow.keras.preprocessing.sequence import pad_sequences\n",
        "from tensorflow.keras.models import Sequential"
      ],
      "metadata": {
        "id": "icxqyquvqLzL"
      },
      "execution_count": 9,
      "outputs": []
    },
    {
      "cell_type": "code",
      "source": [
        "# Lets apply pre-padding to make all sentence length same\n",
        "sent_length = 7 # can take any number >=len(max sentence len)\n",
        "embedded_docs = pad_sequences(ohe_rep, padding='pre', maxlen=sent_length)\n",
        "print(embedded_docs)"
      ],
      "metadata": {
        "colab": {
          "base_uri": "https://localhost:8080/"
        },
        "id": "MZPkVwwMrYEQ",
        "outputId": "357be575-66bd-4546-ed7a-69e60cc6b97d"
      },
      "execution_count": 10,
      "outputs": [
        {
          "output_type": "stream",
          "name": "stdout",
          "text": [
            "[[  0   0   0  35  34 132 333]\n",
            " [  0   0   0  35  34 132 132]\n",
            " [  0   0   0  35 395 132  65]\n",
            " [  0   0 493 494 266 116  82]\n",
            " [  0   0 493 494 266 116 229]\n",
            " [  0   0 208  35  52 132 414]\n",
            " [  0   0   0 483 433  92 116]]\n"
          ]
        }
      ]
    },
    {
      "cell_type": "markdown",
      "source": [
        "### Feature representation"
      ],
      "metadata": {
        "id": "aJpNH3PVtERp"
      }
    },
    {
      "cell_type": "code",
      "source": [
        "dim = 10 # each element of embedded docs will be represented as a vec of size 10."
      ],
      "metadata": {
        "id": "S13WWB-Fr46h"
      },
      "execution_count": 14,
      "outputs": []
    },
    {
      "cell_type": "code",
      "source": [
        "model = Sequential()\n",
        "model.add(Embedding(voc_size, dim, input_length=sent_length))\n",
        "model.compile('adam', 'mse') #This compiles the model, preparing it for training."
      ],
      "metadata": {
        "colab": {
          "base_uri": "https://localhost:8080/"
        },
        "id": "hvH9AkydtYWt",
        "outputId": "18277b13-aecd-4876-c90c-e052e21fdd45"
      },
      "execution_count": 18,
      "outputs": [
        {
          "output_type": "stream",
          "name": "stderr",
          "text": [
            "/usr/local/lib/python3.12/dist-packages/keras/src/layers/core/embedding.py:97: UserWarning: Argument `input_length` is deprecated. Just remove it.\n",
            "  warnings.warn(\n"
          ]
        }
      ]
    },
    {
      "cell_type": "code",
      "source": [
        "model.predict(embedded_docs[0]) #This method generates output predictions for the input samples in form of vec embedding.."
      ],
      "metadata": {
        "colab": {
          "base_uri": "https://localhost:8080/"
        },
        "id": "_5golN_-tbem",
        "outputId": "fe25e7c4-d1f0-4083-eaf8-3d963437c752"
      },
      "execution_count": 16,
      "outputs": [
        {
          "output_type": "stream",
          "name": "stdout",
          "text": [
            "\u001b[1m1/1\u001b[0m \u001b[32m━━━━━━━━━━━━━━━━━━━━\u001b[0m\u001b[37m\u001b[0m \u001b[1m0s\u001b[0m 317ms/step\n"
          ]
        },
        {
          "output_type": "execute_result",
          "data": {
            "text/plain": [
              "array([[ 0.00469248, -0.01073547,  0.00895814,  0.00262933,  0.04850277,\n",
              "        -0.01256697,  0.02386774,  0.00475971, -0.00091059,  0.02498451],\n",
              "       [ 0.00469248, -0.01073547,  0.00895814,  0.00262933,  0.04850277,\n",
              "        -0.01256697,  0.02386774,  0.00475971, -0.00091059,  0.02498451],\n",
              "       [ 0.00469248, -0.01073547,  0.00895814,  0.00262933,  0.04850277,\n",
              "        -0.01256697,  0.02386774,  0.00475971, -0.00091059,  0.02498451],\n",
              "       [ 0.01600876,  0.01707646, -0.03869817,  0.04631675, -0.02831711,\n",
              "        -0.02229309,  0.02499728, -0.01568338, -0.0382818 ,  0.03262076],\n",
              "       [-0.01663733,  0.02557254, -0.03082478, -0.01626392, -0.02441312,\n",
              "        -0.02011229, -0.03128134,  0.01284528,  0.04921223, -0.04507161],\n",
              "       [ 0.04349952,  0.04440976, -0.04505372, -0.01226728,  0.0167048 ,\n",
              "        -0.01482568,  0.04962078,  0.0367722 ,  0.04173071, -0.01740074],\n",
              "       [-0.01447834,  0.04014652, -0.039384  , -0.04374974,  0.02345014,\n",
              "         0.02582233, -0.02236173, -0.0096036 , -0.01189972,  0.0407642 ]],\n",
              "      dtype=float32)"
            ]
          },
          "metadata": {},
          "execution_count": 16
        }
      ]
    },
    {
      "cell_type": "code",
      "source": [
        "model.summary()"
      ],
      "metadata": {
        "colab": {
          "base_uri": "https://localhost:8080/",
          "height": 161
        },
        "id": "OCLrBDN8wI7q",
        "outputId": "50d08c3b-82ac-4c6a-be2b-6ea32c91525e"
      },
      "execution_count": 20,
      "outputs": [
        {
          "output_type": "display_data",
          "data": {
            "text/plain": [
              "\u001b[1mModel: \"sequential_2\"\u001b[0m\n"
            ],
            "text/html": [
              "<pre style=\"white-space:pre;overflow-x:auto;line-height:normal;font-family:Menlo,'DejaVu Sans Mono',consolas,'Courier New',monospace\"><span style=\"font-weight: bold\">Model: \"sequential_2\"</span>\n",
              "</pre>\n"
            ]
          },
          "metadata": {}
        },
        {
          "output_type": "display_data",
          "data": {
            "text/plain": [
              "┏━━━━━━━━━━━━━━━━━━━━━━━━━━━━━━━━━┳━━━━━━━━━━━━━━━━━━━━━━━━┳━━━━━━━━━━━━━━━┓\n",
              "┃\u001b[1m \u001b[0m\u001b[1mLayer (type)                   \u001b[0m\u001b[1m \u001b[0m┃\u001b[1m \u001b[0m\u001b[1mOutput Shape          \u001b[0m\u001b[1m \u001b[0m┃\u001b[1m \u001b[0m\u001b[1m      Param #\u001b[0m\u001b[1m \u001b[0m┃\n",
              "┡━━━━━━━━━━━━━━━━━━━━━━━━━━━━━━━━━╇━━━━━━━━━━━━━━━━━━━━━━━━╇━━━━━━━━━━━━━━━┩\n",
              "│ embedding_1 (\u001b[38;5;33mEmbedding\u001b[0m)         │ (\u001b[38;5;34m7\u001b[0m, \u001b[38;5;34m7\u001b[0m, \u001b[38;5;34m10\u001b[0m)             │         \u001b[38;5;34m5,000\u001b[0m │\n",
              "└─────────────────────────────────┴────────────────────────┴───────────────┘\n"
            ],
            "text/html": [
              "<pre style=\"white-space:pre;overflow-x:auto;line-height:normal;font-family:Menlo,'DejaVu Sans Mono',consolas,'Courier New',monospace\">┏━━━━━━━━━━━━━━━━━━━━━━━━━━━━━━━━━┳━━━━━━━━━━━━━━━━━━━━━━━━┳━━━━━━━━━━━━━━━┓\n",
              "┃<span style=\"font-weight: bold\"> Layer (type)                    </span>┃<span style=\"font-weight: bold\"> Output Shape           </span>┃<span style=\"font-weight: bold\">       Param # </span>┃\n",
              "┡━━━━━━━━━━━━━━━━━━━━━━━━━━━━━━━━━╇━━━━━━━━━━━━━━━━━━━━━━━━╇━━━━━━━━━━━━━━━┩\n",
              "│ embedding_1 (<span style=\"color: #0087ff; text-decoration-color: #0087ff\">Embedding</span>)         │ (<span style=\"color: #00af00; text-decoration-color: #00af00\">7</span>, <span style=\"color: #00af00; text-decoration-color: #00af00\">7</span>, <span style=\"color: #00af00; text-decoration-color: #00af00\">10</span>)             │         <span style=\"color: #00af00; text-decoration-color: #00af00\">5,000</span> │\n",
              "└─────────────────────────────────┴────────────────────────┴───────────────┘\n",
              "</pre>\n"
            ]
          },
          "metadata": {}
        },
        {
          "output_type": "display_data",
          "data": {
            "text/plain": [
              "\u001b[1m Total params: \u001b[0m\u001b[38;5;34m5,000\u001b[0m (19.53 KB)\n"
            ],
            "text/html": [
              "<pre style=\"white-space:pre;overflow-x:auto;line-height:normal;font-family:Menlo,'DejaVu Sans Mono',consolas,'Courier New',monospace\"><span style=\"font-weight: bold\"> Total params: </span><span style=\"color: #00af00; text-decoration-color: #00af00\">5,000</span> (19.53 KB)\n",
              "</pre>\n"
            ]
          },
          "metadata": {}
        },
        {
          "output_type": "display_data",
          "data": {
            "text/plain": [
              "\u001b[1m Trainable params: \u001b[0m\u001b[38;5;34m5,000\u001b[0m (19.53 KB)\n"
            ],
            "text/html": [
              "<pre style=\"white-space:pre;overflow-x:auto;line-height:normal;font-family:Menlo,'DejaVu Sans Mono',consolas,'Courier New',monospace\"><span style=\"font-weight: bold\"> Trainable params: </span><span style=\"color: #00af00; text-decoration-color: #00af00\">5,000</span> (19.53 KB)\n",
              "</pre>\n"
            ]
          },
          "metadata": {}
        },
        {
          "output_type": "display_data",
          "data": {
            "text/plain": [
              "\u001b[1m Non-trainable params: \u001b[0m\u001b[38;5;34m0\u001b[0m (0.00 B)\n"
            ],
            "text/html": [
              "<pre style=\"white-space:pre;overflow-x:auto;line-height:normal;font-family:Menlo,'DejaVu Sans Mono',consolas,'Courier New',monospace\"><span style=\"font-weight: bold\"> Non-trainable params: </span><span style=\"color: #00af00; text-decoration-color: #00af00\">0</span> (0.00 B)\n",
              "</pre>\n"
            ]
          },
          "metadata": {}
        }
      ]
    },
    {
      "cell_type": "code",
      "source": [
        "# Lets predict the entire embedded docs\n",
        "model.predict(embedded_docs)"
      ],
      "metadata": {
        "colab": {
          "base_uri": "https://localhost:8080/"
        },
        "id": "0m5TJ8GFuAAF",
        "outputId": "32e13a41-7d23-4563-edf5-0e0208dae512"
      },
      "execution_count": 19,
      "outputs": [
        {
          "output_type": "stream",
          "name": "stdout",
          "text": [
            "\u001b[1m1/1\u001b[0m \u001b[32m━━━━━━━━━━━━━━━━━━━━\u001b[0m\u001b[37m\u001b[0m \u001b[1m0s\u001b[0m 133ms/step\n"
          ]
        },
        {
          "output_type": "execute_result",
          "data": {
            "text/plain": [
              "array([[[-0.00075148,  0.00397871, -0.01305057, -0.014066  ,\n",
              "         -0.01240871,  0.0188851 ,  0.01685417,  0.03079201,\n",
              "          0.04095152,  0.03399625],\n",
              "        [-0.00075148,  0.00397871, -0.01305057, -0.014066  ,\n",
              "         -0.01240871,  0.0188851 ,  0.01685417,  0.03079201,\n",
              "          0.04095152,  0.03399625],\n",
              "        [-0.00075148,  0.00397871, -0.01305057, -0.014066  ,\n",
              "         -0.01240871,  0.0188851 ,  0.01685417,  0.03079201,\n",
              "          0.04095152,  0.03399625],\n",
              "        [ 0.02164781,  0.04977408, -0.03929586, -0.0015509 ,\n",
              "          0.04000889,  0.03436973,  0.03555692, -0.0476131 ,\n",
              "          0.01174231, -0.01067797],\n",
              "        [ 0.03201317, -0.0369992 ,  0.02483188, -0.02912866,\n",
              "          0.01881379, -0.03695338,  0.04551147, -0.03383148,\n",
              "         -0.01536794, -0.00188925],\n",
              "        [-0.02471271, -0.02866468, -0.02865238, -0.01798248,\n",
              "         -0.03950733, -0.03802934, -0.01687471, -0.03290422,\n",
              "          0.02990263, -0.02294538],\n",
              "        [ 0.01687102,  0.0471635 , -0.0387177 ,  0.02839657,\n",
              "         -0.02022221,  0.00251123, -0.00466466,  0.02455287,\n",
              "         -0.04846753, -0.04077283]],\n",
              "\n",
              "       [[-0.00075148,  0.00397871, -0.01305057, -0.014066  ,\n",
              "         -0.01240871,  0.0188851 ,  0.01685417,  0.03079201,\n",
              "          0.04095152,  0.03399625],\n",
              "        [-0.00075148,  0.00397871, -0.01305057, -0.014066  ,\n",
              "         -0.01240871,  0.0188851 ,  0.01685417,  0.03079201,\n",
              "          0.04095152,  0.03399625],\n",
              "        [-0.00075148,  0.00397871, -0.01305057, -0.014066  ,\n",
              "         -0.01240871,  0.0188851 ,  0.01685417,  0.03079201,\n",
              "          0.04095152,  0.03399625],\n",
              "        [ 0.02164781,  0.04977408, -0.03929586, -0.0015509 ,\n",
              "          0.04000889,  0.03436973,  0.03555692, -0.0476131 ,\n",
              "          0.01174231, -0.01067797],\n",
              "        [ 0.03201317, -0.0369992 ,  0.02483188, -0.02912866,\n",
              "          0.01881379, -0.03695338,  0.04551147, -0.03383148,\n",
              "         -0.01536794, -0.00188925],\n",
              "        [-0.02471271, -0.02866468, -0.02865238, -0.01798248,\n",
              "         -0.03950733, -0.03802934, -0.01687471, -0.03290422,\n",
              "          0.02990263, -0.02294538],\n",
              "        [-0.02471271, -0.02866468, -0.02865238, -0.01798248,\n",
              "         -0.03950733, -0.03802934, -0.01687471, -0.03290422,\n",
              "          0.02990263, -0.02294538]],\n",
              "\n",
              "       [[-0.00075148,  0.00397871, -0.01305057, -0.014066  ,\n",
              "         -0.01240871,  0.0188851 ,  0.01685417,  0.03079201,\n",
              "          0.04095152,  0.03399625],\n",
              "        [-0.00075148,  0.00397871, -0.01305057, -0.014066  ,\n",
              "         -0.01240871,  0.0188851 ,  0.01685417,  0.03079201,\n",
              "          0.04095152,  0.03399625],\n",
              "        [-0.00075148,  0.00397871, -0.01305057, -0.014066  ,\n",
              "         -0.01240871,  0.0188851 ,  0.01685417,  0.03079201,\n",
              "          0.04095152,  0.03399625],\n",
              "        [ 0.02164781,  0.04977408, -0.03929586, -0.0015509 ,\n",
              "          0.04000889,  0.03436973,  0.03555692, -0.0476131 ,\n",
              "          0.01174231, -0.01067797],\n",
              "        [-0.01808061, -0.00352546,  0.03655939, -0.03502891,\n",
              "          0.02493909,  0.00566852,  0.01535836,  0.00399623,\n",
              "         -0.0072795 ,  0.01700247],\n",
              "        [-0.02471271, -0.02866468, -0.02865238, -0.01798248,\n",
              "         -0.03950733, -0.03802934, -0.01687471, -0.03290422,\n",
              "          0.02990263, -0.02294538],\n",
              "        [ 0.03481654,  0.01641409, -0.00913499, -0.0128352 ,\n",
              "          0.03393943,  0.01815924,  0.01748032,  0.03593611,\n",
              "         -0.04435519, -0.00334358]],\n",
              "\n",
              "       [[-0.00075148,  0.00397871, -0.01305057, -0.014066  ,\n",
              "         -0.01240871,  0.0188851 ,  0.01685417,  0.03079201,\n",
              "          0.04095152,  0.03399625],\n",
              "        [-0.00075148,  0.00397871, -0.01305057, -0.014066  ,\n",
              "         -0.01240871,  0.0188851 ,  0.01685417,  0.03079201,\n",
              "          0.04095152,  0.03399625],\n",
              "        [-0.02834809, -0.01318449, -0.00026976,  0.02268268,\n",
              "          0.01695294,  0.0131819 ,  0.00513604,  0.00569066,\n",
              "         -0.04885938,  0.01442688],\n",
              "        [ 0.02044513,  0.0045344 ,  0.01036359,  0.00454116,\n",
              "         -0.00940363, -0.00213727, -0.00870457, -0.03389472,\n",
              "         -0.0389724 , -0.00739635],\n",
              "        [-0.02881651,  0.01193497, -0.02510903,  0.03472329,\n",
              "         -0.04143344, -0.01501291,  0.04825853,  0.04241702,\n",
              "          0.00036397,  0.01271069],\n",
              "        [ 0.03174354, -0.02157664, -0.0473223 ,  0.03600497,\n",
              "          0.03666231, -0.04415934,  0.0405069 ,  0.01072844,\n",
              "         -0.03350802, -0.04904861],\n",
              "        [-0.02248892,  0.038729  , -0.03154826, -0.0014322 ,\n",
              "          0.03864222, -0.02805157,  0.04578624, -0.01410324,\n",
              "         -0.04515148,  0.04155557]],\n",
              "\n",
              "       [[-0.00075148,  0.00397871, -0.01305057, -0.014066  ,\n",
              "         -0.01240871,  0.0188851 ,  0.01685417,  0.03079201,\n",
              "          0.04095152,  0.03399625],\n",
              "        [-0.00075148,  0.00397871, -0.01305057, -0.014066  ,\n",
              "         -0.01240871,  0.0188851 ,  0.01685417,  0.03079201,\n",
              "          0.04095152,  0.03399625],\n",
              "        [-0.02834809, -0.01318449, -0.00026976,  0.02268268,\n",
              "          0.01695294,  0.0131819 ,  0.00513604,  0.00569066,\n",
              "         -0.04885938,  0.01442688],\n",
              "        [ 0.02044513,  0.0045344 ,  0.01036359,  0.00454116,\n",
              "         -0.00940363, -0.00213727, -0.00870457, -0.03389472,\n",
              "         -0.0389724 , -0.00739635],\n",
              "        [-0.02881651,  0.01193497, -0.02510903,  0.03472329,\n",
              "         -0.04143344, -0.01501291,  0.04825853,  0.04241702,\n",
              "          0.00036397,  0.01271069],\n",
              "        [ 0.03174354, -0.02157664, -0.0473223 ,  0.03600497,\n",
              "          0.03666231, -0.04415934,  0.0405069 ,  0.01072844,\n",
              "         -0.03350802, -0.04904861],\n",
              "        [ 0.01251132,  0.01493165, -0.02689087, -0.04059284,\n",
              "          0.02063468, -0.03607048,  0.04746196, -0.02416352,\n",
              "          0.00282462, -0.03097943]],\n",
              "\n",
              "       [[-0.00075148,  0.00397871, -0.01305057, -0.014066  ,\n",
              "         -0.01240871,  0.0188851 ,  0.01685417,  0.03079201,\n",
              "          0.04095152,  0.03399625],\n",
              "        [-0.00075148,  0.00397871, -0.01305057, -0.014066  ,\n",
              "         -0.01240871,  0.0188851 ,  0.01685417,  0.03079201,\n",
              "          0.04095152,  0.03399625],\n",
              "        [-0.02367717, -0.02135068,  0.03092508,  0.00522391,\n",
              "          0.00704962, -0.01390643, -0.01633853, -0.03511341,\n",
              "          0.0067677 ,  0.00696958],\n",
              "        [ 0.02164781,  0.04977408, -0.03929586, -0.0015509 ,\n",
              "          0.04000889,  0.03436973,  0.03555692, -0.0476131 ,\n",
              "          0.01174231, -0.01067797],\n",
              "        [-0.02971498,  0.02238036, -0.00117766,  0.02235209,\n",
              "         -0.00241592,  0.03046549, -0.00107608,  0.04819019,\n",
              "         -0.02384973, -0.03380386],\n",
              "        [-0.02471271, -0.02866468, -0.02865238, -0.01798248,\n",
              "         -0.03950733, -0.03802934, -0.01687471, -0.03290422,\n",
              "          0.02990263, -0.02294538],\n",
              "        [-0.0151398 ,  0.00317048,  0.01316538, -0.04766363,\n",
              "          0.04931157,  0.00543467,  0.0362956 ,  0.01617993,\n",
              "          0.01753696,  0.00276751]],\n",
              "\n",
              "       [[-0.00075148,  0.00397871, -0.01305057, -0.014066  ,\n",
              "         -0.01240871,  0.0188851 ,  0.01685417,  0.03079201,\n",
              "          0.04095152,  0.03399625],\n",
              "        [-0.00075148,  0.00397871, -0.01305057, -0.014066  ,\n",
              "         -0.01240871,  0.0188851 ,  0.01685417,  0.03079201,\n",
              "          0.04095152,  0.03399625],\n",
              "        [-0.00075148,  0.00397871, -0.01305057, -0.014066  ,\n",
              "         -0.01240871,  0.0188851 ,  0.01685417,  0.03079201,\n",
              "          0.04095152,  0.03399625],\n",
              "        [-0.00755738,  0.01171748, -0.04622496, -0.04712054,\n",
              "          0.04652664, -0.03313921, -0.04702724, -0.01083807,\n",
              "          0.03366699, -0.002182  ],\n",
              "        [-0.00011346, -0.00307424, -0.01268771, -0.03145186,\n",
              "         -0.01590952,  0.00469643, -0.00602584,  0.01700927,\n",
              "         -0.04648031, -0.047312  ],\n",
              "        [-0.00420511, -0.04082899,  0.01852479, -0.02499576,\n",
              "         -0.03113171,  0.03341879, -0.04717621, -0.02134609,\n",
              "          0.00042523, -0.00356647],\n",
              "        [ 0.03174354, -0.02157664, -0.0473223 ,  0.03600497,\n",
              "          0.03666231, -0.04415934,  0.0405069 ,  0.01072844,\n",
              "         -0.03350802, -0.04904861]]], dtype=float32)"
            ]
          },
          "metadata": {},
          "execution_count": 19
        }
      ]
    },
    {
      "cell_type": "code",
      "source": [],
      "metadata": {
        "id": "WmlYBiGjxFw3"
      },
      "execution_count": null,
      "outputs": []
    }
  ]
}