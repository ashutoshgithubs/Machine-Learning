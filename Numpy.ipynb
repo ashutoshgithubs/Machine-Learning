{
  "nbformat": 4,
  "nbformat_minor": 0,
  "metadata": {
    "colab": {
      "provenance": [],
      "authorship_tag": "ABX9TyNhu8n4QPl0b7R/uEGQrgEy",
      "include_colab_link": true
    },
    "kernelspec": {
      "name": "python3",
      "display_name": "Python 3"
    },
    "language_info": {
      "name": "python"
    }
  },
  "cells": [
    {
      "cell_type": "markdown",
      "metadata": {
        "id": "view-in-github",
        "colab_type": "text"
      },
      "source": [
        "<a href=\"https://colab.research.google.com/github/ashutoshgithubs/Machine-Learning/blob/main/Numpy.ipynb\" target=\"_parent\"><img src=\"https://colab.research.google.com/assets/colab-badge.svg\" alt=\"Open In Colab\"/></a>"
      ]
    },
    {
      "cell_type": "markdown",
      "source": [
        "## Numpy - Numerical Python\n",
        "\n",
        "---\n",
        "1. Allow several mathematical operations\n",
        "2. Faster operations\n",
        "\n"
      ],
      "metadata": {
        "id": "OH1WMWCcQy2p"
      }
    },
    {
      "cell_type": "code",
      "source": [
        "import numpy as np"
      ],
      "metadata": {
        "id": "0K0M07fORFf-"
      },
      "execution_count": null,
      "outputs": []
    },
    {
      "cell_type": "code",
      "source": [
        "from time import process_time"
      ],
      "metadata": {
        "id": "fe37ih6ORIhA"
      },
      "execution_count": null,
      "outputs": []
    },
    {
      "cell_type": "code",
      "source": [
        "my_list = [];\n",
        "n = int(input(\"Enter size of list: \"))\n",
        "for i in range(n):\n",
        "  inp = int(input(\"Enter element:\"))\n",
        "  my_list.append(inp)\n",
        "print(my_list)"
      ],
      "metadata": {
        "colab": {
          "base_uri": "https://localhost:8080/"
        },
        "id": "M7etDLDrRMMa",
        "outputId": "0d20a053-3f16-46db-9d5b-53bbe3a9f98b"
      },
      "execution_count": null,
      "outputs": [
        {
          "output_type": "stream",
          "name": "stdout",
          "text": [
            "Enter size of list: 3\n",
            "Enter element:1\n",
            "Enter element:2\n",
            "Enter element:3\n",
            "[1, 2, 3]\n"
          ]
        }
      ]
    },
    {
      "cell_type": "code",
      "source": [
        "list1 = list(range(100))\n",
        "print(list1)\n"
      ],
      "metadata": {
        "colab": {
          "base_uri": "https://localhost:8080/"
        },
        "id": "cQVeDW5eRavz",
        "outputId": "e5f3ec52-58d5-4b9e-cc48-edfd27eb32d1"
      },
      "execution_count": null,
      "outputs": [
        {
          "output_type": "stream",
          "name": "stdout",
          "text": [
            "[0, 1, 2, 3, 4, 5, 6, 7, 8, 9, 10, 11, 12, 13, 14, 15, 16, 17, 18, 19, 20, 21, 22, 23, 24, 25, 26, 27, 28, 29, 30, 31, 32, 33, 34, 35, 36, 37, 38, 39, 40, 41, 42, 43, 44, 45, 46, 47, 48, 49, 50, 51, 52, 53, 54, 55, 56, 57, 58, 59, 60, 61, 62, 63, 64, 65, 66, 67, 68, 69, 70, 71, 72, 73, 74, 75, 76, 77, 78, 79, 80, 81, 82, 83, 84, 85, 86, 87, 88, 89, 90, 91, 92, 93, 94, 95, 96, 97, 98, 99]\n"
          ]
        }
      ]
    },
    {
      "cell_type": "markdown",
      "source": [
        "## Comapring time of execution of a list and a numpy"
      ],
      "metadata": {
        "id": "KEk6QuQTS3a4"
      }
    },
    {
      "cell_type": "code",
      "source": [
        "my_list1 = list(range(10000))\n",
        "start_time = process_time()\n",
        "my_list1 = [i+5 for i in my_list1] # we can also write this line using for loop by creating a new list and appending the values from old list\n",
        "end_time = process_time()\n",
        "print(end_time - start_time)"
      ],
      "metadata": {
        "colab": {
          "base_uri": "https://localhost:8080/"
        },
        "id": "PAjIWPULS-qR",
        "outputId": "60bf7a00-710b-4ca6-f8f9-8c15b8ce5abc"
      },
      "execution_count": null,
      "outputs": [
        {
          "output_type": "stream",
          "name": "stdout",
          "text": [
            "0.0007102379999999187\n"
          ]
        }
      ]
    },
    {
      "cell_type": "code",
      "source": [
        "new_list = [i for i in range(10)]\n",
        "print(new_list)"
      ],
      "metadata": {
        "colab": {
          "base_uri": "https://localhost:8080/"
        },
        "id": "2xrQJa6nT0dv",
        "outputId": "15514e1c-b1c2-434c-e9dd-71170ab0a18f"
      },
      "execution_count": null,
      "outputs": [
        {
          "output_type": "stream",
          "name": "stdout",
          "text": [
            "[0, 1, 2, 3, 4, 5, 6, 7, 8, 9]\n"
          ]
        }
      ]
    },
    {
      "cell_type": "code",
      "source": [
        "# Now doing the above using numpy\n",
        "\n",
        "np_array = np.array([i for i in range(10000)])\n",
        "start_time = process_time()\n",
        "np_array+=5\n",
        "end_time = process_time()\n",
        "print(end_time - start_time)"
      ],
      "metadata": {
        "colab": {
          "base_uri": "https://localhost:8080/"
        },
        "id": "ALAkm92WULL8",
        "outputId": "81c25a20-22b7-47bf-cb2e-512d8cdee9ab"
      },
      "execution_count": null,
      "outputs": [
        {
          "output_type": "stream",
          "name": "stdout",
          "text": [
            "0.0010704879999998695\n"
          ]
        }
      ]
    },
    {
      "cell_type": "markdown",
      "source": [
        "## Different Operations on numpy"
      ],
      "metadata": {
        "id": "N_Yg-i29WE3Z"
      }
    },
    {
      "cell_type": "code",
      "source": [
        "a = np.array([1,2,3,4]) # By default dtype is integer\n",
        "print(a)\n",
        "a.shape   # tells the size of the matrix. Here it has 4 col and 1 row"
      ],
      "metadata": {
        "colab": {
          "base_uri": "https://localhost:8080/"
        },
        "id": "6K2BVzGIWMtt",
        "outputId": "c1a1f424-a9de-4145-bdb5-4a836f267b1c"
      },
      "execution_count": null,
      "outputs": [
        {
          "output_type": "stream",
          "name": "stdout",
          "text": [
            "[1 2 3 4]\n"
          ]
        },
        {
          "output_type": "execute_result",
          "data": {
            "text/plain": [
              "(4,)"
            ]
          },
          "metadata": {},
          "execution_count": 14
        }
      ]
    },
    {
      "cell_type": "code",
      "source": [
        "b = np.array([(1,2,3,4),(5,6,7,8)], dtype= float)\n",
        "print(b)\n",
        "b.shape"
      ],
      "metadata": {
        "colab": {
          "base_uri": "https://localhost:8080/"
        },
        "id": "Q5jKLcQtWTnR",
        "outputId": "86f514f6-71b3-4b3e-8fda-40bb26ec5e4e"
      },
      "execution_count": null,
      "outputs": [
        {
          "output_type": "stream",
          "name": "stdout",
          "text": [
            "[[1. 2. 3. 4.]\n",
            " [5. 6. 7. 8.]]\n"
          ]
        },
        {
          "output_type": "execute_result",
          "data": {
            "text/plain": [
              "(2, 4)"
            ]
          },
          "metadata": {},
          "execution_count": 17
        }
      ]
    },
    {
      "cell_type": "markdown",
      "source": [
        "## Initial Placeholder in numpy array"
      ],
      "metadata": {
        "id": "zwcKyAxgXR7s"
      }
    },
    {
      "cell_type": "code",
      "source": [
        "x = np.zeros((3,4), dtype=int)\n",
        "print(x)"
      ],
      "metadata": {
        "colab": {
          "base_uri": "https://localhost:8080/"
        },
        "id": "XoFH0XzBXV8_",
        "outputId": "65e26765-4dcf-462e-9827-c37bdc26c708"
      },
      "execution_count": null,
      "outputs": [
        {
          "output_type": "stream",
          "name": "stdout",
          "text": [
            "[[0 0 0 0]\n",
            " [0 0 0 0]\n",
            " [0 0 0 0]]\n"
          ]
        }
      ]
    },
    {
      "cell_type": "code",
      "source": [
        "y = np.ones((3,4)) # Here one will be floating points\n",
        "print(y)"
      ],
      "metadata": {
        "colab": {
          "base_uri": "https://localhost:8080/"
        },
        "id": "fQJV2Cq4XfRK",
        "outputId": "16ea1796-9032-4bb1-faf1-17256b2cefa7"
      },
      "execution_count": null,
      "outputs": [
        {
          "output_type": "stream",
          "name": "stdout",
          "text": [
            "[[1. 1. 1. 1.]\n",
            " [1. 1. 1. 1.]\n",
            " [1. 1. 1. 1.]]\n"
          ]
        }
      ]
    },
    {
      "cell_type": "code",
      "source": [
        "z = np.full((3,3),6) # here all values will be 6\n",
        "print(z)"
      ],
      "metadata": {
        "colab": {
          "base_uri": "https://localhost:8080/"
        },
        "id": "sRxCcGPNXruj",
        "outputId": "a051ac89-6bbd-4c85-ff56-b4e6430b5c70"
      },
      "execution_count": null,
      "outputs": [
        {
          "output_type": "stream",
          "name": "stdout",
          "text": [
            "[[6 6 6]\n",
            " [6 6 6]\n",
            " [6 6 6]]\n"
          ]
        }
      ]
    },
    {
      "cell_type": "code",
      "source": [
        "# Indentity matrix where all digonal elements are 1\n",
        "p = np.eye(3,dtype=int)\n",
        "print(p)"
      ],
      "metadata": {
        "colab": {
          "base_uri": "https://localhost:8080/"
        },
        "id": "UXPe2Xg8YElQ",
        "outputId": "72a5e6bf-d66f-4fcf-f9d3-356996d59ca7"
      },
      "execution_count": null,
      "outputs": [
        {
          "output_type": "stream",
          "name": "stdout",
          "text": [
            "[[1 0 0]\n",
            " [0 1 0]\n",
            " [0 0 1]]\n"
          ]
        }
      ]
    },
    {
      "cell_type": "code",
      "source": [
        "# Creating a Numpy array with random values\n",
        "import numpy as np\n",
        "rand_array = np.random.random((3,4))\n",
        "print(rand_array) #print values ranging from 0 to 1"
      ],
      "metadata": {
        "id": "FidOk2vZYiF8",
        "colab": {
          "base_uri": "https://localhost:8080/"
        },
        "outputId": "a1c03620-5a2b-4147-99f7-02100ac680b3"
      },
      "execution_count": null,
      "outputs": [
        {
          "output_type": "stream",
          "name": "stdout",
          "text": [
            "[[0.11573797 0.80028037 0.56839764 0.23403326]\n",
            " [0.23679739 0.39801797 0.37583211 0.92420585]\n",
            " [0.22813394 0.45987856 0.96688196 0.10657941]]\n"
          ]
        }
      ]
    },
    {
      "cell_type": "code",
      "source": [
        "# Creating a Numpy array with specific random values\n",
        "newRand_arr = np.random.randint(10,100,(3,5))\n",
        "print(newRand_arr)"
      ],
      "metadata": {
        "colab": {
          "base_uri": "https://localhost:8080/"
        },
        "id": "88v5fEp3A6DQ",
        "outputId": "84f6fde8-5b56-4e21-899e-3bba3b4e818d"
      },
      "execution_count": null,
      "outputs": [
        {
          "output_type": "stream",
          "name": "stdout",
          "text": [
            "[[41 40 69 14 64]\n",
            " [26 72 55 52 72]\n",
            " [83 14 55 56 58]]\n"
          ]
        }
      ]
    },
    {
      "cell_type": "code",
      "source": [
        "# Array of evenly spaced values -> specifying the number of values required\n",
        "d = np.linspace(10,40,6) # gives 6 values between 10 to 40 with evenly spaced\n",
        "print(d)"
      ],
      "metadata": {
        "colab": {
          "base_uri": "https://localhost:8080/"
        },
        "id": "k6VcK3DoB2K9",
        "outputId": "42299bd9-34fd-4c1b-c0e6-b091282ff779"
      },
      "execution_count": null,
      "outputs": [
        {
          "output_type": "stream",
          "name": "stdout",
          "text": [
            "[10. 16. 22. 28. 34. 40.]\n"
          ]
        }
      ]
    },
    {
      "cell_type": "code",
      "source": [
        "# Array of evenly spaced values -> specifying the steps\n",
        "e = np.arange(10,40,6) # gives values between 10 to 40 with space = 6\n",
        "print(e)"
      ],
      "metadata": {
        "colab": {
          "base_uri": "https://localhost:8080/"
        },
        "id": "o4vgP3sED_OV",
        "outputId": "41a84a0c-c83d-43a5-a895-d6549f64a5b4"
      },
      "execution_count": null,
      "outputs": [
        {
          "output_type": "stream",
          "name": "stdout",
          "text": [
            "[10 16 22 28 34]\n"
          ]
        }
      ]
    },
    {
      "cell_type": "code",
      "source": [
        "# Conerting a list to numpy array\n",
        "list3 = [1,2,3,4]\n",
        "np_arr = np.asarray(list3)\n",
        "print(np_arr)\n",
        "type(np_arr)"
      ],
      "metadata": {
        "colab": {
          "base_uri": "https://localhost:8080/"
        },
        "id": "7t0I8i-yERzw",
        "outputId": "aab03230-9933-4b75-993f-a968edcd01a1"
      },
      "execution_count": null,
      "outputs": [
        {
          "output_type": "stream",
          "name": "stdout",
          "text": [
            "[1 2 3 4]\n"
          ]
        },
        {
          "output_type": "execute_result",
          "data": {
            "text/plain": [
              "numpy.ndarray"
            ]
          },
          "metadata": {},
          "execution_count": 10
        }
      ]
    },
    {
      "cell_type": "markdown",
      "source": [
        "## Analysing numpy array"
      ],
      "metadata": {
        "id": "pHnxsep7FekR"
      }
    },
    {
      "cell_type": "code",
      "source": [
        "num_arr = np.random.randint(10,100,(3,5))\n",
        "print(num_arr)"
      ],
      "metadata": {
        "colab": {
          "base_uri": "https://localhost:8080/"
        },
        "id": "XaUhBVBiFihR",
        "outputId": "43c74d1b-5870-48cb-a44b-02bc52271768"
      },
      "execution_count": null,
      "outputs": [
        {
          "output_type": "stream",
          "name": "stdout",
          "text": [
            "[[56 57 86 17 35]\n",
            " [75 78 32 60 75]\n",
            " [28 27 14 88 16]]\n"
          ]
        }
      ]
    },
    {
      "cell_type": "code",
      "source": [
        "# FInding no of rows and col\n",
        "print(num_arr.shape)"
      ],
      "metadata": {
        "colab": {
          "base_uri": "https://localhost:8080/"
        },
        "id": "jb0IwDy5Fsio",
        "outputId": "c44467b5-e7b8-4597-e17e-8076ec9c0f6f"
      },
      "execution_count": null,
      "outputs": [
        {
          "output_type": "stream",
          "name": "stdout",
          "text": [
            "(3, 5)\n"
          ]
        }
      ]
    },
    {
      "cell_type": "code",
      "source": [
        "# Finding dimension of array whether its a 2D or 3D\n",
        "print(num_arr.ndim)"
      ],
      "metadata": {
        "colab": {
          "base_uri": "https://localhost:8080/"
        },
        "id": "M0JnGettFz5V",
        "outputId": "35bf641b-1ee1-493f-d8cd-a444c5505d6c"
      },
      "execution_count": null,
      "outputs": [
        {
          "output_type": "stream",
          "name": "stdout",
          "text": [
            "2\n"
          ]
        }
      ]
    },
    {
      "cell_type": "code",
      "source": [
        "# FInding the number of elements in the arrat\n",
        "print(num_arr.size)"
      ],
      "metadata": {
        "colab": {
          "base_uri": "https://localhost:8080/"
        },
        "id": "hAZiIaBbF_KL",
        "outputId": "aa2d1b64-6a39-4dcd-a9d1-1e5d58f40a5b"
      },
      "execution_count": null,
      "outputs": [
        {
          "output_type": "stream",
          "name": "stdout",
          "text": [
            "15\n"
          ]
        }
      ]
    },
    {
      "cell_type": "code",
      "source": [
        "# Finding the data type of the array\n",
        "print(num_arr.dtype)"
      ],
      "metadata": {
        "colab": {
          "base_uri": "https://localhost:8080/"
        },
        "id": "onhPxKrCGFVM",
        "outputId": "0126ce84-0106-4b74-85b8-7af80c303e7d"
      },
      "execution_count": null,
      "outputs": [
        {
          "output_type": "stream",
          "name": "stdout",
          "text": [
            "int64\n"
          ]
        }
      ]
    },
    {
      "cell_type": "markdown",
      "source": [
        "## Mathematical operations on numpy array"
      ],
      "metadata": {
        "id": "01ANlrM5HGO4"
      }
    },
    {
      "cell_type": "code",
      "source": [
        "l1 = [1,2,3]\n",
        "l2 = [4,5,6]\n",
        "print(l1+l2) # List here perform concatenation not add operation"
      ],
      "metadata": {
        "colab": {
          "base_uri": "https://localhost:8080/"
        },
        "id": "M33cPCM4HLVx",
        "outputId": "641ea2e2-82fb-4537-abba-c468d2437437"
      },
      "execution_count": null,
      "outputs": [
        {
          "output_type": "stream",
          "name": "stdout",
          "text": [
            "[1, 2, 3, 4, 5, 6]\n"
          ]
        }
      ]
    },
    {
      "cell_type": "code",
      "source": [
        "np1 = np.random.randint(0,10,(3,3))\n",
        "np2 = np.random.randint(10,20,(3,3))\n",
        "print(np1)\n",
        "print(np2)"
      ],
      "metadata": {
        "colab": {
          "base_uri": "https://localhost:8080/"
        },
        "id": "vhT8lf4eHSmW",
        "outputId": "91105d18-493a-4979-cc6b-fcbdda4b9422"
      },
      "execution_count": null,
      "outputs": [
        {
          "output_type": "stream",
          "name": "stdout",
          "text": [
            "[[0 6 8]\n",
            " [6 4 9]\n",
            " [6 9 7]]\n",
            "[[10 14 14]\n",
            " [19 11 13]\n",
            " [13 13 14]]\n"
          ]
        }
      ]
    },
    {
      "cell_type": "code",
      "source": [
        "print(np.add(np1,np2)) # we can also write print(np1+np2)\n",
        "print(np.subtract(np1,np2))\n",
        "print(np.multiply(np1,np2))\n",
        "print(np.divide(np1,np2))"
      ],
      "metadata": {
        "colab": {
          "base_uri": "https://localhost:8080/"
        },
        "id": "rteupBtnHlgR",
        "outputId": "36bdca6d-4940-4fca-ab60-2a365f22c26b"
      },
      "execution_count": null,
      "outputs": [
        {
          "output_type": "stream",
          "name": "stdout",
          "text": [
            "[[10 20 22]\n",
            " [25 15 22]\n",
            " [19 22 21]]\n",
            "[[-10  -8  -6]\n",
            " [-13  -7  -4]\n",
            " [ -7  -4  -7]]\n",
            "[[  0  84 112]\n",
            " [114  44 117]\n",
            " [ 78 117  98]]\n",
            "[[0.         0.42857143 0.57142857]\n",
            " [0.31578947 0.36363636 0.69230769]\n",
            " [0.46153846 0.69230769 0.5       ]]\n"
          ]
        }
      ]
    },
    {
      "cell_type": "markdown",
      "source": [
        "## Array Manipulation"
      ],
      "metadata": {
        "id": "XfIM8gyiIbjO"
      }
    },
    {
      "cell_type": "code",
      "source": [
        "r1 = np.random.randint(0,10,(3,4))\n",
        "print(r1)\n",
        "print(r1.shape)"
      ],
      "metadata": {
        "colab": {
          "base_uri": "https://localhost:8080/"
        },
        "id": "REZrtI8KIeIh",
        "outputId": "21af1aed-4607-4600-a6db-0ff234becc99"
      },
      "execution_count": null,
      "outputs": [
        {
          "output_type": "stream",
          "name": "stdout",
          "text": [
            "[[5 1 8 5]\n",
            " [9 5 9 0]\n",
            " [7 3 8 8]]\n",
            "(3, 4)\n"
          ]
        }
      ]
    },
    {
      "cell_type": "code",
      "source": [
        "# Transpose of r1\n",
        "print(np.transpose(r1)) # ALso we can write : trans = r1.T\n",
        "print(np.transpose(r1).shape)"
      ],
      "metadata": {
        "colab": {
          "base_uri": "https://localhost:8080/"
        },
        "id": "nwu4WEnjIsIm",
        "outputId": "f53c9b64-5391-463d-8418-7a7af4b294ee"
      },
      "execution_count": null,
      "outputs": [
        {
          "output_type": "stream",
          "name": "stdout",
          "text": [
            "[[5 9 7]\n",
            " [1 5 3]\n",
            " [8 9 8]\n",
            " [5 0 8]]\n",
            "(4, 3)\n"
          ]
        }
      ]
    },
    {
      "cell_type": "code",
      "source": [],
      "metadata": {
        "id": "vI1K3BcwI3HC"
      },
      "execution_count": null,
      "outputs": []
    }
  ]
}