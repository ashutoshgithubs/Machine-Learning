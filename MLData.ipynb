{
  "nbformat": 4,
  "nbformat_minor": 0,
  "metadata": {
    "colab": {
      "provenance": [],
      "authorship_tag": "ABX9TyO6vMUjSX4PAhJ8EW/q8WTh",
      "include_colab_link": true
    },
    "kernelspec": {
      "name": "python3",
      "display_name": "Python 3"
    },
    "language_info": {
      "name": "python"
    }
  },
  "cells": [
    {
      "cell_type": "markdown",
      "metadata": {
        "id": "view-in-github",
        "colab_type": "text"
      },
      "source": [
        "<a href=\"https://colab.research.google.com/github/ashutoshgithubs/Machine-Learning/blob/main/MLData.ipynb\" target=\"_parent\"><img src=\"https://colab.research.google.com/assets/colab-badge.svg\" alt=\"Open In Colab\"/></a>"
      ]
    },
    {
      "cell_type": "markdown",
      "source": [
        "## ML Data collection sites : Where to collect data for ML\n",
        "\n",
        "\n",
        "*   Kaggle\n",
        "*   UCI ML repository\n",
        "*   Goole dataset search\n",
        "\n",
        "\n",
        "\n"
      ],
      "metadata": {
        "id": "2cQGbV1brjw0"
      }
    },
    {
      "cell_type": "markdown",
      "source": [
        "# Importing dataset through Kaggle API"
      ],
      "metadata": {
        "id": "J0NwxfuYtYnH"
      }
    },
    {
      "cell_type": "markdown",
      "source": [
        " pip instal something -> means its a system command which tells the OS to perform certain taks like listening to a file, downloading a software, etc\n",
        "\n",
        " If we have to use system cmd in python or jupyter we have to use '!' at the beginning..."
      ],
      "metadata": {
        "id": "NJMylgsDwigl"
      }
    },
    {
      "cell_type": "code",
      "execution_count": null,
      "metadata": {
        "colab": {
          "base_uri": "https://localhost:8080/"
        },
        "id": "GVqT3t4rrWsp",
        "outputId": "228159c7-42ac-4d7a-8949-fecda66284f0"
      },
      "outputs": [
        {
          "output_type": "stream",
          "name": "stdout",
          "text": [
            "Requirement already satisfied: kaggle in /usr/local/lib/python3.11/dist-packages (1.7.4.2)\n",
            "Requirement already satisfied: bleach in /usr/local/lib/python3.11/dist-packages (from kaggle) (6.2.0)\n",
            "Requirement already satisfied: certifi>=14.05.14 in /usr/local/lib/python3.11/dist-packages (from kaggle) (2025.1.31)\n",
            "Requirement already satisfied: charset-normalizer in /usr/local/lib/python3.11/dist-packages (from kaggle) (3.4.1)\n",
            "Requirement already satisfied: idna in /usr/local/lib/python3.11/dist-packages (from kaggle) (3.10)\n",
            "Requirement already satisfied: protobuf in /usr/local/lib/python3.11/dist-packages (from kaggle) (5.29.4)\n",
            "Requirement already satisfied: python-dateutil>=2.5.3 in /usr/local/lib/python3.11/dist-packages (from kaggle) (2.8.2)\n",
            "Requirement already satisfied: python-slugify in /usr/local/lib/python3.11/dist-packages (from kaggle) (8.0.4)\n",
            "Requirement already satisfied: requests in /usr/local/lib/python3.11/dist-packages (from kaggle) (2.32.3)\n",
            "Requirement already satisfied: setuptools>=21.0.0 in /usr/local/lib/python3.11/dist-packages (from kaggle) (75.2.0)\n",
            "Requirement already satisfied: six>=1.10 in /usr/local/lib/python3.11/dist-packages (from kaggle) (1.17.0)\n",
            "Requirement already satisfied: text-unidecode in /usr/local/lib/python3.11/dist-packages (from kaggle) (1.3)\n",
            "Requirement already satisfied: tqdm in /usr/local/lib/python3.11/dist-packages (from kaggle) (4.67.1)\n",
            "Requirement already satisfied: urllib3>=1.15.1 in /usr/local/lib/python3.11/dist-packages (from kaggle) (2.3.0)\n",
            "Requirement already satisfied: webencodings in /usr/local/lib/python3.11/dist-packages (from kaggle) (0.5.1)\n"
          ]
        }
      ],
      "source": [
        "!pip install kaggle\n"
      ]
    },
    {
      "cell_type": "markdown",
      "source": [
        "Upload the kaggle.json file"
      ],
      "metadata": {
        "id": "Dfz6y0Zxw4_c"
      }
    },
    {
      "cell_type": "code",
      "source": [
        "#Configuring the path of kaggle.json file\n",
        "!mkdir -p ~/.kaggle\n",
        "!cp kaggle.json ~/.kaggle/\n",
        "!chmod 600 ~/.kaggle/kaggle.json"
      ],
      "metadata": {
        "id": "N2-oDT7Wtn6i"
      },
      "execution_count": null,
      "outputs": []
    },
    {
      "cell_type": "markdown",
      "source": [
        "**!mkdir -p ~/.kaggle**\n",
        "\n",
        "mkdir = Make Directory\n",
        "-p = Creates parent directories if needed (won't throw an error if it already exists)\n",
        "\n",
        "~ /.kaggle = Creates a hidden .kaggle directory in the home directory (~)\n",
        "\n",
        "**!cp kaggle.json ~/.kaggle/**\n",
        "\n",
        "cp = Copy\n",
        "\n",
        "Copies your kaggle.json file (which contains your API credentials) into the .kaggle directory.\n",
        "\n",
        "\n",
        "**!chmod 600 ~/.kaggle/kaggle.json**\n",
        "\n",
        "chmod = Change permissions\n",
        "\n",
        "600 =\n",
        "\n",
        "Owner: read and write\n",
        "\n",
        "Group: no access\n",
        "\n",
        "Others: no access"
      ],
      "metadata": {
        "id": "633B8nV3yQw2"
      }
    },
    {
      "cell_type": "markdown",
      "source": [
        "# Importing the earthquak dataset"
      ],
      "metadata": {
        "id": "V1YQxgY4zErJ"
      }
    },
    {
      "cell_type": "code",
      "source": [
        "# API to fetch the dataset\n",
        "!kaggle competitions download -c LANL-Earthquake-Prediction"
      ],
      "metadata": {
        "id": "Dkxldo4Uy1wM"
      },
      "execution_count": 8,
      "outputs": []
    },
    {
      "cell_type": "code",
      "source": [
        "# Extracting the compressed Dataset\n",
        "from zipfile import ZipFile\n",
        "with ZipFile('/content/LANL-Earthquake-Prediction.zip','r') as zip:\n",
        "  zip.extractall()\n",
        "  print('The dataset is extracted')"
      ],
      "metadata": {
        "id": "LCdILDq3zWRj",
        "colab": {
          "base_uri": "https://localhost:8080/"
        },
        "outputId": "3d333a43-211d-4e30-dc14-4df3a248ca7b"
      },
      "execution_count": 9,
      "outputs": [
        {
          "output_type": "stream",
          "name": "stdout",
          "text": [
            "The dataset is extracted\n"
          ]
        }
      ]
    },
    {
      "cell_type": "code",
      "source": [],
      "metadata": {
        "id": "S7y6e7w7Du1F"
      },
      "execution_count": null,
      "outputs": []
    }
  ]
}