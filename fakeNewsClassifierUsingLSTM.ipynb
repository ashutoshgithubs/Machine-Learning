{
  "nbformat": 4,
  "nbformat_minor": 0,
  "metadata": {
    "colab": {
      "provenance": [],
      "authorship_tag": "ABX9TyNZECUy8X8NBGF58MxqocgF",
      "include_colab_link": true
    },
    "kernelspec": {
      "name": "python3",
      "display_name": "Python 3"
    },
    "language_info": {
      "name": "python"
    }
  },
  "cells": [
    {
      "cell_type": "markdown",
      "metadata": {
        "id": "view-in-github",
        "colab_type": "text"
      },
      "source": [
        "<a href=\"https://colab.research.google.com/github/ashutoshgithubs/Machine-Learning/blob/main/fakeNewsClassifierUsingLSTM.ipynb\" target=\"_parent\"><img src=\"https://colab.research.google.com/assets/colab-badge.svg\" alt=\"Open In Colab\"/></a>"
      ]
    },
    {
      "cell_type": "code",
      "execution_count": 10,
      "metadata": {
        "id": "Zd5qSVOZM_y1"
      },
      "outputs": [],
      "source": [
        "import pandas as pd"
      ]
    },
    {
      "cell_type": "code",
      "source": [
        "df = pd.read_csv('/content/fake_train.csv',\n",
        "                 engine='python',\n",
        "                 encoding='utf-8',\n",
        "                 quotechar='\"',\n",
        "                 skipinitialspace=True,\n",
        "                 on_bad_lines='skip')"
      ],
      "metadata": {
        "id": "2vaFWcMqQ_au"
      },
      "execution_count": 11,
      "outputs": []
    },
    {
      "cell_type": "code",
      "source": [
        "df.head()"
      ],
      "metadata": {
        "id": "VfOa4swsR8-p",
        "colab": {
          "base_uri": "https://localhost:8080/",
          "height": 206
        },
        "outputId": "d3fb9962-baac-4068-dbb3-fec305e0fa96"
      },
      "execution_count": 12,
      "outputs": [
        {
          "output_type": "execute_result",
          "data": {
            "text/plain": [
              "   id                                              title              author  \\\n",
              "0   0  House Dem Aide: We Didn’t Even See Comey’s Let...       Darrell Lucus   \n",
              "1   1  FLYNN: Hillary Clinton, Big Woman on Campus - ...     Daniel J. Flynn   \n",
              "2   2                  Why the Truth Might Get You Fired  Consortiumnews.com   \n",
              "3   3  15 Civilians Killed In Single US Airstrike Hav...     Jessica Purkiss   \n",
              "4   4  Iranian woman jailed for fictional unpublished...      Howard Portnoy   \n",
              "\n",
              "                                                text  label  \n",
              "0  House Dem Aide: We Didn’t Even See Comey’s Let...      1  \n",
              "1  Ever get the feeling your life circles the rou...      0  \n",
              "2  Why the Truth Might Get You Fired October 29, ...      1  \n",
              "3  Videos 15 Civilians Killed In Single US Airstr...      1  \n",
              "4  Print \\nAn Iranian woman has been sentenced to...      1  "
            ],
            "text/html": [
              "\n",
              "  <div id=\"df-0f6bba71-fa69-49f6-80b5-46c19dfd5b58\" class=\"colab-df-container\">\n",
              "    <div>\n",
              "<style scoped>\n",
              "    .dataframe tbody tr th:only-of-type {\n",
              "        vertical-align: middle;\n",
              "    }\n",
              "\n",
              "    .dataframe tbody tr th {\n",
              "        vertical-align: top;\n",
              "    }\n",
              "\n",
              "    .dataframe thead th {\n",
              "        text-align: right;\n",
              "    }\n",
              "</style>\n",
              "<table border=\"1\" class=\"dataframe\">\n",
              "  <thead>\n",
              "    <tr style=\"text-align: right;\">\n",
              "      <th></th>\n",
              "      <th>id</th>\n",
              "      <th>title</th>\n",
              "      <th>author</th>\n",
              "      <th>text</th>\n",
              "      <th>label</th>\n",
              "    </tr>\n",
              "  </thead>\n",
              "  <tbody>\n",
              "    <tr>\n",
              "      <th>0</th>\n",
              "      <td>0</td>\n",
              "      <td>House Dem Aide: We Didn’t Even See Comey’s Let...</td>\n",
              "      <td>Darrell Lucus</td>\n",
              "      <td>House Dem Aide: We Didn’t Even See Comey’s Let...</td>\n",
              "      <td>1</td>\n",
              "    </tr>\n",
              "    <tr>\n",
              "      <th>1</th>\n",
              "      <td>1</td>\n",
              "      <td>FLYNN: Hillary Clinton, Big Woman on Campus - ...</td>\n",
              "      <td>Daniel J. Flynn</td>\n",
              "      <td>Ever get the feeling your life circles the rou...</td>\n",
              "      <td>0</td>\n",
              "    </tr>\n",
              "    <tr>\n",
              "      <th>2</th>\n",
              "      <td>2</td>\n",
              "      <td>Why the Truth Might Get You Fired</td>\n",
              "      <td>Consortiumnews.com</td>\n",
              "      <td>Why the Truth Might Get You Fired October 29, ...</td>\n",
              "      <td>1</td>\n",
              "    </tr>\n",
              "    <tr>\n",
              "      <th>3</th>\n",
              "      <td>3</td>\n",
              "      <td>15 Civilians Killed In Single US Airstrike Hav...</td>\n",
              "      <td>Jessica Purkiss</td>\n",
              "      <td>Videos 15 Civilians Killed In Single US Airstr...</td>\n",
              "      <td>1</td>\n",
              "    </tr>\n",
              "    <tr>\n",
              "      <th>4</th>\n",
              "      <td>4</td>\n",
              "      <td>Iranian woman jailed for fictional unpublished...</td>\n",
              "      <td>Howard Portnoy</td>\n",
              "      <td>Print \\nAn Iranian woman has been sentenced to...</td>\n",
              "      <td>1</td>\n",
              "    </tr>\n",
              "  </tbody>\n",
              "</table>\n",
              "</div>\n",
              "    <div class=\"colab-df-buttons\">\n",
              "\n",
              "  <div class=\"colab-df-container\">\n",
              "    <button class=\"colab-df-convert\" onclick=\"convertToInteractive('df-0f6bba71-fa69-49f6-80b5-46c19dfd5b58')\"\n",
              "            title=\"Convert this dataframe to an interactive table.\"\n",
              "            style=\"display:none;\">\n",
              "\n",
              "  <svg xmlns=\"http://www.w3.org/2000/svg\" height=\"24px\" viewBox=\"0 -960 960 960\">\n",
              "    <path d=\"M120-120v-720h720v720H120Zm60-500h600v-160H180v160Zm220 220h160v-160H400v160Zm0 220h160v-160H400v160ZM180-400h160v-160H180v160Zm440 0h160v-160H620v160ZM180-180h160v-160H180v160Zm440 0h160v-160H620v160Z\"/>\n",
              "  </svg>\n",
              "    </button>\n",
              "\n",
              "  <style>\n",
              "    .colab-df-container {\n",
              "      display:flex;\n",
              "      gap: 12px;\n",
              "    }\n",
              "\n",
              "    .colab-df-convert {\n",
              "      background-color: #E8F0FE;\n",
              "      border: none;\n",
              "      border-radius: 50%;\n",
              "      cursor: pointer;\n",
              "      display: none;\n",
              "      fill: #1967D2;\n",
              "      height: 32px;\n",
              "      padding: 0 0 0 0;\n",
              "      width: 32px;\n",
              "    }\n",
              "\n",
              "    .colab-df-convert:hover {\n",
              "      background-color: #E2EBFA;\n",
              "      box-shadow: 0px 1px 2px rgba(60, 64, 67, 0.3), 0px 1px 3px 1px rgba(60, 64, 67, 0.15);\n",
              "      fill: #174EA6;\n",
              "    }\n",
              "\n",
              "    .colab-df-buttons div {\n",
              "      margin-bottom: 4px;\n",
              "    }\n",
              "\n",
              "    [theme=dark] .colab-df-convert {\n",
              "      background-color: #3B4455;\n",
              "      fill: #D2E3FC;\n",
              "    }\n",
              "\n",
              "    [theme=dark] .colab-df-convert:hover {\n",
              "      background-color: #434B5C;\n",
              "      box-shadow: 0px 1px 3px 1px rgba(0, 0, 0, 0.15);\n",
              "      filter: drop-shadow(0px 1px 2px rgba(0, 0, 0, 0.3));\n",
              "      fill: #FFFFFF;\n",
              "    }\n",
              "  </style>\n",
              "\n",
              "    <script>\n",
              "      const buttonEl =\n",
              "        document.querySelector('#df-0f6bba71-fa69-49f6-80b5-46c19dfd5b58 button.colab-df-convert');\n",
              "      buttonEl.style.display =\n",
              "        google.colab.kernel.accessAllowed ? 'block' : 'none';\n",
              "\n",
              "      async function convertToInteractive(key) {\n",
              "        const element = document.querySelector('#df-0f6bba71-fa69-49f6-80b5-46c19dfd5b58');\n",
              "        const dataTable =\n",
              "          await google.colab.kernel.invokeFunction('convertToInteractive',\n",
              "                                                    [key], {});\n",
              "        if (!dataTable) return;\n",
              "\n",
              "        const docLinkHtml = 'Like what you see? Visit the ' +\n",
              "          '<a target=\"_blank\" href=https://colab.research.google.com/notebooks/data_table.ipynb>data table notebook</a>'\n",
              "          + ' to learn more about interactive tables.';\n",
              "        element.innerHTML = '';\n",
              "        dataTable['output_type'] = 'display_data';\n",
              "        await google.colab.output.renderOutput(dataTable, element);\n",
              "        const docLink = document.createElement('div');\n",
              "        docLink.innerHTML = docLinkHtml;\n",
              "        element.appendChild(docLink);\n",
              "      }\n",
              "    </script>\n",
              "  </div>\n",
              "\n",
              "\n",
              "    <div id=\"df-3180c25d-5182-4f9d-ad6a-dfc2205b3399\">\n",
              "      <button class=\"colab-df-quickchart\" onclick=\"quickchart('df-3180c25d-5182-4f9d-ad6a-dfc2205b3399')\"\n",
              "                title=\"Suggest charts\"\n",
              "                style=\"display:none;\">\n",
              "\n",
              "<svg xmlns=\"http://www.w3.org/2000/svg\" height=\"24px\"viewBox=\"0 0 24 24\"\n",
              "     width=\"24px\">\n",
              "    <g>\n",
              "        <path d=\"M19 3H5c-1.1 0-2 .9-2 2v14c0 1.1.9 2 2 2h14c1.1 0 2-.9 2-2V5c0-1.1-.9-2-2-2zM9 17H7v-7h2v7zm4 0h-2V7h2v10zm4 0h-2v-4h2v4z\"/>\n",
              "    </g>\n",
              "</svg>\n",
              "      </button>\n",
              "\n",
              "<style>\n",
              "  .colab-df-quickchart {\n",
              "      --bg-color: #E8F0FE;\n",
              "      --fill-color: #1967D2;\n",
              "      --hover-bg-color: #E2EBFA;\n",
              "      --hover-fill-color: #174EA6;\n",
              "      --disabled-fill-color: #AAA;\n",
              "      --disabled-bg-color: #DDD;\n",
              "  }\n",
              "\n",
              "  [theme=dark] .colab-df-quickchart {\n",
              "      --bg-color: #3B4455;\n",
              "      --fill-color: #D2E3FC;\n",
              "      --hover-bg-color: #434B5C;\n",
              "      --hover-fill-color: #FFFFFF;\n",
              "      --disabled-bg-color: #3B4455;\n",
              "      --disabled-fill-color: #666;\n",
              "  }\n",
              "\n",
              "  .colab-df-quickchart {\n",
              "    background-color: var(--bg-color);\n",
              "    border: none;\n",
              "    border-radius: 50%;\n",
              "    cursor: pointer;\n",
              "    display: none;\n",
              "    fill: var(--fill-color);\n",
              "    height: 32px;\n",
              "    padding: 0;\n",
              "    width: 32px;\n",
              "  }\n",
              "\n",
              "  .colab-df-quickchart:hover {\n",
              "    background-color: var(--hover-bg-color);\n",
              "    box-shadow: 0 1px 2px rgba(60, 64, 67, 0.3), 0 1px 3px 1px rgba(60, 64, 67, 0.15);\n",
              "    fill: var(--button-hover-fill-color);\n",
              "  }\n",
              "\n",
              "  .colab-df-quickchart-complete:disabled,\n",
              "  .colab-df-quickchart-complete:disabled:hover {\n",
              "    background-color: var(--disabled-bg-color);\n",
              "    fill: var(--disabled-fill-color);\n",
              "    box-shadow: none;\n",
              "  }\n",
              "\n",
              "  .colab-df-spinner {\n",
              "    border: 2px solid var(--fill-color);\n",
              "    border-color: transparent;\n",
              "    border-bottom-color: var(--fill-color);\n",
              "    animation:\n",
              "      spin 1s steps(1) infinite;\n",
              "  }\n",
              "\n",
              "  @keyframes spin {\n",
              "    0% {\n",
              "      border-color: transparent;\n",
              "      border-bottom-color: var(--fill-color);\n",
              "      border-left-color: var(--fill-color);\n",
              "    }\n",
              "    20% {\n",
              "      border-color: transparent;\n",
              "      border-left-color: var(--fill-color);\n",
              "      border-top-color: var(--fill-color);\n",
              "    }\n",
              "    30% {\n",
              "      border-color: transparent;\n",
              "      border-left-color: var(--fill-color);\n",
              "      border-top-color: var(--fill-color);\n",
              "      border-right-color: var(--fill-color);\n",
              "    }\n",
              "    40% {\n",
              "      border-color: transparent;\n",
              "      border-right-color: var(--fill-color);\n",
              "      border-top-color: var(--fill-color);\n",
              "    }\n",
              "    60% {\n",
              "      border-color: transparent;\n",
              "      border-right-color: var(--fill-color);\n",
              "    }\n",
              "    80% {\n",
              "      border-color: transparent;\n",
              "      border-right-color: var(--fill-color);\n",
              "      border-bottom-color: var(--fill-color);\n",
              "    }\n",
              "    90% {\n",
              "      border-color: transparent;\n",
              "      border-bottom-color: var(--fill-color);\n",
              "    }\n",
              "  }\n",
              "</style>\n",
              "\n",
              "      <script>\n",
              "        async function quickchart(key) {\n",
              "          const quickchartButtonEl =\n",
              "            document.querySelector('#' + key + ' button');\n",
              "          quickchartButtonEl.disabled = true;  // To prevent multiple clicks.\n",
              "          quickchartButtonEl.classList.add('colab-df-spinner');\n",
              "          try {\n",
              "            const charts = await google.colab.kernel.invokeFunction(\n",
              "                'suggestCharts', [key], {});\n",
              "          } catch (error) {\n",
              "            console.error('Error during call to suggestCharts:', error);\n",
              "          }\n",
              "          quickchartButtonEl.classList.remove('colab-df-spinner');\n",
              "          quickchartButtonEl.classList.add('colab-df-quickchart-complete');\n",
              "        }\n",
              "        (() => {\n",
              "          let quickchartButtonEl =\n",
              "            document.querySelector('#df-3180c25d-5182-4f9d-ad6a-dfc2205b3399 button');\n",
              "          quickchartButtonEl.style.display =\n",
              "            google.colab.kernel.accessAllowed ? 'block' : 'none';\n",
              "        })();\n",
              "      </script>\n",
              "    </div>\n",
              "\n",
              "    </div>\n",
              "  </div>\n"
            ],
            "application/vnd.google.colaboratory.intrinsic+json": {
              "type": "dataframe",
              "variable_name": "df",
              "summary": "{\n  \"name\": \"df\",\n  \"rows\": 194,\n  \"fields\": [\n    {\n      \"column\": \"id\",\n      \"properties\": {\n        \"dtype\": \"number\",\n        \"std\": 56,\n        \"min\": 0,\n        \"max\": 193,\n        \"num_unique_values\": 194,\n        \"samples\": [\n          138,\n          16,\n          155\n        ],\n        \"semantic_type\": \"\",\n        \"description\": \"\"\n      }\n    },\n    {\n      \"column\": \"title\",\n      \"properties\": {\n        \"dtype\": \"string\",\n        \"num_unique_values\": 190,\n        \"samples\": [\n          \"Teacher unsure about getting smashed eighth night running\",\n          \"WHO cancer agency under fire for withholding \\u2018carcinogenic glyphosate\\u2019 documents\",\n          \"BREAKING : Trump Expressed Concern Over Anthony Weiner\\u2019s \\u201cIllegal Access\\u201d to Classified Info 2 Months ago \\u2013 TruthFeed\"\n        ],\n        \"semantic_type\": \"\",\n        \"description\": \"\"\n      }\n    },\n    {\n      \"column\": \"author\",\n      \"properties\": {\n        \"dtype\": \"string\",\n        \"num_unique_values\": 149,\n        \"samples\": [\n          \"Kayla Brandon\",\n          \"Jerome Hudson\",\n          \"T Steelman\"\n        ],\n        \"semantic_type\": \"\",\n        \"description\": \"\"\n      }\n    },\n    {\n      \"column\": \"text\",\n      \"properties\": {\n        \"dtype\": \"string\",\n        \"num_unique_values\": 191,\n        \"samples\": [\n          \"WASHINGTON  \\u2014   Michelle Obama has burned off her   meals at Washington\\u2019s new generation of acclaimed restaurants by pedaling at SoulCycle. President Obama has shopped for Jonathan Franzen novels with his daughters at local independent bookstores. Obama administration staff members, their barhopping chronicled in the gossip pages, have hit the 14th Street hot spots hard. Decades ago, Washington was broke and run by a mayor best known for smoking crack with a friend on a surveillance tape. Neighborhoods had not fully recovered from the 1968 riots, and an aging Georgetown elite still set the tone. The administrations of two Bushes and a Clinton in between hardly had an effect on the city. But Mr. Obama\\u2019s arrival in 2009 coincided with an urban renaissance. Economic development, federal and private investment, and an influx of highly educated young, gay and diverse professionals gentrified neighborhoods, leading to an explosion in restaurants, bars and cafes. And the Obama family  \\u2014     youthful, attractive and urbane  \\u2014   were archetypes of a modern city on the upswing. What the effect on Washington will be when Donald J. Trump moves into the White House is hard to predict. But many Washingtonians fear the worst. Among them is Vincent Gray, the city\\u2019s mayor during much of the Obama administration. \\u201cI\\u2019m worried about people not wanting to come here because of the image they have of the Trump administration,\\u201d Mr. Gray said. Now a member of the City Council, Mr. Gray said the engagement of Mr. Obama and his family with the city has been \\u201ctremendously uplifting. \\u201d \\u201cTheir presence in the city brought a level of dynamism that just wasn\\u2019t there before,\\u201d he said. By contrast, Mr. Trump seems unlikely to drop in at Oyamel, the Mexican restaurant and Obama favorite owned by Jos\\u00e9 Andr\\u00e9s, a star chef and devoted Trump critic. For that matter, it is even unclear whether Mr. Trump, who has used his new Trump International Hotel as an outpost here, will spend weekends in the White House or in New York. And he is unlikely to feel a debt of gratitude to a city where Hillary Clinton won 93 percent of the vote. \\u201cD. C. is going to take a really hard hit, culturally, socially, everything. We were really finding our footing we weren\\u2019t second to New York,\\u201d said Jazmine Johnson, a graphic designer who said she now planned to move to New York. Ms. Johnson, 25, was speaking in the Coffee Bar, a fashionable cafe on M Street where Mr. Trump\\u2019s   \\u201cYou Can\\u2019t Always Get What You Want,\\u201d played in the background. In the aftermath of Mr. Trump\\u2019s election victory on Tuesday, she sought solace in caffeine. Others around town signed up for free   sessions at yoga studios, or meditated on emails from their progressive rabbis reminding them of the Jewish mantra \\u201cOd lo avda tikvateinu,\\u201d or, \\u201cWe have not yet lost our hope. \\u201d Reports abounded of federal workers and nonprofit employees crying at their desks, scanning the web for    rentals or accepting the free hugs on offer in Farragut Square. \\u201cThe world has definitely shifted on its axis, and we\\u2019ve taken a step into the abyss,\\u201d said Michael Steel, an establishment Republican by virtue of having worked for former Gov. Jeb Bush of Florida and departed House Speaker John Boehner, and a frequent critic of Mr. Trump. Mr. Gray said he worried that a Trump administration could set the city back because the federal government still controls its purse strings and could enact abortion restrictions, cut vital investment and relax gun control laws. But Democrats now in the government and thinking of leaving it, and young people who had hopes of joining it, have a more immediate concern  \\u2014   a job. Meredith Lightstone, 21, who led the University of Maryland\\u2019s Terps for Hillary club, had been preparing her r\\u00e9sum\\u00e9 for positions in a Clinton administration. She said she had no interest in a role in the Trump White House. \\u201cDo I go into government or politics, or another route? Maybe tech?\\u201d she asked. \\u201cT. B. D. \\u201d At least some Washington institutions are likely to remain shockproof. The lucrative real estate market seems to be one. Andrew C. Florance, a Washington resident and founder of CoStar, a provider of data, marketing and analytic services to the commercial real estate industry, said he expected a wave of \\u201cglitzier\\u201d New Yorkers  \\u2014   \\u201cthe Delta Shuttle crew\\u201d  \\u2014   to join the Trump administration and quickly become part of the city\\u2019s lobbying ranks and downtown neighborhoods. \\u201cIt will be a terrific real estate market,\\u201d he said. Lobbying firms on K Street are already treating Mr. Trump\\u2019s election as a bonanza and are gearing up for more work. Conservative think tanks are looking forward to serving up new ideas to Mr. Trump and a Republican Congress. James Wallner, a vice president for research at the Heritage Foundation, said Mr. Trump\\u2019s election was met with  . \\u201cTrump is a change agent,\\u201d Mr. Wallner said. \\u201cAs long as everyone is trying to change Washington, that\\u2019s all that matters. \\u201d Liberal and environmental groups are determined to stay and fight. Debbie Sease, who heads lobbying for the Sierra Club, presided over a   office of employees who took silent Metro rides into work last week and hung \\u201cfree hugs\\u201d signs on their desks. She expects an invigorated resistance to come to Washington, bringing moral outrage as well as sophisticated palates. \\u201cI\\u2019d be surprised if all the good restaurants disappear or become steakhouses,\\u201d she said. Cork, the wine bar that pioneered 14th Street\\u2019s restaurant boom during the Obama years, set up televisions for an election night watch party. It turned into a   tragedy with the owner, Diane Gross, telling her mother to calm down or she would have a heart attack. Jen Psaki, the White House communications director, had her engagement party at Cork, Mrs. Obama dropped in, and Jill Biden became a regular there. Ms. Gross said she hoped that Washington, despite its reputation as a transitory place, had reached a cultural critical mass that would prevent   hemorrhaging of the young, fashionable and talented. Still, she acknowledged, \\u201cthere\\u2019s a real possibility of people going back to wherever they are from to do progressive politics there. \\u201d Mike O\\u2019Malley, an owner of the Red Hen, a popular restaurant in the recently gentrified neighborhood of Bloomingdale, said he expected his patrons to stay put. \\u201cThere are things that make people want to live here besides government,\\u201d he said, as diners commiserated at the bar over Mrs. Clinton\\u2019s loss. \\u201cPeople are living here as opposed to working here. \\u201d Mr. Trump must now populate the federal government with new appointees, but some members of his inner circle are already entrenched in Washington. Stephen K. Bannon, whom Mr. Trump named chief strategist and senior counsel on Sunday, lives, works and entertains out of a   townhouse near the Supreme Court. David Bossie, another key aide to Mr. Trump, runs Citizens United, a conservative advocacy group, out of a Capitol Hill townhouse. And there will be newcomers like Richard B. Spencer, who took a break from reveling with other ecstatic supporters in the lobby bar of the Trump International Hotel on election night to declare the party over for the Washington establishment. \\u201cWe are winners and we have displaced them,\\u201d said Mr. Spencer, a leader of the \\u201c \\u201d movement who champions white identity politics and is currently looking for Beltway headquarters for his movement. He added, \\u201cWe want to become the new establishment. \\u201d\",\n          \"The Upshot\\u2019s new Senate election forecast gives Democrats a 60 percent chance of winning control of the chamber in November. Included within this 60 percent is a 17 percent chance that the Senate ends up evenly split with a Democratic vice president providing the tiebreaking vote. By our count, the Democrats need to win five seats among the 11 most competitive races. (The Democrats will need to win six if Donald J. Trump wins the presidential race we put Mr. Trump\\u2019s chances of winning at only  11 percent). Ten of these seats are held by Republicans, and one by a Democrat, Harry Reid of Nevada, who is retiring. That the Democrats are favored in this election should not be surprising. The 2016 Senate elections boded well for the Democrats without any consideration of a possible Trump effect on   races. In recent history, Democrats have done better in presidential election years than in midterm years, when turnout is lower. Most of the senators up for   last went before the voters in the Republican wave election of 2010  \\u2014   when the G. O. P. made big and broad gains in an   environment  \\u2014   leaving Republicans with several potentially vulnerable incumbents. This year, the Democrats are defending only 10 seats while the Republicans have to preserve 24. On fundamentals alone  \\u2014   that is, historical voting patterns, the candidates\\u2019 political experience and    \\u2014   the Democrats would have about a   shot to win the Senate. The latest Senate polling improves this figure to 60 percent. The framework for our model is broadly similar to the approach we took in 2014, when our Election Day forecast correctly called 35 of 36 Senate races. That approach means starting with the fundamentals as a prior, then updating those beliefs as polling information comes in. We let races affect one another and assume that the    errors will be correlated. The main difference between 2014 and this year is that we have some additional information to gauge candidates\\u2019 chances in a presidential year. Previous research suggests that there is a strong relationship between presidential and Senate voting. Accordingly, our model assumes that Senate races will track the presidential race in each state to some degree. That is, if Hillary Clinton has improved her standing in the presidential forecast since the last time a state has been polled, we \\u201c \\u201d the Senate polling average a small amount in the same direction. Incumbents are running in seven of the 10 seats being defended by Democrats. All seven seats are considered safe. For the other three: \\u25a0 Democrats are guaranteed to win the seat in California: Barbara Boxer is retiring, and two Democrats  \\u2014   Kamala Harris and Loretta Sanchez  \\u2014   won the top two spots in an open primary. \\u25a0 Initial polling in Maryland showed the Democratic candidate, Chris Van Hollen, up by 20 to 30 points. \\u25a0 It\\u2019s only in Nevada, where Catherine Cortez Masto is trying to replace Mr. Reid, where the election is competitive. This leaves Democrats with 36 seats that are not up for election this year  \\u2014   including two independents, Bernie Sanders of Vermont and Angus King of Maine, who both caucus with Democrats  \\u2014   in addition to nine safe seats. Much of the weakness in the Republican position comes from seven G. O. P. incumbents in mostly   states trying to win a second term after first being elected in the Republican wave year of 2010: Ron Johnson in Wisconsin, Mark Kirk in Illinois, Kelly Ayotte in New Hampshire, Pat Toomey in Pennsylvania, Roy Blunt in Missouri, Rob Portman in Ohio, and Marco Rubio in Florida (assuming he wins the Republican primary next week). In addition, the retirement of the Republican Dan Coats along with the entry of the former Democratic senator Evan Bayh in the race in Indiana shifted that seat from a likely Republican hold to a possible Democratic pickup. Richard Burr\\u2019s seat in North Carolina also seems vulnerable. Polling indicates that even Senator John McCain of Arizona could be swept out by the encroaching Democratic tide. If Mr. McCain beats back a primary challenge from the Tea Party candidate Kelli Ward, he will face a Democratic challenger, Ann Kirkpatrick, who was within two points in a June poll. Our model gives Ms. Kirkpatrick a roughly    chance of taking the seat. To give themselves a cushion in retaking the Senate, Democrats would probably need to win six of these 11 races: the seven elections with   Republicans the elections in Indiana, Arizona and North Carolina and the contest for Mr. Reid\\u2019s seat in Nevada. If Mrs. Clinton wins the presidency and they win five seats, they will most likely control that chamber because the vice president has the tiebreaking vote in the Senate. With so many seats remaining uncertain, the race could still tip in either direction, with Republicans possibly retaining a slim majority or Democrats running the table. As of today, the most likely outcome is a tie.\",\n          \"It might be hard to remember now, with one governor embroiled in a corruption scandal for the last three years and his counterpart across the Hudson River plunging headlong into another, but Chris Christie of New Jersey and Andrew M. Cuomo of New York were once lionized for relentlessly prosecuting bad behavior in government. The wars they waged against corrupt politicians, as the attorney general of New York (Mr. Cuomo) and the United States attorney for New Jersey (Mr. Christie) won them bipartisan kudos and, eventually, smooth ascents to their states\\u2019 highest offices. After the ethical morasses that swamped figures such as former Gov. Eliot Spitzer of New York and Alan Hevesi, the state\\u2019s former comptroller, and former Gov. James E. McGreevey of New Jersey in the 2000s, Mr. Cuomo and Mr. Christie  \\u2014   each a tough prosecutor with    White House aspirations  \\u2014   looked more immaculate than ever. Those were the days. Mr. Cuomo, a Democrat, spent Thursday reeling at the arrest of one of his closest friends, confidants and former aides, as well as the arrests of several other close advisers and donors. Prosecutors had accused them of involvement in a   bribery scheme whose many grubby details included the fact that two of the governor\\u2019s former aides referred gleefully to corrupt payoffs as \\u201cziti,\\u201d \\u00e0 la \\u201cThe Sopranos,\\u201d and to one skittish ziti contributor as \\u201cfat boy. \\u201d (As in: \\u201cHandle fat boy carefully. We don\\u2019t need an interruption in that Zitti delivery or else well really be up the creek. \\u201d) Over in New Jersey, Mr. Christie, a Republican, is up a very unpleasant creek of his own. A former top aide and a former political ally are on trial over their roles in the 2013 scandal that elevated a traffic jam on access lanes leading to the George Washington Bridge into an immortal symbol of political payback. Having helped puncture Mr. Christie\\u2019s presidential hopes earlier this year, the   episode later went on to help sink his bid to join the Donald J. Trump ticket. The trial, which began last Monday, has been no kinder to the governor: Prosecutors waited exactly zero days before asserting, during opening statements, that Mr. Christie knew three of his aides and allies were involved in the plot as it was unfolding. Neither governor is accused of breaking the law. But for two men who once prided themselves on managing    administrations, claiming to have been blind to alleged acts of petty revenge and bribery at the highest levels of state government seems bad enough. As they campaigned for the governor\\u2019s office, each promised to cut through what they called partisan nonsense, bureaucratic inertia and dodgy dealing to get real results for residents in their states. Each had the trophy case to back it up. As state attorney general, Mr. Cuomo took aim at the other two statewide elected officials, both fellow Democrats: Mr. Spitzer, whose administration\\u2019s misuse of state troopers to target a political rival Mr. Cuomo helped uncover, and Mr. Hevesi, who went to prison after a Cuomo investigation found that he had accepted personal benefits in exchange for approving a state pension fund investment. In New Jersey, where Mr. Christie was appointed a United States attorney by President George W. Bush in 2002, the young prosecutor quickly dispelled questions about his readiness for the job by pursuing corruption charges against dozens of local officials and leading   inquiries that implicated several more. They were sane. Smart. Clean. Capable. Determined. And smug. \\u201cI am putting each and every one of you on notice,\\u201d Mr. Christie said in a 2002 speech, taking aim at his home state\\u2019s notoriously debased political culture. \\u201cWe are going to root this stuff out, and I expect all of you to help me. \\u201d By 2009, as a virtual political neophyte and a Republican in a blue state, he had managed to defeat the Democratic incumbent, Gov. Jon S. Corzine. \\u201cJob 1 is going to be to clean up Albany and make the government work for the people,\\u201d Mr. Cuomo said in 2010, kicking off his campaign for governor on the steps of Manhattan\\u2019s Tweed Courthouse, New York\\u2019s monument to   political corruption. (He also vowed to run the \\u201cmost transparent\\u201d administration in state history.) But as the fallout from each scandal has made clear, the professionalism and integrity of their offices were compromised almost from the start by aides and advisers who seemed far more interested in their own endgames  \\u2014   whether political, financial or both  \\u2014   than in serving a state. In both cases, they were empowered by Mr. Christie and Mr. Cuomo themselves. Each man had cultivated a small group of trusted advisers who, driven by unshakable tribal loyalty and a hunger to see their bosses taste the White House one day, enforced the governor\\u2019s will, punished his enemies and rewarded his friends. For Mr. Christie, they included Bridget Anne Kelly and Bill Baroni, the two former officials currently on trial, and Bill Stepien, his former top lieutenant, an old friend and political operative who left ears ringing across New Jersey on the governor\\u2019s behalf. They met for strategy sessions around Mr. Christie\\u2019s kitchen table in Mendham and mingled at N. F. L. games. They worked together to single out local officials who supported the governor\\u2019s 2013   bid for perks and to mete out revenge to those who did not  \\u2014   including Mayor Mark Sokolich of Fort Lee, N. J. a Democrat who, having declined to endorse the governor, got a catastrophic traffic jam in return, prosecutors say. Their equivalents in Albany were a group of stalwarts who had marched at Mr. Cuomo\\u2019s side, in some cases as far back as the administration of Mr. Cuomo\\u2019s father, former Gov. Mario M. Cuomo, who became governor in 1983. The men, and they were all men, even had a \\u201cterm of endearment\\u201d for one another, according to the federal criminal complaint released on Thursday: \\u201cHerb. \\u201d (It remains unclear why.) Chief among them was Joseph Percoco, who had started working for the elder Mr. Cuomo when he was 19. So high was his place in the family firmament that during Mr. Cuomo\\u2019s eulogy for his father in January 2015, he called Mr. Percoco \\u201cmy father\\u2019s third son, who I sometimes think he loved the most. \\u201d It was Mr. Percoco who, everyone in New York\\u2019s political establishment understood, woke Mr. Cuomo up in the morning, dispensed threats for him during the day and put him to bed at night. It was also Mr. Percoco, working with another \\u201cHerb\\u201d and former Cuomo aide, Todd R. Howe, who shook down a developer and an energy company for at least $315, 000 in bribes in exchange for putting his considerable power at their service, prosecutors say. There was the legal opinion that Mr. Percoco got reversed. The energy policy decisions, made by state experts, that he overrode. The $5, 700 raise, the criminal complaint says, that he berated   staff at the governor\\u2019s office into approving for the son of an executive who had paid him off. And there was the fact, apparent from the complaint, that no one in state government questioned his authority to do so. These days, there is no avoiding the central question: How could the governors not have known? Mr. Christie has said that while he took ultimate responsibility for the lane closings, it was impossible for him to keep tabs on 65, 000 state employees. He was \\u201cdisturbed,\\u201d he said, by Mr. Stepien\\u2019s behavior, while Ms. Kelly was \\u201cstupid\\u201d and \\u201ca liar. \\u201d Mr. Cuomo, too, has been moved to muse on personal betrayal. \\u201cThe central plank of my administration has always been about public integrity and zero tolerance for any waste, fraud or abuse. If anything, I hold a friend to a higher standard,\\u201d he said in Buffalo on Friday. \\u201cIt\\u2019s the first time since we lost my father that I didn\\u2019t miss him being here yesterday, because it would\\u2019ve broken his heart. \\u201d\"\n        ],\n        \"semantic_type\": \"\",\n        \"description\": \"\"\n      }\n    },\n    {\n      \"column\": \"label\",\n      \"properties\": {\n        \"dtype\": \"number\",\n        \"std\": 0,\n        \"min\": 0,\n        \"max\": 1,\n        \"num_unique_values\": 2,\n        \"samples\": [\n          0,\n          1\n        ],\n        \"semantic_type\": \"\",\n        \"description\": \"\"\n      }\n    }\n  ]\n}"
            }
          },
          "metadata": {},
          "execution_count": 12
        }
      ]
    },
    {
      "cell_type": "code",
      "source": [
        "df.shape"
      ],
      "metadata": {
        "colab": {
          "base_uri": "https://localhost:8080/"
        },
        "id": "S7R3VVSYk2EB",
        "outputId": "7d7c087a-1004-4b02-c497-65c34df7c392"
      },
      "execution_count": 13,
      "outputs": [
        {
          "output_type": "execute_result",
          "data": {
            "text/plain": [
              "(194, 5)"
            ]
          },
          "metadata": {},
          "execution_count": 13
        }
      ]
    },
    {
      "cell_type": "code",
      "source": [
        "df.isnull().sum()"
      ],
      "metadata": {
        "colab": {
          "base_uri": "https://localhost:8080/",
          "height": 241
        },
        "id": "U0QY0gJKlJbJ",
        "outputId": "60d3b729-74de-408b-c512-9c5566ebf84c"
      },
      "execution_count": 14,
      "outputs": [
        {
          "output_type": "execute_result",
          "data": {
            "text/plain": [
              "id         0\n",
              "title      4\n",
              "author    20\n",
              "text       3\n",
              "label      0\n",
              "dtype: int64"
            ],
            "text/html": [
              "<div>\n",
              "<style scoped>\n",
              "    .dataframe tbody tr th:only-of-type {\n",
              "        vertical-align: middle;\n",
              "    }\n",
              "\n",
              "    .dataframe tbody tr th {\n",
              "        vertical-align: top;\n",
              "    }\n",
              "\n",
              "    .dataframe thead th {\n",
              "        text-align: right;\n",
              "    }\n",
              "</style>\n",
              "<table border=\"1\" class=\"dataframe\">\n",
              "  <thead>\n",
              "    <tr style=\"text-align: right;\">\n",
              "      <th></th>\n",
              "      <th>0</th>\n",
              "    </tr>\n",
              "  </thead>\n",
              "  <tbody>\n",
              "    <tr>\n",
              "      <th>id</th>\n",
              "      <td>0</td>\n",
              "    </tr>\n",
              "    <tr>\n",
              "      <th>title</th>\n",
              "      <td>4</td>\n",
              "    </tr>\n",
              "    <tr>\n",
              "      <th>author</th>\n",
              "      <td>20</td>\n",
              "    </tr>\n",
              "    <tr>\n",
              "      <th>text</th>\n",
              "      <td>3</td>\n",
              "    </tr>\n",
              "    <tr>\n",
              "      <th>label</th>\n",
              "      <td>0</td>\n",
              "    </tr>\n",
              "  </tbody>\n",
              "</table>\n",
              "</div><br><label><b>dtype:</b> int64</label>"
            ]
          },
          "metadata": {},
          "execution_count": 14
        }
      ]
    },
    {
      "cell_type": "code",
      "source": [
        "# Drop Nan Values\n",
        "df=df.dropna()"
      ],
      "metadata": {
        "id": "4A3UG1sMlUZZ"
      },
      "execution_count": 15,
      "outputs": []
    },
    {
      "cell_type": "code",
      "source": [
        "df.head()"
      ],
      "metadata": {
        "colab": {
          "base_uri": "https://localhost:8080/",
          "height": 206
        },
        "id": "fuQpy_Dzlfjj",
        "outputId": "89dc149a-2c0c-466c-d166-956ea95cf153"
      },
      "execution_count": 16,
      "outputs": [
        {
          "output_type": "execute_result",
          "data": {
            "text/plain": [
              "   id                                              title              author  \\\n",
              "0   0  House Dem Aide: We Didn’t Even See Comey’s Let...       Darrell Lucus   \n",
              "1   1  FLYNN: Hillary Clinton, Big Woman on Campus - ...     Daniel J. Flynn   \n",
              "2   2                  Why the Truth Might Get You Fired  Consortiumnews.com   \n",
              "3   3  15 Civilians Killed In Single US Airstrike Hav...     Jessica Purkiss   \n",
              "4   4  Iranian woman jailed for fictional unpublished...      Howard Portnoy   \n",
              "\n",
              "                                                text  label  \n",
              "0  House Dem Aide: We Didn’t Even See Comey’s Let...      1  \n",
              "1  Ever get the feeling your life circles the rou...      0  \n",
              "2  Why the Truth Might Get You Fired October 29, ...      1  \n",
              "3  Videos 15 Civilians Killed In Single US Airstr...      1  \n",
              "4  Print \\nAn Iranian woman has been sentenced to...      1  "
            ],
            "text/html": [
              "\n",
              "  <div id=\"df-b854a167-fc95-49b9-9135-58aef29277fa\" class=\"colab-df-container\">\n",
              "    <div>\n",
              "<style scoped>\n",
              "    .dataframe tbody tr th:only-of-type {\n",
              "        vertical-align: middle;\n",
              "    }\n",
              "\n",
              "    .dataframe tbody tr th {\n",
              "        vertical-align: top;\n",
              "    }\n",
              "\n",
              "    .dataframe thead th {\n",
              "        text-align: right;\n",
              "    }\n",
              "</style>\n",
              "<table border=\"1\" class=\"dataframe\">\n",
              "  <thead>\n",
              "    <tr style=\"text-align: right;\">\n",
              "      <th></th>\n",
              "      <th>id</th>\n",
              "      <th>title</th>\n",
              "      <th>author</th>\n",
              "      <th>text</th>\n",
              "      <th>label</th>\n",
              "    </tr>\n",
              "  </thead>\n",
              "  <tbody>\n",
              "    <tr>\n",
              "      <th>0</th>\n",
              "      <td>0</td>\n",
              "      <td>House Dem Aide: We Didn’t Even See Comey’s Let...</td>\n",
              "      <td>Darrell Lucus</td>\n",
              "      <td>House Dem Aide: We Didn’t Even See Comey’s Let...</td>\n",
              "      <td>1</td>\n",
              "    </tr>\n",
              "    <tr>\n",
              "      <th>1</th>\n",
              "      <td>1</td>\n",
              "      <td>FLYNN: Hillary Clinton, Big Woman on Campus - ...</td>\n",
              "      <td>Daniel J. Flynn</td>\n",
              "      <td>Ever get the feeling your life circles the rou...</td>\n",
              "      <td>0</td>\n",
              "    </tr>\n",
              "    <tr>\n",
              "      <th>2</th>\n",
              "      <td>2</td>\n",
              "      <td>Why the Truth Might Get You Fired</td>\n",
              "      <td>Consortiumnews.com</td>\n",
              "      <td>Why the Truth Might Get You Fired October 29, ...</td>\n",
              "      <td>1</td>\n",
              "    </tr>\n",
              "    <tr>\n",
              "      <th>3</th>\n",
              "      <td>3</td>\n",
              "      <td>15 Civilians Killed In Single US Airstrike Hav...</td>\n",
              "      <td>Jessica Purkiss</td>\n",
              "      <td>Videos 15 Civilians Killed In Single US Airstr...</td>\n",
              "      <td>1</td>\n",
              "    </tr>\n",
              "    <tr>\n",
              "      <th>4</th>\n",
              "      <td>4</td>\n",
              "      <td>Iranian woman jailed for fictional unpublished...</td>\n",
              "      <td>Howard Portnoy</td>\n",
              "      <td>Print \\nAn Iranian woman has been sentenced to...</td>\n",
              "      <td>1</td>\n",
              "    </tr>\n",
              "  </tbody>\n",
              "</table>\n",
              "</div>\n",
              "    <div class=\"colab-df-buttons\">\n",
              "\n",
              "  <div class=\"colab-df-container\">\n",
              "    <button class=\"colab-df-convert\" onclick=\"convertToInteractive('df-b854a167-fc95-49b9-9135-58aef29277fa')\"\n",
              "            title=\"Convert this dataframe to an interactive table.\"\n",
              "            style=\"display:none;\">\n",
              "\n",
              "  <svg xmlns=\"http://www.w3.org/2000/svg\" height=\"24px\" viewBox=\"0 -960 960 960\">\n",
              "    <path d=\"M120-120v-720h720v720H120Zm60-500h600v-160H180v160Zm220 220h160v-160H400v160Zm0 220h160v-160H400v160ZM180-400h160v-160H180v160Zm440 0h160v-160H620v160ZM180-180h160v-160H180v160Zm440 0h160v-160H620v160Z\"/>\n",
              "  </svg>\n",
              "    </button>\n",
              "\n",
              "  <style>\n",
              "    .colab-df-container {\n",
              "      display:flex;\n",
              "      gap: 12px;\n",
              "    }\n",
              "\n",
              "    .colab-df-convert {\n",
              "      background-color: #E8F0FE;\n",
              "      border: none;\n",
              "      border-radius: 50%;\n",
              "      cursor: pointer;\n",
              "      display: none;\n",
              "      fill: #1967D2;\n",
              "      height: 32px;\n",
              "      padding: 0 0 0 0;\n",
              "      width: 32px;\n",
              "    }\n",
              "\n",
              "    .colab-df-convert:hover {\n",
              "      background-color: #E2EBFA;\n",
              "      box-shadow: 0px 1px 2px rgba(60, 64, 67, 0.3), 0px 1px 3px 1px rgba(60, 64, 67, 0.15);\n",
              "      fill: #174EA6;\n",
              "    }\n",
              "\n",
              "    .colab-df-buttons div {\n",
              "      margin-bottom: 4px;\n",
              "    }\n",
              "\n",
              "    [theme=dark] .colab-df-convert {\n",
              "      background-color: #3B4455;\n",
              "      fill: #D2E3FC;\n",
              "    }\n",
              "\n",
              "    [theme=dark] .colab-df-convert:hover {\n",
              "      background-color: #434B5C;\n",
              "      box-shadow: 0px 1px 3px 1px rgba(0, 0, 0, 0.15);\n",
              "      filter: drop-shadow(0px 1px 2px rgba(0, 0, 0, 0.3));\n",
              "      fill: #FFFFFF;\n",
              "    }\n",
              "  </style>\n",
              "\n",
              "    <script>\n",
              "      const buttonEl =\n",
              "        document.querySelector('#df-b854a167-fc95-49b9-9135-58aef29277fa button.colab-df-convert');\n",
              "      buttonEl.style.display =\n",
              "        google.colab.kernel.accessAllowed ? 'block' : 'none';\n",
              "\n",
              "      async function convertToInteractive(key) {\n",
              "        const element = document.querySelector('#df-b854a167-fc95-49b9-9135-58aef29277fa');\n",
              "        const dataTable =\n",
              "          await google.colab.kernel.invokeFunction('convertToInteractive',\n",
              "                                                    [key], {});\n",
              "        if (!dataTable) return;\n",
              "\n",
              "        const docLinkHtml = 'Like what you see? Visit the ' +\n",
              "          '<a target=\"_blank\" href=https://colab.research.google.com/notebooks/data_table.ipynb>data table notebook</a>'\n",
              "          + ' to learn more about interactive tables.';\n",
              "        element.innerHTML = '';\n",
              "        dataTable['output_type'] = 'display_data';\n",
              "        await google.colab.output.renderOutput(dataTable, element);\n",
              "        const docLink = document.createElement('div');\n",
              "        docLink.innerHTML = docLinkHtml;\n",
              "        element.appendChild(docLink);\n",
              "      }\n",
              "    </script>\n",
              "  </div>\n",
              "\n",
              "\n",
              "    <div id=\"df-7f8b8091-0032-4a6d-a91d-ebdf8e774614\">\n",
              "      <button class=\"colab-df-quickchart\" onclick=\"quickchart('df-7f8b8091-0032-4a6d-a91d-ebdf8e774614')\"\n",
              "                title=\"Suggest charts\"\n",
              "                style=\"display:none;\">\n",
              "\n",
              "<svg xmlns=\"http://www.w3.org/2000/svg\" height=\"24px\"viewBox=\"0 0 24 24\"\n",
              "     width=\"24px\">\n",
              "    <g>\n",
              "        <path d=\"M19 3H5c-1.1 0-2 .9-2 2v14c0 1.1.9 2 2 2h14c1.1 0 2-.9 2-2V5c0-1.1-.9-2-2-2zM9 17H7v-7h2v7zm4 0h-2V7h2v10zm4 0h-2v-4h2v4z\"/>\n",
              "    </g>\n",
              "</svg>\n",
              "      </button>\n",
              "\n",
              "<style>\n",
              "  .colab-df-quickchart {\n",
              "      --bg-color: #E8F0FE;\n",
              "      --fill-color: #1967D2;\n",
              "      --hover-bg-color: #E2EBFA;\n",
              "      --hover-fill-color: #174EA6;\n",
              "      --disabled-fill-color: #AAA;\n",
              "      --disabled-bg-color: #DDD;\n",
              "  }\n",
              "\n",
              "  [theme=dark] .colab-df-quickchart {\n",
              "      --bg-color: #3B4455;\n",
              "      --fill-color: #D2E3FC;\n",
              "      --hover-bg-color: #434B5C;\n",
              "      --hover-fill-color: #FFFFFF;\n",
              "      --disabled-bg-color: #3B4455;\n",
              "      --disabled-fill-color: #666;\n",
              "  }\n",
              "\n",
              "  .colab-df-quickchart {\n",
              "    background-color: var(--bg-color);\n",
              "    border: none;\n",
              "    border-radius: 50%;\n",
              "    cursor: pointer;\n",
              "    display: none;\n",
              "    fill: var(--fill-color);\n",
              "    height: 32px;\n",
              "    padding: 0;\n",
              "    width: 32px;\n",
              "  }\n",
              "\n",
              "  .colab-df-quickchart:hover {\n",
              "    background-color: var(--hover-bg-color);\n",
              "    box-shadow: 0 1px 2px rgba(60, 64, 67, 0.3), 0 1px 3px 1px rgba(60, 64, 67, 0.15);\n",
              "    fill: var(--button-hover-fill-color);\n",
              "  }\n",
              "\n",
              "  .colab-df-quickchart-complete:disabled,\n",
              "  .colab-df-quickchart-complete:disabled:hover {\n",
              "    background-color: var(--disabled-bg-color);\n",
              "    fill: var(--disabled-fill-color);\n",
              "    box-shadow: none;\n",
              "  }\n",
              "\n",
              "  .colab-df-spinner {\n",
              "    border: 2px solid var(--fill-color);\n",
              "    border-color: transparent;\n",
              "    border-bottom-color: var(--fill-color);\n",
              "    animation:\n",
              "      spin 1s steps(1) infinite;\n",
              "  }\n",
              "\n",
              "  @keyframes spin {\n",
              "    0% {\n",
              "      border-color: transparent;\n",
              "      border-bottom-color: var(--fill-color);\n",
              "      border-left-color: var(--fill-color);\n",
              "    }\n",
              "    20% {\n",
              "      border-color: transparent;\n",
              "      border-left-color: var(--fill-color);\n",
              "      border-top-color: var(--fill-color);\n",
              "    }\n",
              "    30% {\n",
              "      border-color: transparent;\n",
              "      border-left-color: var(--fill-color);\n",
              "      border-top-color: var(--fill-color);\n",
              "      border-right-color: var(--fill-color);\n",
              "    }\n",
              "    40% {\n",
              "      border-color: transparent;\n",
              "      border-right-color: var(--fill-color);\n",
              "      border-top-color: var(--fill-color);\n",
              "    }\n",
              "    60% {\n",
              "      border-color: transparent;\n",
              "      border-right-color: var(--fill-color);\n",
              "    }\n",
              "    80% {\n",
              "      border-color: transparent;\n",
              "      border-right-color: var(--fill-color);\n",
              "      border-bottom-color: var(--fill-color);\n",
              "    }\n",
              "    90% {\n",
              "      border-color: transparent;\n",
              "      border-bottom-color: var(--fill-color);\n",
              "    }\n",
              "  }\n",
              "</style>\n",
              "\n",
              "      <script>\n",
              "        async function quickchart(key) {\n",
              "          const quickchartButtonEl =\n",
              "            document.querySelector('#' + key + ' button');\n",
              "          quickchartButtonEl.disabled = true;  // To prevent multiple clicks.\n",
              "          quickchartButtonEl.classList.add('colab-df-spinner');\n",
              "          try {\n",
              "            const charts = await google.colab.kernel.invokeFunction(\n",
              "                'suggestCharts', [key], {});\n",
              "          } catch (error) {\n",
              "            console.error('Error during call to suggestCharts:', error);\n",
              "          }\n",
              "          quickchartButtonEl.classList.remove('colab-df-spinner');\n",
              "          quickchartButtonEl.classList.add('colab-df-quickchart-complete');\n",
              "        }\n",
              "        (() => {\n",
              "          let quickchartButtonEl =\n",
              "            document.querySelector('#df-7f8b8091-0032-4a6d-a91d-ebdf8e774614 button');\n",
              "          quickchartButtonEl.style.display =\n",
              "            google.colab.kernel.accessAllowed ? 'block' : 'none';\n",
              "        })();\n",
              "      </script>\n",
              "    </div>\n",
              "\n",
              "    </div>\n",
              "  </div>\n"
            ],
            "application/vnd.google.colaboratory.intrinsic+json": {
              "type": "dataframe",
              "variable_name": "df",
              "summary": "{\n  \"name\": \"df\",\n  \"rows\": 168,\n  \"fields\": [\n    {\n      \"column\": \"id\",\n      \"properties\": {\n        \"dtype\": \"number\",\n        \"std\": 55,\n        \"min\": 0,\n        \"max\": 193,\n        \"num_unique_values\": 168,\n        \"samples\": [\n          158,\n          35,\n          137\n        ],\n        \"semantic_type\": \"\",\n        \"description\": \"\"\n      }\n    },\n    {\n      \"column\": \"title\",\n      \"properties\": {\n        \"dtype\": \"string\",\n        \"num_unique_values\": 168,\n        \"samples\": [\n          \"Burlesque Dancer Fired, Investigated by Secret Service for Trump Assassination Tweet - Breitbart\",\n          \"Russia Moves to Ban Jehovah\\u2019s Witnesses as \\u2018Extremist\\u2019 - The New York Times\",\n          \"The Monsanto Tribunal Is Over. How Did It Go? And What Happens Now?\"\n        ],\n        \"semantic_type\": \"\",\n        \"description\": \"\"\n      }\n    },\n    {\n      \"column\": \"author\",\n      \"properties\": {\n        \"dtype\": \"string\",\n        \"num_unique_values\": 144,\n        \"samples\": [\n          \"Colin Taylor\",\n          \"Pam Key\",\n          \"Activist Post\"\n        ],\n        \"semantic_type\": \"\",\n        \"description\": \"\"\n      }\n    },\n    {\n      \"column\": \"text\",\n      \"properties\": {\n        \"dtype\": \"string\",\n        \"num_unique_values\": 168,\n        \"samples\": [\n          \"The Secret Service is investigating a burlesque dancer from Kentucky after she posted a Tweet that said she hoped someone would be \\u201ckind enough\\u201d to assassinate President Donald Trump. [\\u201cIf someone was cruel enough to assassinate MLK, maybe someone will be kind enough to assassinate Trump,\\u201d Heather Lowrey, 26, of Louisville wrote on Twitter.  The Secret Service confirmed it interviewed Lowrey and is still investigating the incident, the New York Daily News reported. Lowrey posted the Tweet Jan. 17, three days before Trump\\u2019s inauguration. The Tweet disappeared not long after it was posted, along with all her social media accounts. The bio on her profile said she was a \\u201ca Louisville Vixen and aspiring WWE diva\\u201d before the account was taken down, the Daily News reported. No charges have been announced against her yet, but her former employers have already issued statements denouncing the Tweet and have severed ties with her, WAVE reported. Va Va Vixens, a burlesque group in Louisville, let Lowrey go as soon as they found out about the incident, citing a \\u201czero tolerance policy\\u201d for her behavior. \\u201cWe do not condone hate by any party and will not partake in it. We in no way support negative behavior or malicious intent from anyone,\\u201d the group said. American Income Life, Travis Moody Office, also severed ties with Lowrey and issued a statement on the company\\u2019s Facebook page saying, \\u201cHeather Lowrey is no longer contracted with the Travis Moody Agency. \\u201d \\u201cThe Travis Moody Agency, its agents and its staff do not share the same views, nor opinions as Heather Lowrey. We have a zero tolerance policy and would never condone this behavior,\\u201d the company said. She is the only person to face a federal investigation for posting about the assassination of President Trump. The Secret Service is also reportedly looking into Madonna\\u2019s comments at the Women\\u2019s March on Washington Saturday after the singer said she had thought of \\u201cblowing up the White House. \\u201d\",\n          \"VOROKHOBINO, Russia  \\u2014   A dedicated pacifist who has never even held a gun, Andrei Sivak discovered that his government considered him a dangerous extremist when he tried to change some money and the teller \\u201csuddenly looked up at me with a face full of fear. \\u201d His name had popped up on the exchange bureau\\u2019s computer system, along with those of members of Al Qaeda, the Islamic State and other militant groups responsible for shocking acts of violence. The only group the    father of three has ever belonged to, however, is Jehovah\\u2019s Witnesses, a Christian denomination committed to the belief that the Bible must be taken literally, particularly its injunction \\u201cThou shalt not kill. \\u201d Yet, in a throwback to the days of the Soviet Union, when Jehovah\\u2019s Witnesses were hounded as spies and malcontents by the K. G. B. the denomination is at the center of an escalating campaign by the authorities to curtail religious groups that compete with the Russian Orthodox Church and that challenge President Vladimir V. Putin\\u2019s efforts to rally the country behind traditional and often militaristic patriotic values. The Justice Ministry, in a preliminary adminstrative strike last month, put the headquarters of Jehovah\\u2019s Witnesses in Russia, an office complex near St. Petersburg, on a list of the bodies banned \\u201cin connection with the carrying out of extremist activities. \\u201d Whether it stays there will depend on Russia\\u2019s Supreme Court, which is scheduled to meet on Wednesday to hear a request from the Justice Ministry to outlaw the religious organization and stop its more than 170, 000 Russian members from spreading \\u201cextremist\\u201d texts. Extremism, as defined by a law passed in 2002 but amended and expanded several times since, has become a catchall charge that can be deployed against just about anybody, as it has been against some of those involved in recent   protests in Moscow and scores of other cities. Several students who took part in demonstrations in the Siberian city of Tomsk are now being investigated by a special   unit, while Leonid Volkov, the senior aide to the jailed protest leader Aleksei A. Navalny, said he himself was detained last week under the extremism law. In the case of Jehovah\\u2019s Witnesses, the putative extremism seems to derive mostly from the group\\u2019s absolute opposition to violence, a stand that infuriated Soviet and now Russian authorities whose legitimacy rests in large part on the celebration of martial triumphs, most notably over Nazi Germany in World War II but also over rebels in Syria. Jehovah\\u2019s Witnesses, members of a denomination founded in the United States in the 19th century and active in Russia for more than 100 years, refuse military service, do not vote and view God as the only true leader. They shun the patriotic festivals promoted with gusto by the Kremlin, like the annual celebration of victory in 1945 and recent events to celebrate the annexation of Crimea in March 2014. Mr. Sivak, who says he lost his job as a physical education teacher because of his role as a Jehovah\\u2019s Witnesses elder, said he voted for Mr. Putin in 2000, three years before joining the denomination. He added that while he had not voted since, nor had he supported   activities of the sort that usually attract the attention of Russia\\u2019s   version of the K. G. B. the Federal Security Service, or F. S. B. \\u201cI have absolutely no interest in politics,\\u201d he said during a recent Jehovah\\u2019s Witnesses Friday service in a wooden country house in Vorokhobino, a   village north of Moscow. Around 100 worshipers crammed into a long, chilly room under fluorescent lights to listen to readings from the Bible, sing and watch a video advising them to dress for worship as they would for a meeting with the president. \\u201cFrom the Russian state\\u2019s perspective, Jehovah\\u2019s Witnesses are completely separate,\\u201d said Geraldine Fagan, the author of \\u201cBelieving in Russia  \\u2014   Religious Policy After Communism. \\u201d She added, \\u201cThey don\\u2019t get involved in politics, but this is itself seen as a suspicious political deviation. \\u201d \\u201cThe idea of independent and public religious activity that is completely outside the control of  \\u2014   and also indifferent to  \\u2014   the state sets all sorts of alarm bells ringing in the Orthodox Church and the security services,\\u201d she said. That the worldwide headquarters of Jehovah\\u2019s Witnesses is in the United States and that its publications are mostly prepared there, Ms. Fagan added, \\u201call adds up to a big conspiracy theory\\u201d for the increasingly assertive F. S. B. For Mr. Sivak, it has added up to a long legal nightmare. His troubles began, he said, when undercover security officers posed as worshipers and secretly filmed a service where he was helping to officiate in 2010. Accused of \\u201cinciting hatred and disparaging the human dignity of citizens,\\u201d he was put on trial for extremism along with a second elder, Vyacheslav Stepanov, 40. The prosecutor\\u2019s case, heard by a municipal court in Sergiyev Posad, a center of the Russian Orthodox Church, produced no evidence of extremism and focused instead on the insufficient patriotism of Jehovah\\u2019s Witnesses. \\u201cTheir disregard for the state,\\u201d a report prepared for the prosecution said, \\u201cerodes any sense of civic affiliation and promotes the destruction of national and state security. \\u201d In a ruling last year, the court found the two men not guilty, and their ordeal seemed over  \\u2014   until Mr. Sivak tried to change money and was told that he had been placed on a list of \\u201cterrorists and extremists. \\u201d He and Mr. Stepanov now face new charges of extremism and are to appear before a regional court this month. \\u201cThere is a big wave of repression breaking,\\u201d Mr. Stepanov said. In response to written questions, the Justice Ministry in Moscow said a yearlong review of documents at the Jehovah\\u2019s Witnesses \\u201cadministrative center\\u201d near St. Petersburg had uncovered violations of a Russian law banning extremism. As a result, it added, the center should be \\u201cliquidated,\\u201d along with nearly 400 locally registered branches of the group and other structures. For the denomination\\u2019s leaders in Russia, the sharp escalation in a long campaign of harassment, previously driven mostly by local officials, drew horrifying flashbacks to the Soviet era. Vasily Kalin, the chairman of Jehovah\\u2019s Witnesses\\u2019 Russian arm, recalled that his whole family had been deported to Siberia when he was a child. \\u201cIt is sad and reprehensible that my children and grandchildren should be facing a similar fate,\\u201d he said. \\u201cNever did I expect that we would again face the threat of religious persecution in modern Russia. \\u201d In Russia, as in many countries, the    proselytizing of Jehovah\\u2019s Witnesses often causes irritation, and their theological idiosyncrasies disturb many mainstream Christians. The group has also been widely criticized for saying that the Bible prohibits blood transfusions. But it has never promoted violent or even peaceful political resistance. \\u201cI cannot imagine that anyone really thinks they are a threat,\\u201d said Alexander Verkhovsky, director of the SOVA Center for Information and Analysis, which monitors extremism in Russia. \\u201cBut they are seen as a good target. They are pacifists, so they cannot be radicalized, no matter what you do to them. They can be used to send a message. \\u201d That message, it would seem, is that everyone needs to get with the Putin program  \\u2014   or risk being branded as an extremist for displaying indifference, never mind hostility, to the Kremlin\\u2019s drive to make Russia a great power again. \\u201cA big reason they are being targeted is simply that they are an easy target,\\u201d Ms. Fagan said. \\u201cThey don\\u2019t vote, so nobody is going to lose votes by attacking them. \\u201d Attacking Jehovah\\u2019s Witnesses also sends a signal that even the mildest deviation from the norm, if proclaimed publicly and insistently, can be punished under the   law, which was passed after Russia\\u2019s second war in Chechnya and the Sept. 11 attacks in the United States. Billed as a move by Russia to join a worldwide struggle against terrorism, the law prohibited \\u201cincitement of racial, national or religious strife, and social hatred associated with violence or calls for violence. \\u201d But the reference to violence was later deleted, opening the way for the authorities to classify as extremist any group claiming to offer a unique, true path to religious or political salvation. Even the Russian Orthodox Church has sometimes fallen afoul of the law: The slogan \\u201cOrthodoxy or Death!\\u201d  \\u2014   a rallying cry embraced by some   believers  \\u2014   has been banned as an illegal extremist text. To help protect the Orthodox Church and other established religions, Parliament passed a law in 2015 to exempt the Bible and the Quran, as well as Jewish and Buddhist scripture, from charges of extremism based on their claims to offer the only true faith. The main impetus for the current crackdown, however, appears to come from the security services, not the Orthodox Church. Roman Lunkin, director of the Institute of Religion and Law, a Moscow research group, described it as \\u201cpart of a broad policy of suppressing all nongovernmental organizations\\u201d that has gained particular force because of the highly centralized structure of Jehovah\\u2019s Witnesses under a worldwide leadership based in the United States. \\u201cThey are controlled from outside Russia, and this is very suspicious for our secret services,\\u201d he said. \\u201cThey don\\u2019t like having an organization that they do not and cannot control. \\u201d Artyom Grigoryan, a former Jehovah\\u2019s Witness who used to work at the group\\u2019s Russian headquarters but who now follows the Orthodox Church, said the organization had \\u201cmany positive elements,\\u201d like its ban on excessive drinking, smoking and other unhealthy habits. All the same, he said it deserved to be treated with suspicion. \\u201cLook at it from the view of the state,\\u201d he said. \\u201cHere is an organization that is run from America, that gets financing from abroad, and whose members don\\u2019t serve in the army and don\\u2019t vote. \\u201d Estranged from his parents, who are still members and view his departure as sinful, he said Jehovah\\u2019s Witnesses broke up families and \\u201cin the logic of the state, it presents a threat. \\u201d He added, \\u201cI am not saying this is real or not, but it needs to be checked by objective experts. \\u201d Mr. Sivak, now preparing for yet another trial, said that he had always tried to follow the law and that he respected the state, but could not put its interests above the commands of his faith. \\u201cThey say I am a terrorist,\\u201d he said, \\u201cbut all I ever wanted to do was to get people to pay attention to the Bible. \\u201d\",\n          \"Editor\\u2019s Note: The Monsanto Tribunal happened from October 14th through 16th in The Hague, Netherlands. The People\\u2019s Assembly was a parallel event, where farmers, consumer movements, and their associated networks discussed how we can feed the world in a safe way. Both events are now over, so what happens now? Read the article below to find out.\\nREAD: Monsanto \\u201cCrimes Against Humanity\\u201d Tribunal Officially Begins October 14th In Hague Netherlands \\nThe hearings of the Monsanto Tribunal were very impressive, and so was the People\\u2019s Assembly. During the last two days of the event, the world watched witnesses\\u2019 testimonies, lawyers\\u2019 pleas, and the first impressions of the judges. At the Tribunal, 750 people participated in The Hague representing 30 nationalities from all over the world, thousands of people followed online on the livestream and social media, and the Tribunal received a lot of press attention.\\nBoth victims and experts thanked us for giving them a voice on this important international platform \\u2014 and a very well documented voice in this new process to hold corporations accountable for their acts.\\nThe chairwoman of the Tribunal, Judge Tulkens, expressed the importance of the Tribunal in an interview with the French newspaper, Le Monde:\\nThe questions of the access to water and to healthy food are old. Those are not new issues coming out of the mind of angry activists. Those issues, just like the right to a healthy environment are likely to become more important with climate change. It is our duty to set legal tools to face those issues. The Monsanto Tribunal is a step and a tool within this dynamic.\\u201d \\nThe Tribunal received quite a lot of media coverage. From French and German TV news programs to many newspapers and radio programs in various countries. See the links on our social media platforms (and later on the website).\\nDid Monsanto attend the Tribunal? Monsanto was invited to the Tribunal, but decided not to appear for their defense. We did get their attention though. They issued a statement in 5 languages saying that we are \\u2018pushing\\u2019 the wrong issues, since the real discussion is about feeding the world. Monsanto fails to see feeding the world in a safe way was exactly the topic of the Tribunal and of the discussion farmers, consumer movements, and their associated networks had in the parallel People\\u2019s Assembly.\\nMany eminent speakers stressed that Monsanto and agribusiness giants like them do not feed the world. Rather, they are involved in producing commodities, feed for animals, fuel for cars, and sugar for the food industry at a very high cost for human health and environment. This is production that feeds profit, not people. It\\u2019s the small- and medium-scale farmers that are actually feeding the world.\\nWhat is the purpose of the Monsanto Tribunal and the People\\u2019s Assembly? This Tribunal and People\\u2019s Assembly are about showing the tremendous costs of industrial farming for humans, for health, and for nature . They are also about standing up to Monsanto and their likes, and stopping them from poisoning our world and controlling our food supply. One way to do this is by showing the true cost of the current global food system, and the very real alternatives that exist.\\nNnimmo Bassey at the opening said :\\nBeing an ambassador to this Tribunal is like being an ambassador to mother Earth. If mother Earth could speak, Monsanto ought to be in jail long before now. Food is a celebration, it is culture, it is life. This is a struggle not against one multinational corporation, it is a struggle for life, it is a struggle for liberty. A struggle to stop big companies from colonizing our food systems, colonizing our agriculture, holding mother Earth as a slave for their profits.\\u201d \\nIf you want, you can follow the Monsanto Tribunal on Facebook , where many pictures and videos have already been posted. You can also see them if you have no Facebook yourself. In the coming weeks, we will continue to release short interviews of the witnesses, experts and lawyers, as well as the speakers in the People\\u2019s Assembly. We will also add all of this to our website , including all the hearings of the Tribunal and the written testimonies in different languages. Please be patient, we will keep you informed!\\nWhat happens now that the Tribunal is over? The judges are now thoroughly reviewing the evidence from legal briefs and witness testimonies to answer the six questions posed in the Tribunal\\u2019s terms of reference. They will then present a legal advisory opinion, hopefully soon but if necessary next spring: we will supply logistic support, but the timing is up to them.\\nAs Judge Tulkens said:\\nWe will try to deliver the legal opinion before December 10th, the International Day of human Rights. It will be addressed to Monsanto and to the United Nations. From this legal opinion, other jurisdictions can be involved and more judges will step in. We, as the judges [at the Monsanto Tribunal]have seen, heard, noted and deliberated. Chances are that the international law will take into consideration new issues such as the ones related to ecocide.\\u201d \\nWhat you can do to help We would like to thank you and all the volunteers for your amazing support. This would not have been possible without you. Stay tuned, follow us on social media, show your support and share messages wherever and whenever you can. Ask friends to sign their support . Together we will put an end to the era of poisoning and exploiting the world and move onward to a system where we work with nature instead of waging a war against it.\\nNote: Image from the Monsanto Tribunal. \\nOriginally published on the Monsanto Tribunal website . \\nVia: Food Revolution\\nh/t Stillness in the Storm \\n\"\n        ],\n        \"semantic_type\": \"\",\n        \"description\": \"\"\n      }\n    },\n    {\n      \"column\": \"label\",\n      \"properties\": {\n        \"dtype\": \"number\",\n        \"std\": 0,\n        \"min\": 0,\n        \"max\": 1,\n        \"num_unique_values\": 2,\n        \"samples\": [\n          0,\n          1\n        ],\n        \"semantic_type\": \"\",\n        \"description\": \"\"\n      }\n    }\n  ]\n}"
            }
          },
          "metadata": {},
          "execution_count": 16
        }
      ]
    },
    {
      "cell_type": "code",
      "source": [
        "df.shape"
      ],
      "metadata": {
        "colab": {
          "base_uri": "https://localhost:8080/"
        },
        "id": "lbfNqQ2slhGe",
        "outputId": "27f9dd48-52b9-4781-c89d-1e82dc75df1e"
      },
      "execution_count": 17,
      "outputs": [
        {
          "output_type": "execute_result",
          "data": {
            "text/plain": [
              "(168, 5)"
            ]
          },
          "metadata": {},
          "execution_count": 17
        }
      ]
    },
    {
      "cell_type": "code",
      "source": [
        "# Lets get independent feature. Here Label is dependent feature so I drop Label\n",
        "# from df to get independent features\n",
        "X = df.drop('label', axis=1)"
      ],
      "metadata": {
        "id": "TjUaXko2ljXh"
      },
      "execution_count": 18,
      "outputs": []
    },
    {
      "cell_type": "code",
      "source": [
        "X.head()"
      ],
      "metadata": {
        "colab": {
          "base_uri": "https://localhost:8080/",
          "height": 206
        },
        "id": "7iTzgkagnCAQ",
        "outputId": "aae45dd1-32a9-46dc-9a77-5c099be01733"
      },
      "execution_count": 19,
      "outputs": [
        {
          "output_type": "execute_result",
          "data": {
            "text/plain": [
              "   id                                              title              author  \\\n",
              "0   0  House Dem Aide: We Didn’t Even See Comey’s Let...       Darrell Lucus   \n",
              "1   1  FLYNN: Hillary Clinton, Big Woman on Campus - ...     Daniel J. Flynn   \n",
              "2   2                  Why the Truth Might Get You Fired  Consortiumnews.com   \n",
              "3   3  15 Civilians Killed In Single US Airstrike Hav...     Jessica Purkiss   \n",
              "4   4  Iranian woman jailed for fictional unpublished...      Howard Portnoy   \n",
              "\n",
              "                                                text  \n",
              "0  House Dem Aide: We Didn’t Even See Comey’s Let...  \n",
              "1  Ever get the feeling your life circles the rou...  \n",
              "2  Why the Truth Might Get You Fired October 29, ...  \n",
              "3  Videos 15 Civilians Killed In Single US Airstr...  \n",
              "4  Print \\nAn Iranian woman has been sentenced to...  "
            ],
            "text/html": [
              "\n",
              "  <div id=\"df-e8102bd4-07d5-4c0e-8103-5dba17e369a1\" class=\"colab-df-container\">\n",
              "    <div>\n",
              "<style scoped>\n",
              "    .dataframe tbody tr th:only-of-type {\n",
              "        vertical-align: middle;\n",
              "    }\n",
              "\n",
              "    .dataframe tbody tr th {\n",
              "        vertical-align: top;\n",
              "    }\n",
              "\n",
              "    .dataframe thead th {\n",
              "        text-align: right;\n",
              "    }\n",
              "</style>\n",
              "<table border=\"1\" class=\"dataframe\">\n",
              "  <thead>\n",
              "    <tr style=\"text-align: right;\">\n",
              "      <th></th>\n",
              "      <th>id</th>\n",
              "      <th>title</th>\n",
              "      <th>author</th>\n",
              "      <th>text</th>\n",
              "    </tr>\n",
              "  </thead>\n",
              "  <tbody>\n",
              "    <tr>\n",
              "      <th>0</th>\n",
              "      <td>0</td>\n",
              "      <td>House Dem Aide: We Didn’t Even See Comey’s Let...</td>\n",
              "      <td>Darrell Lucus</td>\n",
              "      <td>House Dem Aide: We Didn’t Even See Comey’s Let...</td>\n",
              "    </tr>\n",
              "    <tr>\n",
              "      <th>1</th>\n",
              "      <td>1</td>\n",
              "      <td>FLYNN: Hillary Clinton, Big Woman on Campus - ...</td>\n",
              "      <td>Daniel J. Flynn</td>\n",
              "      <td>Ever get the feeling your life circles the rou...</td>\n",
              "    </tr>\n",
              "    <tr>\n",
              "      <th>2</th>\n",
              "      <td>2</td>\n",
              "      <td>Why the Truth Might Get You Fired</td>\n",
              "      <td>Consortiumnews.com</td>\n",
              "      <td>Why the Truth Might Get You Fired October 29, ...</td>\n",
              "    </tr>\n",
              "    <tr>\n",
              "      <th>3</th>\n",
              "      <td>3</td>\n",
              "      <td>15 Civilians Killed In Single US Airstrike Hav...</td>\n",
              "      <td>Jessica Purkiss</td>\n",
              "      <td>Videos 15 Civilians Killed In Single US Airstr...</td>\n",
              "    </tr>\n",
              "    <tr>\n",
              "      <th>4</th>\n",
              "      <td>4</td>\n",
              "      <td>Iranian woman jailed for fictional unpublished...</td>\n",
              "      <td>Howard Portnoy</td>\n",
              "      <td>Print \\nAn Iranian woman has been sentenced to...</td>\n",
              "    </tr>\n",
              "  </tbody>\n",
              "</table>\n",
              "</div>\n",
              "    <div class=\"colab-df-buttons\">\n",
              "\n",
              "  <div class=\"colab-df-container\">\n",
              "    <button class=\"colab-df-convert\" onclick=\"convertToInteractive('df-e8102bd4-07d5-4c0e-8103-5dba17e369a1')\"\n",
              "            title=\"Convert this dataframe to an interactive table.\"\n",
              "            style=\"display:none;\">\n",
              "\n",
              "  <svg xmlns=\"http://www.w3.org/2000/svg\" height=\"24px\" viewBox=\"0 -960 960 960\">\n",
              "    <path d=\"M120-120v-720h720v720H120Zm60-500h600v-160H180v160Zm220 220h160v-160H400v160Zm0 220h160v-160H400v160ZM180-400h160v-160H180v160Zm440 0h160v-160H620v160ZM180-180h160v-160H180v160Zm440 0h160v-160H620v160Z\"/>\n",
              "  </svg>\n",
              "    </button>\n",
              "\n",
              "  <style>\n",
              "    .colab-df-container {\n",
              "      display:flex;\n",
              "      gap: 12px;\n",
              "    }\n",
              "\n",
              "    .colab-df-convert {\n",
              "      background-color: #E8F0FE;\n",
              "      border: none;\n",
              "      border-radius: 50%;\n",
              "      cursor: pointer;\n",
              "      display: none;\n",
              "      fill: #1967D2;\n",
              "      height: 32px;\n",
              "      padding: 0 0 0 0;\n",
              "      width: 32px;\n",
              "    }\n",
              "\n",
              "    .colab-df-convert:hover {\n",
              "      background-color: #E2EBFA;\n",
              "      box-shadow: 0px 1px 2px rgba(60, 64, 67, 0.3), 0px 1px 3px 1px rgba(60, 64, 67, 0.15);\n",
              "      fill: #174EA6;\n",
              "    }\n",
              "\n",
              "    .colab-df-buttons div {\n",
              "      margin-bottom: 4px;\n",
              "    }\n",
              "\n",
              "    [theme=dark] .colab-df-convert {\n",
              "      background-color: #3B4455;\n",
              "      fill: #D2E3FC;\n",
              "    }\n",
              "\n",
              "    [theme=dark] .colab-df-convert:hover {\n",
              "      background-color: #434B5C;\n",
              "      box-shadow: 0px 1px 3px 1px rgba(0, 0, 0, 0.15);\n",
              "      filter: drop-shadow(0px 1px 2px rgba(0, 0, 0, 0.3));\n",
              "      fill: #FFFFFF;\n",
              "    }\n",
              "  </style>\n",
              "\n",
              "    <script>\n",
              "      const buttonEl =\n",
              "        document.querySelector('#df-e8102bd4-07d5-4c0e-8103-5dba17e369a1 button.colab-df-convert');\n",
              "      buttonEl.style.display =\n",
              "        google.colab.kernel.accessAllowed ? 'block' : 'none';\n",
              "\n",
              "      async function convertToInteractive(key) {\n",
              "        const element = document.querySelector('#df-e8102bd4-07d5-4c0e-8103-5dba17e369a1');\n",
              "        const dataTable =\n",
              "          await google.colab.kernel.invokeFunction('convertToInteractive',\n",
              "                                                    [key], {});\n",
              "        if (!dataTable) return;\n",
              "\n",
              "        const docLinkHtml = 'Like what you see? Visit the ' +\n",
              "          '<a target=\"_blank\" href=https://colab.research.google.com/notebooks/data_table.ipynb>data table notebook</a>'\n",
              "          + ' to learn more about interactive tables.';\n",
              "        element.innerHTML = '';\n",
              "        dataTable['output_type'] = 'display_data';\n",
              "        await google.colab.output.renderOutput(dataTable, element);\n",
              "        const docLink = document.createElement('div');\n",
              "        docLink.innerHTML = docLinkHtml;\n",
              "        element.appendChild(docLink);\n",
              "      }\n",
              "    </script>\n",
              "  </div>\n",
              "\n",
              "\n",
              "    <div id=\"df-c0f13198-4426-49ac-9ae9-8679d9346d04\">\n",
              "      <button class=\"colab-df-quickchart\" onclick=\"quickchart('df-c0f13198-4426-49ac-9ae9-8679d9346d04')\"\n",
              "                title=\"Suggest charts\"\n",
              "                style=\"display:none;\">\n",
              "\n",
              "<svg xmlns=\"http://www.w3.org/2000/svg\" height=\"24px\"viewBox=\"0 0 24 24\"\n",
              "     width=\"24px\">\n",
              "    <g>\n",
              "        <path d=\"M19 3H5c-1.1 0-2 .9-2 2v14c0 1.1.9 2 2 2h14c1.1 0 2-.9 2-2V5c0-1.1-.9-2-2-2zM9 17H7v-7h2v7zm4 0h-2V7h2v10zm4 0h-2v-4h2v4z\"/>\n",
              "    </g>\n",
              "</svg>\n",
              "      </button>\n",
              "\n",
              "<style>\n",
              "  .colab-df-quickchart {\n",
              "      --bg-color: #E8F0FE;\n",
              "      --fill-color: #1967D2;\n",
              "      --hover-bg-color: #E2EBFA;\n",
              "      --hover-fill-color: #174EA6;\n",
              "      --disabled-fill-color: #AAA;\n",
              "      --disabled-bg-color: #DDD;\n",
              "  }\n",
              "\n",
              "  [theme=dark] .colab-df-quickchart {\n",
              "      --bg-color: #3B4455;\n",
              "      --fill-color: #D2E3FC;\n",
              "      --hover-bg-color: #434B5C;\n",
              "      --hover-fill-color: #FFFFFF;\n",
              "      --disabled-bg-color: #3B4455;\n",
              "      --disabled-fill-color: #666;\n",
              "  }\n",
              "\n",
              "  .colab-df-quickchart {\n",
              "    background-color: var(--bg-color);\n",
              "    border: none;\n",
              "    border-radius: 50%;\n",
              "    cursor: pointer;\n",
              "    display: none;\n",
              "    fill: var(--fill-color);\n",
              "    height: 32px;\n",
              "    padding: 0;\n",
              "    width: 32px;\n",
              "  }\n",
              "\n",
              "  .colab-df-quickchart:hover {\n",
              "    background-color: var(--hover-bg-color);\n",
              "    box-shadow: 0 1px 2px rgba(60, 64, 67, 0.3), 0 1px 3px 1px rgba(60, 64, 67, 0.15);\n",
              "    fill: var(--button-hover-fill-color);\n",
              "  }\n",
              "\n",
              "  .colab-df-quickchart-complete:disabled,\n",
              "  .colab-df-quickchart-complete:disabled:hover {\n",
              "    background-color: var(--disabled-bg-color);\n",
              "    fill: var(--disabled-fill-color);\n",
              "    box-shadow: none;\n",
              "  }\n",
              "\n",
              "  .colab-df-spinner {\n",
              "    border: 2px solid var(--fill-color);\n",
              "    border-color: transparent;\n",
              "    border-bottom-color: var(--fill-color);\n",
              "    animation:\n",
              "      spin 1s steps(1) infinite;\n",
              "  }\n",
              "\n",
              "  @keyframes spin {\n",
              "    0% {\n",
              "      border-color: transparent;\n",
              "      border-bottom-color: var(--fill-color);\n",
              "      border-left-color: var(--fill-color);\n",
              "    }\n",
              "    20% {\n",
              "      border-color: transparent;\n",
              "      border-left-color: var(--fill-color);\n",
              "      border-top-color: var(--fill-color);\n",
              "    }\n",
              "    30% {\n",
              "      border-color: transparent;\n",
              "      border-left-color: var(--fill-color);\n",
              "      border-top-color: var(--fill-color);\n",
              "      border-right-color: var(--fill-color);\n",
              "    }\n",
              "    40% {\n",
              "      border-color: transparent;\n",
              "      border-right-color: var(--fill-color);\n",
              "      border-top-color: var(--fill-color);\n",
              "    }\n",
              "    60% {\n",
              "      border-color: transparent;\n",
              "      border-right-color: var(--fill-color);\n",
              "    }\n",
              "    80% {\n",
              "      border-color: transparent;\n",
              "      border-right-color: var(--fill-color);\n",
              "      border-bottom-color: var(--fill-color);\n",
              "    }\n",
              "    90% {\n",
              "      border-color: transparent;\n",
              "      border-bottom-color: var(--fill-color);\n",
              "    }\n",
              "  }\n",
              "</style>\n",
              "\n",
              "      <script>\n",
              "        async function quickchart(key) {\n",
              "          const quickchartButtonEl =\n",
              "            document.querySelector('#' + key + ' button');\n",
              "          quickchartButtonEl.disabled = true;  // To prevent multiple clicks.\n",
              "          quickchartButtonEl.classList.add('colab-df-spinner');\n",
              "          try {\n",
              "            const charts = await google.colab.kernel.invokeFunction(\n",
              "                'suggestCharts', [key], {});\n",
              "          } catch (error) {\n",
              "            console.error('Error during call to suggestCharts:', error);\n",
              "          }\n",
              "          quickchartButtonEl.classList.remove('colab-df-spinner');\n",
              "          quickchartButtonEl.classList.add('colab-df-quickchart-complete');\n",
              "        }\n",
              "        (() => {\n",
              "          let quickchartButtonEl =\n",
              "            document.querySelector('#df-c0f13198-4426-49ac-9ae9-8679d9346d04 button');\n",
              "          quickchartButtonEl.style.display =\n",
              "            google.colab.kernel.accessAllowed ? 'block' : 'none';\n",
              "        })();\n",
              "      </script>\n",
              "    </div>\n",
              "\n",
              "    </div>\n",
              "  </div>\n"
            ],
            "application/vnd.google.colaboratory.intrinsic+json": {
              "type": "dataframe",
              "variable_name": "X",
              "summary": "{\n  \"name\": \"X\",\n  \"rows\": 168,\n  \"fields\": [\n    {\n      \"column\": \"id\",\n      \"properties\": {\n        \"dtype\": \"number\",\n        \"std\": 55,\n        \"min\": 0,\n        \"max\": 193,\n        \"num_unique_values\": 168,\n        \"samples\": [\n          158,\n          35,\n          137\n        ],\n        \"semantic_type\": \"\",\n        \"description\": \"\"\n      }\n    },\n    {\n      \"column\": \"title\",\n      \"properties\": {\n        \"dtype\": \"string\",\n        \"num_unique_values\": 168,\n        \"samples\": [\n          \"Burlesque Dancer Fired, Investigated by Secret Service for Trump Assassination Tweet - Breitbart\",\n          \"Russia Moves to Ban Jehovah\\u2019s Witnesses as \\u2018Extremist\\u2019 - The New York Times\",\n          \"The Monsanto Tribunal Is Over. How Did It Go? And What Happens Now?\"\n        ],\n        \"semantic_type\": \"\",\n        \"description\": \"\"\n      }\n    },\n    {\n      \"column\": \"author\",\n      \"properties\": {\n        \"dtype\": \"string\",\n        \"num_unique_values\": 144,\n        \"samples\": [\n          \"Colin Taylor\",\n          \"Pam Key\",\n          \"Activist Post\"\n        ],\n        \"semantic_type\": \"\",\n        \"description\": \"\"\n      }\n    },\n    {\n      \"column\": \"text\",\n      \"properties\": {\n        \"dtype\": \"string\",\n        \"num_unique_values\": 168,\n        \"samples\": [\n          \"The Secret Service is investigating a burlesque dancer from Kentucky after she posted a Tweet that said she hoped someone would be \\u201ckind enough\\u201d to assassinate President Donald Trump. [\\u201cIf someone was cruel enough to assassinate MLK, maybe someone will be kind enough to assassinate Trump,\\u201d Heather Lowrey, 26, of Louisville wrote on Twitter.  The Secret Service confirmed it interviewed Lowrey and is still investigating the incident, the New York Daily News reported. Lowrey posted the Tweet Jan. 17, three days before Trump\\u2019s inauguration. The Tweet disappeared not long after it was posted, along with all her social media accounts. The bio on her profile said she was a \\u201ca Louisville Vixen and aspiring WWE diva\\u201d before the account was taken down, the Daily News reported. No charges have been announced against her yet, but her former employers have already issued statements denouncing the Tweet and have severed ties with her, WAVE reported. Va Va Vixens, a burlesque group in Louisville, let Lowrey go as soon as they found out about the incident, citing a \\u201czero tolerance policy\\u201d for her behavior. \\u201cWe do not condone hate by any party and will not partake in it. We in no way support negative behavior or malicious intent from anyone,\\u201d the group said. American Income Life, Travis Moody Office, also severed ties with Lowrey and issued a statement on the company\\u2019s Facebook page saying, \\u201cHeather Lowrey is no longer contracted with the Travis Moody Agency. \\u201d \\u201cThe Travis Moody Agency, its agents and its staff do not share the same views, nor opinions as Heather Lowrey. We have a zero tolerance policy and would never condone this behavior,\\u201d the company said. She is the only person to face a federal investigation for posting about the assassination of President Trump. The Secret Service is also reportedly looking into Madonna\\u2019s comments at the Women\\u2019s March on Washington Saturday after the singer said she had thought of \\u201cblowing up the White House. \\u201d\",\n          \"VOROKHOBINO, Russia  \\u2014   A dedicated pacifist who has never even held a gun, Andrei Sivak discovered that his government considered him a dangerous extremist when he tried to change some money and the teller \\u201csuddenly looked up at me with a face full of fear. \\u201d His name had popped up on the exchange bureau\\u2019s computer system, along with those of members of Al Qaeda, the Islamic State and other militant groups responsible for shocking acts of violence. The only group the    father of three has ever belonged to, however, is Jehovah\\u2019s Witnesses, a Christian denomination committed to the belief that the Bible must be taken literally, particularly its injunction \\u201cThou shalt not kill. \\u201d Yet, in a throwback to the days of the Soviet Union, when Jehovah\\u2019s Witnesses were hounded as spies and malcontents by the K. G. B. the denomination is at the center of an escalating campaign by the authorities to curtail religious groups that compete with the Russian Orthodox Church and that challenge President Vladimir V. Putin\\u2019s efforts to rally the country behind traditional and often militaristic patriotic values. The Justice Ministry, in a preliminary adminstrative strike last month, put the headquarters of Jehovah\\u2019s Witnesses in Russia, an office complex near St. Petersburg, on a list of the bodies banned \\u201cin connection with the carrying out of extremist activities. \\u201d Whether it stays there will depend on Russia\\u2019s Supreme Court, which is scheduled to meet on Wednesday to hear a request from the Justice Ministry to outlaw the religious organization and stop its more than 170, 000 Russian members from spreading \\u201cextremist\\u201d texts. Extremism, as defined by a law passed in 2002 but amended and expanded several times since, has become a catchall charge that can be deployed against just about anybody, as it has been against some of those involved in recent   protests in Moscow and scores of other cities. Several students who took part in demonstrations in the Siberian city of Tomsk are now being investigated by a special   unit, while Leonid Volkov, the senior aide to the jailed protest leader Aleksei A. Navalny, said he himself was detained last week under the extremism law. In the case of Jehovah\\u2019s Witnesses, the putative extremism seems to derive mostly from the group\\u2019s absolute opposition to violence, a stand that infuriated Soviet and now Russian authorities whose legitimacy rests in large part on the celebration of martial triumphs, most notably over Nazi Germany in World War II but also over rebels in Syria. Jehovah\\u2019s Witnesses, members of a denomination founded in the United States in the 19th century and active in Russia for more than 100 years, refuse military service, do not vote and view God as the only true leader. They shun the patriotic festivals promoted with gusto by the Kremlin, like the annual celebration of victory in 1945 and recent events to celebrate the annexation of Crimea in March 2014. Mr. Sivak, who says he lost his job as a physical education teacher because of his role as a Jehovah\\u2019s Witnesses elder, said he voted for Mr. Putin in 2000, three years before joining the denomination. He added that while he had not voted since, nor had he supported   activities of the sort that usually attract the attention of Russia\\u2019s   version of the K. G. B. the Federal Security Service, or F. S. B. \\u201cI have absolutely no interest in politics,\\u201d he said during a recent Jehovah\\u2019s Witnesses Friday service in a wooden country house in Vorokhobino, a   village north of Moscow. Around 100 worshipers crammed into a long, chilly room under fluorescent lights to listen to readings from the Bible, sing and watch a video advising them to dress for worship as they would for a meeting with the president. \\u201cFrom the Russian state\\u2019s perspective, Jehovah\\u2019s Witnesses are completely separate,\\u201d said Geraldine Fagan, the author of \\u201cBelieving in Russia  \\u2014   Religious Policy After Communism. \\u201d She added, \\u201cThey don\\u2019t get involved in politics, but this is itself seen as a suspicious political deviation. \\u201d \\u201cThe idea of independent and public religious activity that is completely outside the control of  \\u2014   and also indifferent to  \\u2014   the state sets all sorts of alarm bells ringing in the Orthodox Church and the security services,\\u201d she said. That the worldwide headquarters of Jehovah\\u2019s Witnesses is in the United States and that its publications are mostly prepared there, Ms. Fagan added, \\u201call adds up to a big conspiracy theory\\u201d for the increasingly assertive F. S. B. For Mr. Sivak, it has added up to a long legal nightmare. His troubles began, he said, when undercover security officers posed as worshipers and secretly filmed a service where he was helping to officiate in 2010. Accused of \\u201cinciting hatred and disparaging the human dignity of citizens,\\u201d he was put on trial for extremism along with a second elder, Vyacheslav Stepanov, 40. The prosecutor\\u2019s case, heard by a municipal court in Sergiyev Posad, a center of the Russian Orthodox Church, produced no evidence of extremism and focused instead on the insufficient patriotism of Jehovah\\u2019s Witnesses. \\u201cTheir disregard for the state,\\u201d a report prepared for the prosecution said, \\u201cerodes any sense of civic affiliation and promotes the destruction of national and state security. \\u201d In a ruling last year, the court found the two men not guilty, and their ordeal seemed over  \\u2014   until Mr. Sivak tried to change money and was told that he had been placed on a list of \\u201cterrorists and extremists. \\u201d He and Mr. Stepanov now face new charges of extremism and are to appear before a regional court this month. \\u201cThere is a big wave of repression breaking,\\u201d Mr. Stepanov said. In response to written questions, the Justice Ministry in Moscow said a yearlong review of documents at the Jehovah\\u2019s Witnesses \\u201cadministrative center\\u201d near St. Petersburg had uncovered violations of a Russian law banning extremism. As a result, it added, the center should be \\u201cliquidated,\\u201d along with nearly 400 locally registered branches of the group and other structures. For the denomination\\u2019s leaders in Russia, the sharp escalation in a long campaign of harassment, previously driven mostly by local officials, drew horrifying flashbacks to the Soviet era. Vasily Kalin, the chairman of Jehovah\\u2019s Witnesses\\u2019 Russian arm, recalled that his whole family had been deported to Siberia when he was a child. \\u201cIt is sad and reprehensible that my children and grandchildren should be facing a similar fate,\\u201d he said. \\u201cNever did I expect that we would again face the threat of religious persecution in modern Russia. \\u201d In Russia, as in many countries, the    proselytizing of Jehovah\\u2019s Witnesses often causes irritation, and their theological idiosyncrasies disturb many mainstream Christians. The group has also been widely criticized for saying that the Bible prohibits blood transfusions. But it has never promoted violent or even peaceful political resistance. \\u201cI cannot imagine that anyone really thinks they are a threat,\\u201d said Alexander Verkhovsky, director of the SOVA Center for Information and Analysis, which monitors extremism in Russia. \\u201cBut they are seen as a good target. They are pacifists, so they cannot be radicalized, no matter what you do to them. They can be used to send a message. \\u201d That message, it would seem, is that everyone needs to get with the Putin program  \\u2014   or risk being branded as an extremist for displaying indifference, never mind hostility, to the Kremlin\\u2019s drive to make Russia a great power again. \\u201cA big reason they are being targeted is simply that they are an easy target,\\u201d Ms. Fagan said. \\u201cThey don\\u2019t vote, so nobody is going to lose votes by attacking them. \\u201d Attacking Jehovah\\u2019s Witnesses also sends a signal that even the mildest deviation from the norm, if proclaimed publicly and insistently, can be punished under the   law, which was passed after Russia\\u2019s second war in Chechnya and the Sept. 11 attacks in the United States. Billed as a move by Russia to join a worldwide struggle against terrorism, the law prohibited \\u201cincitement of racial, national or religious strife, and social hatred associated with violence or calls for violence. \\u201d But the reference to violence was later deleted, opening the way for the authorities to classify as extremist any group claiming to offer a unique, true path to religious or political salvation. Even the Russian Orthodox Church has sometimes fallen afoul of the law: The slogan \\u201cOrthodoxy or Death!\\u201d  \\u2014   a rallying cry embraced by some   believers  \\u2014   has been banned as an illegal extremist text. To help protect the Orthodox Church and other established religions, Parliament passed a law in 2015 to exempt the Bible and the Quran, as well as Jewish and Buddhist scripture, from charges of extremism based on their claims to offer the only true faith. The main impetus for the current crackdown, however, appears to come from the security services, not the Orthodox Church. Roman Lunkin, director of the Institute of Religion and Law, a Moscow research group, described it as \\u201cpart of a broad policy of suppressing all nongovernmental organizations\\u201d that has gained particular force because of the highly centralized structure of Jehovah\\u2019s Witnesses under a worldwide leadership based in the United States. \\u201cThey are controlled from outside Russia, and this is very suspicious for our secret services,\\u201d he said. \\u201cThey don\\u2019t like having an organization that they do not and cannot control. \\u201d Artyom Grigoryan, a former Jehovah\\u2019s Witness who used to work at the group\\u2019s Russian headquarters but who now follows the Orthodox Church, said the organization had \\u201cmany positive elements,\\u201d like its ban on excessive drinking, smoking and other unhealthy habits. All the same, he said it deserved to be treated with suspicion. \\u201cLook at it from the view of the state,\\u201d he said. \\u201cHere is an organization that is run from America, that gets financing from abroad, and whose members don\\u2019t serve in the army and don\\u2019t vote. \\u201d Estranged from his parents, who are still members and view his departure as sinful, he said Jehovah\\u2019s Witnesses broke up families and \\u201cin the logic of the state, it presents a threat. \\u201d He added, \\u201cI am not saying this is real or not, but it needs to be checked by objective experts. \\u201d Mr. Sivak, now preparing for yet another trial, said that he had always tried to follow the law and that he respected the state, but could not put its interests above the commands of his faith. \\u201cThey say I am a terrorist,\\u201d he said, \\u201cbut all I ever wanted to do was to get people to pay attention to the Bible. \\u201d\",\n          \"Editor\\u2019s Note: The Monsanto Tribunal happened from October 14th through 16th in The Hague, Netherlands. The People\\u2019s Assembly was a parallel event, where farmers, consumer movements, and their associated networks discussed how we can feed the world in a safe way. Both events are now over, so what happens now? Read the article below to find out.\\nREAD: Monsanto \\u201cCrimes Against Humanity\\u201d Tribunal Officially Begins October 14th In Hague Netherlands \\nThe hearings of the Monsanto Tribunal were very impressive, and so was the People\\u2019s Assembly. During the last two days of the event, the world watched witnesses\\u2019 testimonies, lawyers\\u2019 pleas, and the first impressions of the judges. At the Tribunal, 750 people participated in The Hague representing 30 nationalities from all over the world, thousands of people followed online on the livestream and social media, and the Tribunal received a lot of press attention.\\nBoth victims and experts thanked us for giving them a voice on this important international platform \\u2014 and a very well documented voice in this new process to hold corporations accountable for their acts.\\nThe chairwoman of the Tribunal, Judge Tulkens, expressed the importance of the Tribunal in an interview with the French newspaper, Le Monde:\\nThe questions of the access to water and to healthy food are old. Those are not new issues coming out of the mind of angry activists. Those issues, just like the right to a healthy environment are likely to become more important with climate change. It is our duty to set legal tools to face those issues. The Monsanto Tribunal is a step and a tool within this dynamic.\\u201d \\nThe Tribunal received quite a lot of media coverage. From French and German TV news programs to many newspapers and radio programs in various countries. See the links on our social media platforms (and later on the website).\\nDid Monsanto attend the Tribunal? Monsanto was invited to the Tribunal, but decided not to appear for their defense. We did get their attention though. They issued a statement in 5 languages saying that we are \\u2018pushing\\u2019 the wrong issues, since the real discussion is about feeding the world. Monsanto fails to see feeding the world in a safe way was exactly the topic of the Tribunal and of the discussion farmers, consumer movements, and their associated networks had in the parallel People\\u2019s Assembly.\\nMany eminent speakers stressed that Monsanto and agribusiness giants like them do not feed the world. Rather, they are involved in producing commodities, feed for animals, fuel for cars, and sugar for the food industry at a very high cost for human health and environment. This is production that feeds profit, not people. It\\u2019s the small- and medium-scale farmers that are actually feeding the world.\\nWhat is the purpose of the Monsanto Tribunal and the People\\u2019s Assembly? This Tribunal and People\\u2019s Assembly are about showing the tremendous costs of industrial farming for humans, for health, and for nature . They are also about standing up to Monsanto and their likes, and stopping them from poisoning our world and controlling our food supply. One way to do this is by showing the true cost of the current global food system, and the very real alternatives that exist.\\nNnimmo Bassey at the opening said :\\nBeing an ambassador to this Tribunal is like being an ambassador to mother Earth. If mother Earth could speak, Monsanto ought to be in jail long before now. Food is a celebration, it is culture, it is life. This is a struggle not against one multinational corporation, it is a struggle for life, it is a struggle for liberty. A struggle to stop big companies from colonizing our food systems, colonizing our agriculture, holding mother Earth as a slave for their profits.\\u201d \\nIf you want, you can follow the Monsanto Tribunal on Facebook , where many pictures and videos have already been posted. You can also see them if you have no Facebook yourself. In the coming weeks, we will continue to release short interviews of the witnesses, experts and lawyers, as well as the speakers in the People\\u2019s Assembly. We will also add all of this to our website , including all the hearings of the Tribunal and the written testimonies in different languages. Please be patient, we will keep you informed!\\nWhat happens now that the Tribunal is over? The judges are now thoroughly reviewing the evidence from legal briefs and witness testimonies to answer the six questions posed in the Tribunal\\u2019s terms of reference. They will then present a legal advisory opinion, hopefully soon but if necessary next spring: we will supply logistic support, but the timing is up to them.\\nAs Judge Tulkens said:\\nWe will try to deliver the legal opinion before December 10th, the International Day of human Rights. It will be addressed to Monsanto and to the United Nations. From this legal opinion, other jurisdictions can be involved and more judges will step in. We, as the judges [at the Monsanto Tribunal]have seen, heard, noted and deliberated. Chances are that the international law will take into consideration new issues such as the ones related to ecocide.\\u201d \\nWhat you can do to help We would like to thank you and all the volunteers for your amazing support. This would not have been possible without you. Stay tuned, follow us on social media, show your support and share messages wherever and whenever you can. Ask friends to sign their support . Together we will put an end to the era of poisoning and exploiting the world and move onward to a system where we work with nature instead of waging a war against it.\\nNote: Image from the Monsanto Tribunal. \\nOriginally published on the Monsanto Tribunal website . \\nVia: Food Revolution\\nh/t Stillness in the Storm \\n\"\n        ],\n        \"semantic_type\": \"\",\n        \"description\": \"\"\n      }\n    }\n  ]\n}"
            }
          },
          "metadata": {},
          "execution_count": 19
        }
      ]
    },
    {
      "cell_type": "code",
      "source": [
        "# Lets get dependent features\n",
        "y = df['label']"
      ],
      "metadata": {
        "id": "txyxfdwnnZwK"
      },
      "execution_count": 20,
      "outputs": []
    },
    {
      "cell_type": "code",
      "source": [
        "y"
      ],
      "metadata": {
        "colab": {
          "base_uri": "https://localhost:8080/",
          "height": 458
        },
        "id": "FMK3SzErnpIs",
        "outputId": "61b891b8-f071-45b0-81cf-6b93d05f80be"
      },
      "execution_count": 21,
      "outputs": [
        {
          "output_type": "execute_result",
          "data": {
            "text/plain": [
              "0      1\n",
              "1      0\n",
              "2      1\n",
              "3      1\n",
              "4      1\n",
              "      ..\n",
              "189    1\n",
              "190    1\n",
              "191    0\n",
              "192    1\n",
              "193    1\n",
              "Name: label, Length: 168, dtype: int64"
            ],
            "text/html": [
              "<div>\n",
              "<style scoped>\n",
              "    .dataframe tbody tr th:only-of-type {\n",
              "        vertical-align: middle;\n",
              "    }\n",
              "\n",
              "    .dataframe tbody tr th {\n",
              "        vertical-align: top;\n",
              "    }\n",
              "\n",
              "    .dataframe thead th {\n",
              "        text-align: right;\n",
              "    }\n",
              "</style>\n",
              "<table border=\"1\" class=\"dataframe\">\n",
              "  <thead>\n",
              "    <tr style=\"text-align: right;\">\n",
              "      <th></th>\n",
              "      <th>label</th>\n",
              "    </tr>\n",
              "  </thead>\n",
              "  <tbody>\n",
              "    <tr>\n",
              "      <th>0</th>\n",
              "      <td>1</td>\n",
              "    </tr>\n",
              "    <tr>\n",
              "      <th>1</th>\n",
              "      <td>0</td>\n",
              "    </tr>\n",
              "    <tr>\n",
              "      <th>2</th>\n",
              "      <td>1</td>\n",
              "    </tr>\n",
              "    <tr>\n",
              "      <th>3</th>\n",
              "      <td>1</td>\n",
              "    </tr>\n",
              "    <tr>\n",
              "      <th>4</th>\n",
              "      <td>1</td>\n",
              "    </tr>\n",
              "    <tr>\n",
              "      <th>...</th>\n",
              "      <td>...</td>\n",
              "    </tr>\n",
              "    <tr>\n",
              "      <th>189</th>\n",
              "      <td>1</td>\n",
              "    </tr>\n",
              "    <tr>\n",
              "      <th>190</th>\n",
              "      <td>1</td>\n",
              "    </tr>\n",
              "    <tr>\n",
              "      <th>191</th>\n",
              "      <td>0</td>\n",
              "    </tr>\n",
              "    <tr>\n",
              "      <th>192</th>\n",
              "      <td>1</td>\n",
              "    </tr>\n",
              "    <tr>\n",
              "      <th>193</th>\n",
              "      <td>1</td>\n",
              "    </tr>\n",
              "  </tbody>\n",
              "</table>\n",
              "<p>168 rows × 1 columns</p>\n",
              "</div><br><label><b>dtype:</b> int64</label>"
            ]
          },
          "metadata": {},
          "execution_count": 21
        }
      ]
    },
    {
      "cell_type": "code",
      "source": [
        "import tensorflow as tf"
      ],
      "metadata": {
        "id": "sJ8Z-LGEnpmD"
      },
      "execution_count": 22,
      "outputs": []
    },
    {
      "cell_type": "code",
      "source": [
        "from tensorflow.keras.layers import Embedding\n",
        "from tensorflow.keras.preprocessing.sequence import pad_sequences\n",
        "from tensorflow.keras.models import Sequential\n",
        "from tensorflow.keras.preprocessing.text import one_hot\n",
        "from tensorflow.keras.layers import LSTM\n",
        "from tensorflow.keras.layers import Dense"
      ],
      "metadata": {
        "id": "fKDgO_fknylx"
      },
      "execution_count": 23,
      "outputs": []
    },
    {
      "cell_type": "code",
      "source": [
        "# Vocabulary size\n",
        "voc_size=5000"
      ],
      "metadata": {
        "id": "Q2ALmyOen1MM"
      },
      "execution_count": 24,
      "outputs": []
    },
    {
      "cell_type": "markdown",
      "source": [
        "### One Hot Representation\n",
        "\n",
        "\n"
      ],
      "metadata": {
        "id": "Qh4FVlyYoEaZ"
      }
    },
    {
      "cell_type": "code",
      "source": [
        "messages = X.copy()"
      ],
      "metadata": {
        "id": "qgpS-6Y2n3O4"
      },
      "execution_count": 25,
      "outputs": []
    },
    {
      "cell_type": "code",
      "source": [
        "print(len(messages))"
      ],
      "metadata": {
        "colab": {
          "base_uri": "https://localhost:8080/"
        },
        "id": "0G-kxssUsR6Q",
        "outputId": "ae4c72d7-6c54-413c-e71d-c7dd466d7f5c"
      },
      "execution_count": 26,
      "outputs": [
        {
          "output_type": "stream",
          "name": "stdout",
          "text": [
            "168\n"
          ]
        }
      ]
    },
    {
      "cell_type": "code",
      "source": [
        "messages['title'][1]"
      ],
      "metadata": {
        "colab": {
          "base_uri": "https://localhost:8080/",
          "height": 35
        },
        "id": "2gvhXsdBoNKj",
        "outputId": "49af9a1d-ee48-4a17-9e12-2b0b716b925b"
      },
      "execution_count": 27,
      "outputs": [
        {
          "output_type": "execute_result",
          "data": {
            "text/plain": [
              "'FLYNN: Hillary Clinton, Big Woman on Campus - Breitbart'"
            ],
            "application/vnd.google.colaboratory.intrinsic+json": {
              "type": "string"
            }
          },
          "metadata": {},
          "execution_count": 27
        }
      ]
    },
    {
      "cell_type": "code",
      "source": [
        "messages.reset_index(inplace=True)"
      ],
      "metadata": {
        "id": "cfberPFvs2tx"
      },
      "execution_count": 28,
      "outputs": []
    },
    {
      "cell_type": "code",
      "source": [
        "messages.head()"
      ],
      "metadata": {
        "colab": {
          "base_uri": "https://localhost:8080/",
          "height": 206
        },
        "id": "u-lq7KLPs6Vm",
        "outputId": "ac90989e-3d32-4cf4-fef9-a0eef99aafb3"
      },
      "execution_count": 29,
      "outputs": [
        {
          "output_type": "execute_result",
          "data": {
            "text/plain": [
              "   index  id                                              title  \\\n",
              "0      0   0  House Dem Aide: We Didn’t Even See Comey’s Let...   \n",
              "1      1   1  FLYNN: Hillary Clinton, Big Woman on Campus - ...   \n",
              "2      2   2                  Why the Truth Might Get You Fired   \n",
              "3      3   3  15 Civilians Killed In Single US Airstrike Hav...   \n",
              "4      4   4  Iranian woman jailed for fictional unpublished...   \n",
              "\n",
              "               author                                               text  \n",
              "0       Darrell Lucus  House Dem Aide: We Didn’t Even See Comey’s Let...  \n",
              "1     Daniel J. Flynn  Ever get the feeling your life circles the rou...  \n",
              "2  Consortiumnews.com  Why the Truth Might Get You Fired October 29, ...  \n",
              "3     Jessica Purkiss  Videos 15 Civilians Killed In Single US Airstr...  \n",
              "4      Howard Portnoy  Print \\nAn Iranian woman has been sentenced to...  "
            ],
            "text/html": [
              "\n",
              "  <div id=\"df-006172e0-58cf-4454-8871-f1925c60b7b9\" class=\"colab-df-container\">\n",
              "    <div>\n",
              "<style scoped>\n",
              "    .dataframe tbody tr th:only-of-type {\n",
              "        vertical-align: middle;\n",
              "    }\n",
              "\n",
              "    .dataframe tbody tr th {\n",
              "        vertical-align: top;\n",
              "    }\n",
              "\n",
              "    .dataframe thead th {\n",
              "        text-align: right;\n",
              "    }\n",
              "</style>\n",
              "<table border=\"1\" class=\"dataframe\">\n",
              "  <thead>\n",
              "    <tr style=\"text-align: right;\">\n",
              "      <th></th>\n",
              "      <th>index</th>\n",
              "      <th>id</th>\n",
              "      <th>title</th>\n",
              "      <th>author</th>\n",
              "      <th>text</th>\n",
              "    </tr>\n",
              "  </thead>\n",
              "  <tbody>\n",
              "    <tr>\n",
              "      <th>0</th>\n",
              "      <td>0</td>\n",
              "      <td>0</td>\n",
              "      <td>House Dem Aide: We Didn’t Even See Comey’s Let...</td>\n",
              "      <td>Darrell Lucus</td>\n",
              "      <td>House Dem Aide: We Didn’t Even See Comey’s Let...</td>\n",
              "    </tr>\n",
              "    <tr>\n",
              "      <th>1</th>\n",
              "      <td>1</td>\n",
              "      <td>1</td>\n",
              "      <td>FLYNN: Hillary Clinton, Big Woman on Campus - ...</td>\n",
              "      <td>Daniel J. Flynn</td>\n",
              "      <td>Ever get the feeling your life circles the rou...</td>\n",
              "    </tr>\n",
              "    <tr>\n",
              "      <th>2</th>\n",
              "      <td>2</td>\n",
              "      <td>2</td>\n",
              "      <td>Why the Truth Might Get You Fired</td>\n",
              "      <td>Consortiumnews.com</td>\n",
              "      <td>Why the Truth Might Get You Fired October 29, ...</td>\n",
              "    </tr>\n",
              "    <tr>\n",
              "      <th>3</th>\n",
              "      <td>3</td>\n",
              "      <td>3</td>\n",
              "      <td>15 Civilians Killed In Single US Airstrike Hav...</td>\n",
              "      <td>Jessica Purkiss</td>\n",
              "      <td>Videos 15 Civilians Killed In Single US Airstr...</td>\n",
              "    </tr>\n",
              "    <tr>\n",
              "      <th>4</th>\n",
              "      <td>4</td>\n",
              "      <td>4</td>\n",
              "      <td>Iranian woman jailed for fictional unpublished...</td>\n",
              "      <td>Howard Portnoy</td>\n",
              "      <td>Print \\nAn Iranian woman has been sentenced to...</td>\n",
              "    </tr>\n",
              "  </tbody>\n",
              "</table>\n",
              "</div>\n",
              "    <div class=\"colab-df-buttons\">\n",
              "\n",
              "  <div class=\"colab-df-container\">\n",
              "    <button class=\"colab-df-convert\" onclick=\"convertToInteractive('df-006172e0-58cf-4454-8871-f1925c60b7b9')\"\n",
              "            title=\"Convert this dataframe to an interactive table.\"\n",
              "            style=\"display:none;\">\n",
              "\n",
              "  <svg xmlns=\"http://www.w3.org/2000/svg\" height=\"24px\" viewBox=\"0 -960 960 960\">\n",
              "    <path d=\"M120-120v-720h720v720H120Zm60-500h600v-160H180v160Zm220 220h160v-160H400v160Zm0 220h160v-160H400v160ZM180-400h160v-160H180v160Zm440 0h160v-160H620v160ZM180-180h160v-160H180v160Zm440 0h160v-160H620v160Z\"/>\n",
              "  </svg>\n",
              "    </button>\n",
              "\n",
              "  <style>\n",
              "    .colab-df-container {\n",
              "      display:flex;\n",
              "      gap: 12px;\n",
              "    }\n",
              "\n",
              "    .colab-df-convert {\n",
              "      background-color: #E8F0FE;\n",
              "      border: none;\n",
              "      border-radius: 50%;\n",
              "      cursor: pointer;\n",
              "      display: none;\n",
              "      fill: #1967D2;\n",
              "      height: 32px;\n",
              "      padding: 0 0 0 0;\n",
              "      width: 32px;\n",
              "    }\n",
              "\n",
              "    .colab-df-convert:hover {\n",
              "      background-color: #E2EBFA;\n",
              "      box-shadow: 0px 1px 2px rgba(60, 64, 67, 0.3), 0px 1px 3px 1px rgba(60, 64, 67, 0.15);\n",
              "      fill: #174EA6;\n",
              "    }\n",
              "\n",
              "    .colab-df-buttons div {\n",
              "      margin-bottom: 4px;\n",
              "    }\n",
              "\n",
              "    [theme=dark] .colab-df-convert {\n",
              "      background-color: #3B4455;\n",
              "      fill: #D2E3FC;\n",
              "    }\n",
              "\n",
              "    [theme=dark] .colab-df-convert:hover {\n",
              "      background-color: #434B5C;\n",
              "      box-shadow: 0px 1px 3px 1px rgba(0, 0, 0, 0.15);\n",
              "      filter: drop-shadow(0px 1px 2px rgba(0, 0, 0, 0.3));\n",
              "      fill: #FFFFFF;\n",
              "    }\n",
              "  </style>\n",
              "\n",
              "    <script>\n",
              "      const buttonEl =\n",
              "        document.querySelector('#df-006172e0-58cf-4454-8871-f1925c60b7b9 button.colab-df-convert');\n",
              "      buttonEl.style.display =\n",
              "        google.colab.kernel.accessAllowed ? 'block' : 'none';\n",
              "\n",
              "      async function convertToInteractive(key) {\n",
              "        const element = document.querySelector('#df-006172e0-58cf-4454-8871-f1925c60b7b9');\n",
              "        const dataTable =\n",
              "          await google.colab.kernel.invokeFunction('convertToInteractive',\n",
              "                                                    [key], {});\n",
              "        if (!dataTable) return;\n",
              "\n",
              "        const docLinkHtml = 'Like what you see? Visit the ' +\n",
              "          '<a target=\"_blank\" href=https://colab.research.google.com/notebooks/data_table.ipynb>data table notebook</a>'\n",
              "          + ' to learn more about interactive tables.';\n",
              "        element.innerHTML = '';\n",
              "        dataTable['output_type'] = 'display_data';\n",
              "        await google.colab.output.renderOutput(dataTable, element);\n",
              "        const docLink = document.createElement('div');\n",
              "        docLink.innerHTML = docLinkHtml;\n",
              "        element.appendChild(docLink);\n",
              "      }\n",
              "    </script>\n",
              "  </div>\n",
              "\n",
              "\n",
              "    <div id=\"df-bbf9b261-c9dd-4a0a-9d94-f306d0bbb29e\">\n",
              "      <button class=\"colab-df-quickchart\" onclick=\"quickchart('df-bbf9b261-c9dd-4a0a-9d94-f306d0bbb29e')\"\n",
              "                title=\"Suggest charts\"\n",
              "                style=\"display:none;\">\n",
              "\n",
              "<svg xmlns=\"http://www.w3.org/2000/svg\" height=\"24px\"viewBox=\"0 0 24 24\"\n",
              "     width=\"24px\">\n",
              "    <g>\n",
              "        <path d=\"M19 3H5c-1.1 0-2 .9-2 2v14c0 1.1.9 2 2 2h14c1.1 0 2-.9 2-2V5c0-1.1-.9-2-2-2zM9 17H7v-7h2v7zm4 0h-2V7h2v10zm4 0h-2v-4h2v4z\"/>\n",
              "    </g>\n",
              "</svg>\n",
              "      </button>\n",
              "\n",
              "<style>\n",
              "  .colab-df-quickchart {\n",
              "      --bg-color: #E8F0FE;\n",
              "      --fill-color: #1967D2;\n",
              "      --hover-bg-color: #E2EBFA;\n",
              "      --hover-fill-color: #174EA6;\n",
              "      --disabled-fill-color: #AAA;\n",
              "      --disabled-bg-color: #DDD;\n",
              "  }\n",
              "\n",
              "  [theme=dark] .colab-df-quickchart {\n",
              "      --bg-color: #3B4455;\n",
              "      --fill-color: #D2E3FC;\n",
              "      --hover-bg-color: #434B5C;\n",
              "      --hover-fill-color: #FFFFFF;\n",
              "      --disabled-bg-color: #3B4455;\n",
              "      --disabled-fill-color: #666;\n",
              "  }\n",
              "\n",
              "  .colab-df-quickchart {\n",
              "    background-color: var(--bg-color);\n",
              "    border: none;\n",
              "    border-radius: 50%;\n",
              "    cursor: pointer;\n",
              "    display: none;\n",
              "    fill: var(--fill-color);\n",
              "    height: 32px;\n",
              "    padding: 0;\n",
              "    width: 32px;\n",
              "  }\n",
              "\n",
              "  .colab-df-quickchart:hover {\n",
              "    background-color: var(--hover-bg-color);\n",
              "    box-shadow: 0 1px 2px rgba(60, 64, 67, 0.3), 0 1px 3px 1px rgba(60, 64, 67, 0.15);\n",
              "    fill: var(--button-hover-fill-color);\n",
              "  }\n",
              "\n",
              "  .colab-df-quickchart-complete:disabled,\n",
              "  .colab-df-quickchart-complete:disabled:hover {\n",
              "    background-color: var(--disabled-bg-color);\n",
              "    fill: var(--disabled-fill-color);\n",
              "    box-shadow: none;\n",
              "  }\n",
              "\n",
              "  .colab-df-spinner {\n",
              "    border: 2px solid var(--fill-color);\n",
              "    border-color: transparent;\n",
              "    border-bottom-color: var(--fill-color);\n",
              "    animation:\n",
              "      spin 1s steps(1) infinite;\n",
              "  }\n",
              "\n",
              "  @keyframes spin {\n",
              "    0% {\n",
              "      border-color: transparent;\n",
              "      border-bottom-color: var(--fill-color);\n",
              "      border-left-color: var(--fill-color);\n",
              "    }\n",
              "    20% {\n",
              "      border-color: transparent;\n",
              "      border-left-color: var(--fill-color);\n",
              "      border-top-color: var(--fill-color);\n",
              "    }\n",
              "    30% {\n",
              "      border-color: transparent;\n",
              "      border-left-color: var(--fill-color);\n",
              "      border-top-color: var(--fill-color);\n",
              "      border-right-color: var(--fill-color);\n",
              "    }\n",
              "    40% {\n",
              "      border-color: transparent;\n",
              "      border-right-color: var(--fill-color);\n",
              "      border-top-color: var(--fill-color);\n",
              "    }\n",
              "    60% {\n",
              "      border-color: transparent;\n",
              "      border-right-color: var(--fill-color);\n",
              "    }\n",
              "    80% {\n",
              "      border-color: transparent;\n",
              "      border-right-color: var(--fill-color);\n",
              "      border-bottom-color: var(--fill-color);\n",
              "    }\n",
              "    90% {\n",
              "      border-color: transparent;\n",
              "      border-bottom-color: var(--fill-color);\n",
              "    }\n",
              "  }\n",
              "</style>\n",
              "\n",
              "      <script>\n",
              "        async function quickchart(key) {\n",
              "          const quickchartButtonEl =\n",
              "            document.querySelector('#' + key + ' button');\n",
              "          quickchartButtonEl.disabled = true;  // To prevent multiple clicks.\n",
              "          quickchartButtonEl.classList.add('colab-df-spinner');\n",
              "          try {\n",
              "            const charts = await google.colab.kernel.invokeFunction(\n",
              "                'suggestCharts', [key], {});\n",
              "          } catch (error) {\n",
              "            console.error('Error during call to suggestCharts:', error);\n",
              "          }\n",
              "          quickchartButtonEl.classList.remove('colab-df-spinner');\n",
              "          quickchartButtonEl.classList.add('colab-df-quickchart-complete');\n",
              "        }\n",
              "        (() => {\n",
              "          let quickchartButtonEl =\n",
              "            document.querySelector('#df-bbf9b261-c9dd-4a0a-9d94-f306d0bbb29e button');\n",
              "          quickchartButtonEl.style.display =\n",
              "            google.colab.kernel.accessAllowed ? 'block' : 'none';\n",
              "        })();\n",
              "      </script>\n",
              "    </div>\n",
              "\n",
              "    </div>\n",
              "  </div>\n"
            ],
            "application/vnd.google.colaboratory.intrinsic+json": {
              "type": "dataframe",
              "variable_name": "messages",
              "summary": "{\n  \"name\": \"messages\",\n  \"rows\": 168,\n  \"fields\": [\n    {\n      \"column\": \"index\",\n      \"properties\": {\n        \"dtype\": \"number\",\n        \"std\": 55,\n        \"min\": 0,\n        \"max\": 193,\n        \"num_unique_values\": 168,\n        \"samples\": [\n          158,\n          35,\n          137\n        ],\n        \"semantic_type\": \"\",\n        \"description\": \"\"\n      }\n    },\n    {\n      \"column\": \"id\",\n      \"properties\": {\n        \"dtype\": \"number\",\n        \"std\": 55,\n        \"min\": 0,\n        \"max\": 193,\n        \"num_unique_values\": 168,\n        \"samples\": [\n          158,\n          35,\n          137\n        ],\n        \"semantic_type\": \"\",\n        \"description\": \"\"\n      }\n    },\n    {\n      \"column\": \"title\",\n      \"properties\": {\n        \"dtype\": \"string\",\n        \"num_unique_values\": 168,\n        \"samples\": [\n          \"Burlesque Dancer Fired, Investigated by Secret Service for Trump Assassination Tweet - Breitbart\",\n          \"Russia Moves to Ban Jehovah\\u2019s Witnesses as \\u2018Extremist\\u2019 - The New York Times\",\n          \"The Monsanto Tribunal Is Over. How Did It Go? And What Happens Now?\"\n        ],\n        \"semantic_type\": \"\",\n        \"description\": \"\"\n      }\n    },\n    {\n      \"column\": \"author\",\n      \"properties\": {\n        \"dtype\": \"string\",\n        \"num_unique_values\": 144,\n        \"samples\": [\n          \"Colin Taylor\",\n          \"Pam Key\",\n          \"Activist Post\"\n        ],\n        \"semantic_type\": \"\",\n        \"description\": \"\"\n      }\n    },\n    {\n      \"column\": \"text\",\n      \"properties\": {\n        \"dtype\": \"string\",\n        \"num_unique_values\": 168,\n        \"samples\": [\n          \"The Secret Service is investigating a burlesque dancer from Kentucky after she posted a Tweet that said she hoped someone would be \\u201ckind enough\\u201d to assassinate President Donald Trump. [\\u201cIf someone was cruel enough to assassinate MLK, maybe someone will be kind enough to assassinate Trump,\\u201d Heather Lowrey, 26, of Louisville wrote on Twitter.  The Secret Service confirmed it interviewed Lowrey and is still investigating the incident, the New York Daily News reported. Lowrey posted the Tweet Jan. 17, three days before Trump\\u2019s inauguration. The Tweet disappeared not long after it was posted, along with all her social media accounts. The bio on her profile said she was a \\u201ca Louisville Vixen and aspiring WWE diva\\u201d before the account was taken down, the Daily News reported. No charges have been announced against her yet, but her former employers have already issued statements denouncing the Tweet and have severed ties with her, WAVE reported. Va Va Vixens, a burlesque group in Louisville, let Lowrey go as soon as they found out about the incident, citing a \\u201czero tolerance policy\\u201d for her behavior. \\u201cWe do not condone hate by any party and will not partake in it. We in no way support negative behavior or malicious intent from anyone,\\u201d the group said. American Income Life, Travis Moody Office, also severed ties with Lowrey and issued a statement on the company\\u2019s Facebook page saying, \\u201cHeather Lowrey is no longer contracted with the Travis Moody Agency. \\u201d \\u201cThe Travis Moody Agency, its agents and its staff do not share the same views, nor opinions as Heather Lowrey. We have a zero tolerance policy and would never condone this behavior,\\u201d the company said. She is the only person to face a federal investigation for posting about the assassination of President Trump. The Secret Service is also reportedly looking into Madonna\\u2019s comments at the Women\\u2019s March on Washington Saturday after the singer said she had thought of \\u201cblowing up the White House. \\u201d\",\n          \"VOROKHOBINO, Russia  \\u2014   A dedicated pacifist who has never even held a gun, Andrei Sivak discovered that his government considered him a dangerous extremist when he tried to change some money and the teller \\u201csuddenly looked up at me with a face full of fear. \\u201d His name had popped up on the exchange bureau\\u2019s computer system, along with those of members of Al Qaeda, the Islamic State and other militant groups responsible for shocking acts of violence. The only group the    father of three has ever belonged to, however, is Jehovah\\u2019s Witnesses, a Christian denomination committed to the belief that the Bible must be taken literally, particularly its injunction \\u201cThou shalt not kill. \\u201d Yet, in a throwback to the days of the Soviet Union, when Jehovah\\u2019s Witnesses were hounded as spies and malcontents by the K. G. B. the denomination is at the center of an escalating campaign by the authorities to curtail religious groups that compete with the Russian Orthodox Church and that challenge President Vladimir V. Putin\\u2019s efforts to rally the country behind traditional and often militaristic patriotic values. The Justice Ministry, in a preliminary adminstrative strike last month, put the headquarters of Jehovah\\u2019s Witnesses in Russia, an office complex near St. Petersburg, on a list of the bodies banned \\u201cin connection with the carrying out of extremist activities. \\u201d Whether it stays there will depend on Russia\\u2019s Supreme Court, which is scheduled to meet on Wednesday to hear a request from the Justice Ministry to outlaw the religious organization and stop its more than 170, 000 Russian members from spreading \\u201cextremist\\u201d texts. Extremism, as defined by a law passed in 2002 but amended and expanded several times since, has become a catchall charge that can be deployed against just about anybody, as it has been against some of those involved in recent   protests in Moscow and scores of other cities. Several students who took part in demonstrations in the Siberian city of Tomsk are now being investigated by a special   unit, while Leonid Volkov, the senior aide to the jailed protest leader Aleksei A. Navalny, said he himself was detained last week under the extremism law. In the case of Jehovah\\u2019s Witnesses, the putative extremism seems to derive mostly from the group\\u2019s absolute opposition to violence, a stand that infuriated Soviet and now Russian authorities whose legitimacy rests in large part on the celebration of martial triumphs, most notably over Nazi Germany in World War II but also over rebels in Syria. Jehovah\\u2019s Witnesses, members of a denomination founded in the United States in the 19th century and active in Russia for more than 100 years, refuse military service, do not vote and view God as the only true leader. They shun the patriotic festivals promoted with gusto by the Kremlin, like the annual celebration of victory in 1945 and recent events to celebrate the annexation of Crimea in March 2014. Mr. Sivak, who says he lost his job as a physical education teacher because of his role as a Jehovah\\u2019s Witnesses elder, said he voted for Mr. Putin in 2000, three years before joining the denomination. He added that while he had not voted since, nor had he supported   activities of the sort that usually attract the attention of Russia\\u2019s   version of the K. G. B. the Federal Security Service, or F. S. B. \\u201cI have absolutely no interest in politics,\\u201d he said during a recent Jehovah\\u2019s Witnesses Friday service in a wooden country house in Vorokhobino, a   village north of Moscow. Around 100 worshipers crammed into a long, chilly room under fluorescent lights to listen to readings from the Bible, sing and watch a video advising them to dress for worship as they would for a meeting with the president. \\u201cFrom the Russian state\\u2019s perspective, Jehovah\\u2019s Witnesses are completely separate,\\u201d said Geraldine Fagan, the author of \\u201cBelieving in Russia  \\u2014   Religious Policy After Communism. \\u201d She added, \\u201cThey don\\u2019t get involved in politics, but this is itself seen as a suspicious political deviation. \\u201d \\u201cThe idea of independent and public religious activity that is completely outside the control of  \\u2014   and also indifferent to  \\u2014   the state sets all sorts of alarm bells ringing in the Orthodox Church and the security services,\\u201d she said. That the worldwide headquarters of Jehovah\\u2019s Witnesses is in the United States and that its publications are mostly prepared there, Ms. Fagan added, \\u201call adds up to a big conspiracy theory\\u201d for the increasingly assertive F. S. B. For Mr. Sivak, it has added up to a long legal nightmare. His troubles began, he said, when undercover security officers posed as worshipers and secretly filmed a service where he was helping to officiate in 2010. Accused of \\u201cinciting hatred and disparaging the human dignity of citizens,\\u201d he was put on trial for extremism along with a second elder, Vyacheslav Stepanov, 40. The prosecutor\\u2019s case, heard by a municipal court in Sergiyev Posad, a center of the Russian Orthodox Church, produced no evidence of extremism and focused instead on the insufficient patriotism of Jehovah\\u2019s Witnesses. \\u201cTheir disregard for the state,\\u201d a report prepared for the prosecution said, \\u201cerodes any sense of civic affiliation and promotes the destruction of national and state security. \\u201d In a ruling last year, the court found the two men not guilty, and their ordeal seemed over  \\u2014   until Mr. Sivak tried to change money and was told that he had been placed on a list of \\u201cterrorists and extremists. \\u201d He and Mr. Stepanov now face new charges of extremism and are to appear before a regional court this month. \\u201cThere is a big wave of repression breaking,\\u201d Mr. Stepanov said. In response to written questions, the Justice Ministry in Moscow said a yearlong review of documents at the Jehovah\\u2019s Witnesses \\u201cadministrative center\\u201d near St. Petersburg had uncovered violations of a Russian law banning extremism. As a result, it added, the center should be \\u201cliquidated,\\u201d along with nearly 400 locally registered branches of the group and other structures. For the denomination\\u2019s leaders in Russia, the sharp escalation in a long campaign of harassment, previously driven mostly by local officials, drew horrifying flashbacks to the Soviet era. Vasily Kalin, the chairman of Jehovah\\u2019s Witnesses\\u2019 Russian arm, recalled that his whole family had been deported to Siberia when he was a child. \\u201cIt is sad and reprehensible that my children and grandchildren should be facing a similar fate,\\u201d he said. \\u201cNever did I expect that we would again face the threat of religious persecution in modern Russia. \\u201d In Russia, as in many countries, the    proselytizing of Jehovah\\u2019s Witnesses often causes irritation, and their theological idiosyncrasies disturb many mainstream Christians. The group has also been widely criticized for saying that the Bible prohibits blood transfusions. But it has never promoted violent or even peaceful political resistance. \\u201cI cannot imagine that anyone really thinks they are a threat,\\u201d said Alexander Verkhovsky, director of the SOVA Center for Information and Analysis, which monitors extremism in Russia. \\u201cBut they are seen as a good target. They are pacifists, so they cannot be radicalized, no matter what you do to them. They can be used to send a message. \\u201d That message, it would seem, is that everyone needs to get with the Putin program  \\u2014   or risk being branded as an extremist for displaying indifference, never mind hostility, to the Kremlin\\u2019s drive to make Russia a great power again. \\u201cA big reason they are being targeted is simply that they are an easy target,\\u201d Ms. Fagan said. \\u201cThey don\\u2019t vote, so nobody is going to lose votes by attacking them. \\u201d Attacking Jehovah\\u2019s Witnesses also sends a signal that even the mildest deviation from the norm, if proclaimed publicly and insistently, can be punished under the   law, which was passed after Russia\\u2019s second war in Chechnya and the Sept. 11 attacks in the United States. Billed as a move by Russia to join a worldwide struggle against terrorism, the law prohibited \\u201cincitement of racial, national or religious strife, and social hatred associated with violence or calls for violence. \\u201d But the reference to violence was later deleted, opening the way for the authorities to classify as extremist any group claiming to offer a unique, true path to religious or political salvation. Even the Russian Orthodox Church has sometimes fallen afoul of the law: The slogan \\u201cOrthodoxy or Death!\\u201d  \\u2014   a rallying cry embraced by some   believers  \\u2014   has been banned as an illegal extremist text. To help protect the Orthodox Church and other established religions, Parliament passed a law in 2015 to exempt the Bible and the Quran, as well as Jewish and Buddhist scripture, from charges of extremism based on their claims to offer the only true faith. The main impetus for the current crackdown, however, appears to come from the security services, not the Orthodox Church. Roman Lunkin, director of the Institute of Religion and Law, a Moscow research group, described it as \\u201cpart of a broad policy of suppressing all nongovernmental organizations\\u201d that has gained particular force because of the highly centralized structure of Jehovah\\u2019s Witnesses under a worldwide leadership based in the United States. \\u201cThey are controlled from outside Russia, and this is very suspicious for our secret services,\\u201d he said. \\u201cThey don\\u2019t like having an organization that they do not and cannot control. \\u201d Artyom Grigoryan, a former Jehovah\\u2019s Witness who used to work at the group\\u2019s Russian headquarters but who now follows the Orthodox Church, said the organization had \\u201cmany positive elements,\\u201d like its ban on excessive drinking, smoking and other unhealthy habits. All the same, he said it deserved to be treated with suspicion. \\u201cLook at it from the view of the state,\\u201d he said. \\u201cHere is an organization that is run from America, that gets financing from abroad, and whose members don\\u2019t serve in the army and don\\u2019t vote. \\u201d Estranged from his parents, who are still members and view his departure as sinful, he said Jehovah\\u2019s Witnesses broke up families and \\u201cin the logic of the state, it presents a threat. \\u201d He added, \\u201cI am not saying this is real or not, but it needs to be checked by objective experts. \\u201d Mr. Sivak, now preparing for yet another trial, said that he had always tried to follow the law and that he respected the state, but could not put its interests above the commands of his faith. \\u201cThey say I am a terrorist,\\u201d he said, \\u201cbut all I ever wanted to do was to get people to pay attention to the Bible. \\u201d\",\n          \"Editor\\u2019s Note: The Monsanto Tribunal happened from October 14th through 16th in The Hague, Netherlands. The People\\u2019s Assembly was a parallel event, where farmers, consumer movements, and their associated networks discussed how we can feed the world in a safe way. Both events are now over, so what happens now? Read the article below to find out.\\nREAD: Monsanto \\u201cCrimes Against Humanity\\u201d Tribunal Officially Begins October 14th In Hague Netherlands \\nThe hearings of the Monsanto Tribunal were very impressive, and so was the People\\u2019s Assembly. During the last two days of the event, the world watched witnesses\\u2019 testimonies, lawyers\\u2019 pleas, and the first impressions of the judges. At the Tribunal, 750 people participated in The Hague representing 30 nationalities from all over the world, thousands of people followed online on the livestream and social media, and the Tribunal received a lot of press attention.\\nBoth victims and experts thanked us for giving them a voice on this important international platform \\u2014 and a very well documented voice in this new process to hold corporations accountable for their acts.\\nThe chairwoman of the Tribunal, Judge Tulkens, expressed the importance of the Tribunal in an interview with the French newspaper, Le Monde:\\nThe questions of the access to water and to healthy food are old. Those are not new issues coming out of the mind of angry activists. Those issues, just like the right to a healthy environment are likely to become more important with climate change. It is our duty to set legal tools to face those issues. The Monsanto Tribunal is a step and a tool within this dynamic.\\u201d \\nThe Tribunal received quite a lot of media coverage. From French and German TV news programs to many newspapers and radio programs in various countries. See the links on our social media platforms (and later on the website).\\nDid Monsanto attend the Tribunal? Monsanto was invited to the Tribunal, but decided not to appear for their defense. We did get their attention though. They issued a statement in 5 languages saying that we are \\u2018pushing\\u2019 the wrong issues, since the real discussion is about feeding the world. Monsanto fails to see feeding the world in a safe way was exactly the topic of the Tribunal and of the discussion farmers, consumer movements, and their associated networks had in the parallel People\\u2019s Assembly.\\nMany eminent speakers stressed that Monsanto and agribusiness giants like them do not feed the world. Rather, they are involved in producing commodities, feed for animals, fuel for cars, and sugar for the food industry at a very high cost for human health and environment. This is production that feeds profit, not people. It\\u2019s the small- and medium-scale farmers that are actually feeding the world.\\nWhat is the purpose of the Monsanto Tribunal and the People\\u2019s Assembly? This Tribunal and People\\u2019s Assembly are about showing the tremendous costs of industrial farming for humans, for health, and for nature . They are also about standing up to Monsanto and their likes, and stopping them from poisoning our world and controlling our food supply. One way to do this is by showing the true cost of the current global food system, and the very real alternatives that exist.\\nNnimmo Bassey at the opening said :\\nBeing an ambassador to this Tribunal is like being an ambassador to mother Earth. If mother Earth could speak, Monsanto ought to be in jail long before now. Food is a celebration, it is culture, it is life. This is a struggle not against one multinational corporation, it is a struggle for life, it is a struggle for liberty. A struggle to stop big companies from colonizing our food systems, colonizing our agriculture, holding mother Earth as a slave for their profits.\\u201d \\nIf you want, you can follow the Monsanto Tribunal on Facebook , where many pictures and videos have already been posted. You can also see them if you have no Facebook yourself. In the coming weeks, we will continue to release short interviews of the witnesses, experts and lawyers, as well as the speakers in the People\\u2019s Assembly. We will also add all of this to our website , including all the hearings of the Tribunal and the written testimonies in different languages. Please be patient, we will keep you informed!\\nWhat happens now that the Tribunal is over? The judges are now thoroughly reviewing the evidence from legal briefs and witness testimonies to answer the six questions posed in the Tribunal\\u2019s terms of reference. They will then present a legal advisory opinion, hopefully soon but if necessary next spring: we will supply logistic support, but the timing is up to them.\\nAs Judge Tulkens said:\\nWe will try to deliver the legal opinion before December 10th, the International Day of human Rights. It will be addressed to Monsanto and to the United Nations. From this legal opinion, other jurisdictions can be involved and more judges will step in. We, as the judges [at the Monsanto Tribunal]have seen, heard, noted and deliberated. Chances are that the international law will take into consideration new issues such as the ones related to ecocide.\\u201d \\nWhat you can do to help We would like to thank you and all the volunteers for your amazing support. This would not have been possible without you. Stay tuned, follow us on social media, show your support and share messages wherever and whenever you can. Ask friends to sign their support . Together we will put an end to the era of poisoning and exploiting the world and move onward to a system where we work with nature instead of waging a war against it.\\nNote: Image from the Monsanto Tribunal. \\nOriginally published on the Monsanto Tribunal website . \\nVia: Food Revolution\\nh/t Stillness in the Storm \\n\"\n        ],\n        \"semantic_type\": \"\",\n        \"description\": \"\"\n      }\n    }\n  ]\n}"
            }
          },
          "metadata": {},
          "execution_count": 29
        }
      ]
    },
    {
      "cell_type": "markdown",
      "source": [
        "### Text preprocessing"
      ],
      "metadata": {
        "id": "DZR7KioxreAF"
      }
    },
    {
      "cell_type": "code",
      "source": [
        "import nltk\n",
        "import re\n",
        "nltk.download('stopwords')\n",
        "nltk.download('punkt_tab')"
      ],
      "metadata": {
        "id": "zq_Rwj4yoZu_",
        "colab": {
          "base_uri": "https://localhost:8080/"
        },
        "outputId": "f98996c9-3122-4723-e014-cfb2fb5ca7ac"
      },
      "execution_count": 30,
      "outputs": [
        {
          "output_type": "stream",
          "name": "stderr",
          "text": [
            "[nltk_data] Downloading package stopwords to /root/nltk_data...\n",
            "[nltk_data]   Unzipping corpora/stopwords.zip.\n",
            "[nltk_data] Downloading package punkt_tab to /root/nltk_data...\n",
            "[nltk_data]   Unzipping tokenizers/punkt_tab.zip.\n"
          ]
        },
        {
          "output_type": "execute_result",
          "data": {
            "text/plain": [
              "True"
            ]
          },
          "metadata": {},
          "execution_count": 30
        }
      ]
    },
    {
      "cell_type": "code",
      "source": [
        "from nltk.corpus import stopwords\n",
        "from nltk.tokenize import word_tokenize\n",
        "from nltk.stem import PorterStemmer\n",
        "ps = PorterStemmer()"
      ],
      "metadata": {
        "id": "6Y5Mjg1Prhu-"
      },
      "execution_count": 31,
      "outputs": []
    },
    {
      "cell_type": "code",
      "source": [
        "corpus=[]\n",
        "for i in range(0,len(messages)):\n",
        "  text_clean = text_clean = re.sub(r'[^a-zA-Z\\s]', \"\", messages['title'][i])\n",
        "  lower_text = text_clean.lower()\n",
        "  tolenized_text = word_tokenize(lower_text)\n",
        "  stemmed_word = []\n",
        "  for word in tolenized_text:\n",
        "    if not word in stopwords.words('english'):\n",
        "      words = ps.stem(word)\n",
        "      stemmed_word.append(words)\n",
        "\n",
        "  review = ' '.join(stemmed_word)\n",
        "  corpus.append(review)"
      ],
      "metadata": {
        "id": "edgTyFMzrm6V"
      },
      "execution_count": 32,
      "outputs": []
    },
    {
      "cell_type": "code",
      "source": [
        "corpus"
      ],
      "metadata": {
        "colab": {
          "base_uri": "https://localhost:8080/"
        },
        "id": "bxTTIOPDr4EE",
        "outputId": "214ff326-74c0-41dc-8c3f-969f1f1348e6"
      },
      "execution_count": 33,
      "outputs": [
        {
          "output_type": "execute_result",
          "data": {
            "text/plain": [
              "['hous dem aid didnt even see comey letter jason chaffetz tweet',\n",
              " 'flynn hillari clinton big woman campu breitbart',\n",
              " 'truth might get fire',\n",
              " 'civilian kill singl us airstrik identifi',\n",
              " 'iranian woman jail fiction unpublish stori woman stone death adulteri',\n",
              " 'jacki mason hollywood would love trump bomb north korea lack tran bathroom exclus video breitbart',\n",
              " 'benot hamon win french socialist parti presidenti nomin new york time',\n",
              " 'backchannel plan ukrain russia courtesi trump associ new york time',\n",
              " 'obama organ action partner soroslink indivis disrupt trump agenda',\n",
              " 'bbc comedi sketch real housew isi caus outrag',\n",
              " 'russian research discov secret nazi militari base treasur hunter arctic photo',\n",
              " 'us offici see link trump russia',\n",
              " 'ye paid govern troll social media blog forum websit',\n",
              " 'major leagu soccer argentin find home success new york time',\n",
              " 'well fargo chief abruptli step new york time',\n",
              " 'anonym donor pay million releas everyon arrest dakota access pipelin',\n",
              " 'fbi close hillari',\n",
              " 'chuck todd buzzfe donald trump polit favor breitbart',\n",
              " 'monica lewinski clinton sex scandal set american crime stori',\n",
              " 'rob reiner trump mental unstabl breitbart',\n",
              " 'abort pill order rise latin american nation zika alert new york time',\n",
              " 'nuke un histor treati ban nuclear weapon',\n",
              " 'exclus islam state support vow shake west follow manchest terrorist massacr breitbart',\n",
              " 'humili hillari tri hide camera caught min ralli',\n",
              " 'andrea tantaro fox news claim retali sex harass complaint new york time',\n",
              " 'hillari clinton becam hawk new york time',\n",
              " 'chuck todd buzzfe eic publish fake news breitbart',\n",
              " 'bori johnson brexit leader fumbl new york time',\n",
              " 'texa oil field rebound price lull job left behind new york time',\n",
              " 'bayer deal monsanto follow agribusi trend rais worri farmer new york time',\n",
              " 'russia move ban jehovah wit extremist new york time',\n",
              " 'still danger zone januari th',\n",
              " 'open thread us elect',\n",
              " 'democrat gutierrez blame chicago gun violenc nra breitbart',\n",
              " 'avoid peanut avoid allergi bad strategi new york time',\n",
              " 'mri show detail imag week unborn babi breitbart',\n",
              " 'best kind milk arent dairi',\n",
              " 'ryan locht drop speedo usa retail new york time',\n",
              " 'conserv urg session clean obama civil right divis breitbart',\n",
              " 'intern inquiri seal fate roger ail fox new york time',\n",
              " 'press tv debat duff lebanon hezbollah aoun presid video',\n",
              " 'samsung combust galaxi note unveil new smartphon new york time',\n",
              " 'poland vow referendum migrant quota amidst eu pressur public voic heard breitbart',\n",
              " 'spark inner revolut',\n",
              " 'studi half car crash involv driver distract cell phone breitbart',\n",
              " 'trump elect spark individu collect heal',\n",
              " 'ep fade black jimmi church w laura eisenhow restor balanc video',\n",
              " 'cognit true islam book review',\n",
              " 'donald trump win elect biggest miracl us polit histori',\n",
              " 'mind eat way fight bing new york time',\n",
              " 'major potenti impact corpor tax overhaul new york time',\n",
              " 'wonder glp like day elect',\n",
              " 'maker world smallest machin award nobel prize chemistri new york time',\n",
              " 'massiv antitrump protest union squar nyc live stream',\n",
              " 'review lion bring tear lost boy wipe dri googl new york time',\n",
              " 'us gener islam state chemic attack impact us forc',\n",
              " 'juri find oregon standoff defend guilti feder conspiraci gun charg',\n",
              " 'clinton campaign stun fbi reportedli reopen probe hillari clinton email',\n",
              " 'penc speak antiabort ralli new york time',\n",
              " 'berni sander say media wont trump gutless polit coward',\n",
              " 'make briquett daili wast',\n",
              " 'treason nyt vow reded report',\n",
              " 'dress like woman mean new york time',\n",
              " 'ella brennan still feed lead new orlean new york time',\n",
              " 'press asia agenda obama tread lightli human right new york time',\n",
              " 'democrat percent chanc retak senat new york time',\n",
              " 'judg spank transgenderobsess obama lie redflag news',\n",
              " 'us diplomat urg strike assad syria new york time',\n",
              " 'franken call independ investig trump putin crush breitbart',\n",
              " 'louisiana simon bile us presidenti race tuesday even brief new york time',\n",
              " 'turkey threaten open migrant land passag europ row dutch',\n",
              " 'colin kaepernick start black pantherinspir youth camp wow',\n",
              " 'trump immigr polici explain new york time',\n",
              " 'mari tyler moor mourn dick van dyke star new york time',\n",
              " 'poison',\n",
              " 'trump fan ralli across nation support presid new york time',\n",
              " 'fox biz report cant help bash clinton ralli cover trump pack event day',\n",
              " 'fiction podcast worth listen new york time',\n",
              " 'mike birbiglia tip make small hollywood anywher new york time',\n",
              " 'invest strategist forecast collaps timelin last gasp econom cycl come',\n",
              " 'venezuela muzzl legislatur move closer oneman rule new york time',\n",
              " 'whether john mccain mitt romney donald trump democrat alway run war women tactic destroy republican candid',\n",
              " 'breitbart news daili trump boom breitbart',\n",
              " 'white hous confirm gitmo transfer obama leav offic',\n",
              " 'poll voter heard democrat elect candid breitbart',\n",
              " 'migrant confront judgment day old deport order new york time',\n",
              " 'mit nyu yale su retir plan fee new york time',\n",
              " 'technocraci real reason un want control internet',\n",
              " 'american driver regain appetit ga guzzler new york time',\n",
              " 'hillari clinton build million war chest doubl donald trump new york time',\n",
              " 'trump catch sick report snuck interview priceless respons',\n",
              " 'senat contact russian govern week',\n",
              " 'imag perfectli illustr struggl dakota access pipelin',\n",
              " 'washington state take refuge muslim rest countri take refuge muslim breitbart',\n",
              " 'ncaa big keep watch eye texa bathroom bill breitbart',\n",
              " 'massiv espn financi subscrib loss drag disney firstquart sale breitbart',\n",
              " 'megyn kelli contract set expir next year prime big show new york time',\n",
              " 'teacher suspend allow student hit trump pinata cinco de mayo',\n",
              " 'break trump express concern anthoni weiner illeg access classifi info month ago truthfe',\n",
              " 'snap share leap debut investor doubt valu vanish new york time',\n",
              " 'clinton campaign chair dinner top doj offici one day hillari benghazi hear',\n",
              " 'tv seri first femal mlb pitcher can one lowrat season breitbart',\n",
              " 'seek best fit women final four return fridaysunday new york time',\n",
              " 'propos canadian nation bird ruffl feather new york time',\n",
              " 'review beyonc make lemonad marit strife new york time',\n",
              " 'trump ask sharp increas militari spend offici say new york time',\n",
              " 'waterg smoke gun email discuss clean obamahillari email',\n",
              " 'chapo trap hous new leftw podcast flagrant ripoff right stuff',\n",
              " 'taiwan respond china send carrier taiwan strait new york time',\n",
              " 'mother octob surpriseswhi hous card come tumbl',\n",
              " 'explos assangepilg interview us elect expect riot hillari win',\n",
              " 'telescop ate astronomi track surpass hubbl new york time',\n",
              " 'close afghanpakistani border becom humanitarian crisi new york time',\n",
              " 'tv anchor arriv white hous lunch donald trump breitbart',\n",
              " 'pelosi republican tell trump he bring dishonor presid breitbart',\n",
              " 'beauti prehistor world earth wasteland',\n",
              " 'ignor trump news week here learn new york time',\n",
              " 'donald trump unveil plan famili bid women vote new york time',\n",
              " 'montana democrat vote bill ban sharia law call repugn breitbart',\n",
              " 'monsanto tribun go happen',\n",
              " 'offici simon bile world best gymnast new york time',\n",
              " 'liter hurt brain read econom idioci emit trumpkin libertarian',\n",
              " 'un secretari gener complain mass reject global favor nation',\n",
              " 'trump bollywood ad meant sway indian american voter hilari fail video',\n",
              " 'fbi find previous unseen hillari clinton email weiner laptop',\n",
              " 'year american journalist kill conspiraci theori syria proven fact',\n",
              " 'report illeg alien forego food stamp stay trump radar',\n",
              " 'make netherland great hahaha spread worldwid',\n",
              " 'four kill injur jerusalem truckram terror attack',\n",
              " 'leader salut comrad newt brutal megyn sic kelli beatdown dont play game',\n",
              " 'student black colleg got beaten mace protest kkk david duke',\n",
              " 'despit strict gun control one child youth shot everi day ontario',\n",
              " 'rise internet fan bulli new york time',\n",
              " 'newli vibrant washington fear trump drain cultur new york time',\n",
              " 'fed hold interest rate steadi plan slower increas new york time',\n",
              " 'battl unesco',\n",
              " 'latest test white hous pull easter egg roll new york time',\n",
              " 'burlesqu dancer fire investig secret servic trump assassin tweet breitbart',\n",
              " 'clinton haiti',\n",
              " 'cuomo christi parallel path top troubl got new york time',\n",
              " 'top place world your allow visit',\n",
              " 'new studi link fluorid consumpt hypothyroid weight gain wors',\n",
              " 'jame matti secretari offens',\n",
              " 'black church burn spraypaint vote trump',\n",
              " 'sear agre sell craftsman stanley black amp decker rais cash new york time',\n",
              " 'takata chief execut resign financi pressur mount new york time',\n",
              " 'goodby good black sabbath new york time',\n",
              " 'teen geisha doll gang bust arm robberi breitbart',\n",
              " 'price obamacar replac nobodi wors financi breitbart',\n",
              " 'va fail properli examin thousand veteran',\n",
              " 'trump famili alreadi sworn secreci fake moon land soon',\n",
              " 'sport writer nfl great jim brown decad civil right work eras say nice thing donald trump breitbart',\n",
              " 'watch tv excus republican skip donald trump convent new york time',\n",
              " 'open letter trump voter told like',\n",
              " 'comment power corpor lobbi quietli back hillari nobodi talk runsinquicksand',\n",
              " 'hijack end peac libyan airlin land malta new york time',\n",
              " 'dont like girl girl that geniu new york time',\n",
              " 'scientist say canadian bacteria fossil may earth oldest new york time',\n",
              " 'progovern forc advanc syria amid talk usrussia cooper new york time',\n",
              " 'cancer agenc fire withhold carcinogen glyphos document',\n",
              " 'work walk minut work new york time',\n",
              " 'steve harvey talk hous presidentelect trump new york time',\n",
              " 'coalit us troop fight mosul offens come fire',\n",
              " 'uk citizen war hero get cheap prefab hous muslim colon get taxpayerfund luxuri council home',\n",
              " 'vet fight war fed demand money back illeg refuge keep money',\n",
              " 'mr trump wild ride new york time',\n",
              " 'fbi director comey bamboozl doj congress clinton',\n",
              " 'food natur unclog arteri prevent heart attack']"
            ]
          },
          "metadata": {},
          "execution_count": 33
        }
      ]
    },
    {
      "cell_type": "code",
      "source": [
        "# Here text is cleaned. Now OHE is applied\n",
        "onehot_repr=[one_hot(words,voc_size)for words in corpus]\n",
        "onehot_repr"
      ],
      "metadata": {
        "colab": {
          "base_uri": "https://localhost:8080/"
        },
        "id": "_YBke94etBpl",
        "outputId": "abf3a3ab-bbf0-4708-d728-16dc0875065d"
      },
      "execution_count": 34,
      "outputs": [
        {
          "output_type": "execute_result",
          "data": {
            "text/plain": [
              "[[1824, 4616, 2913, 1073, 1552, 616, 3201, 3682, 3905, 3159, 927],\n",
              " [4348, 3214, 2020, 2941, 3593, 1975, 62],\n",
              " [4914, 3666, 2971, 1510],\n",
              " [1757, 1438, 1602, 381, 4529, 1112],\n",
              " [3146, 3593, 80, 1070, 1352, 1590, 3593, 313, 2960, 4796],\n",
              " [4564,\n",
              "  4702,\n",
              "  1691,\n",
              "  3763,\n",
              "  4569,\n",
              "  1141,\n",
              "  1544,\n",
              "  155,\n",
              "  4188,\n",
              "  3250,\n",
              "  3379,\n",
              "  3865,\n",
              "  888,\n",
              "  1618,\n",
              "  62],\n",
              " [968, 3433, 4567, 4503, 2179, 3578, 4665, 2027, 799, 4522, 4316],\n",
              " [1432, 1806, 3455, 311, 3827, 1141, 4369, 799, 4522, 4316],\n",
              " [3443, 4593, 1238, 2896, 2640, 4910, 2310, 1141, 1989],\n",
              " [2084, 2160, 3079, 3033, 434, 193, 3545, 3839],\n",
              " [3185, 4175, 1194, 971, 2162, 3757, 224, 3549, 4807, 4718, 743],\n",
              " [381, 289, 616, 1052, 1141, 311],\n",
              " [1144, 134, 4436, 461, 4195, 4290, 3009, 854, 1677],\n",
              " [3315, 3117, 1275, 913, 1443, 3612, 2250, 799, 4522, 4316],\n",
              " [3609, 4520, 3708, 2900, 2421, 799, 4522, 4316],\n",
              " [3846, 850, 3740, 1218, 4821, 1544, 330, 4363, 2813, 2096],\n",
              " [884, 657, 3214],\n",
              " [1719, 400, 3341, 615, 1141, 3330, 637, 62],\n",
              " [2307, 632, 2020, 248, 417, 4273, 3994, 2066, 1590],\n",
              " [950, 4348, 1141, 732, 1018, 62],\n",
              " [2136, 2036, 2495, 2028, 1839, 3994, 2906, 3458, 577, 799, 4522, 4316],\n",
              " [2463, 1388, 4010, 4166, 1175, 956, 1914],\n",
              " [888, 4340, 2332, 2775, 2091, 927, 580, 354, 3977, 3183, 863, 62],\n",
              " [3054, 3214, 2234, 3425, 1253, 3122, 142, 4138],\n",
              " [4014, 526, 2058, 252, 4683, 1150, 248, 1430, 3343, 799, 4522, 4316],\n",
              " [3214, 2020, 2084, 3869, 799, 4522, 4316],\n",
              " [1719, 400, 3341, 2476, 629, 1782, 252, 62],\n",
              " [2737, 2432, 3195, 3601, 2385, 799, 4522, 4316],\n",
              " [2254, 4739, 711, 242, 1641, 82, 766, 751, 3971, 799, 4522, 4316],\n",
              " [4706, 326, 4315, 354, 3042, 2183, 1681, 2349, 905, 799, 4522, 4316],\n",
              " [311, 471, 1175, 2531, 4086, 2369, 799, 4522, 4316],\n",
              " [3608, 4011, 2938, 724, 307],\n",
              " [1898, 3508, 381, 4123],\n",
              " [2620, 3214, 2504, 2193, 3844, 4117, 3721, 62],\n",
              " [3375, 145, 3375, 2511, 3216, 4665, 799, 4522, 4316],\n",
              " [1806, 4422, 2009, 674, 4544, 4110, 2322, 62],\n",
              " [4927, 4555, 2998, 4245, 1706],\n",
              " [2872, 4126, 3660, 69, 4138, 4667, 799, 4522, 4316],\n",
              " [3694, 2525, 1307, 555, 3443, 788, 2704, 3480, 62],\n",
              " [2321, 2954, 3419, 2362, 3477, 1346, 2058, 799, 4522, 4316],\n",
              " [2314, 1935, 3424, 2618, 4231, 4192, 4007, 4590, 1618],\n",
              " [1529, 3377, 771, 3645, 3540, 799, 1670, 799, 4522, 4316],\n",
              " [3175, 2091, 2777, 4530, 3888, 774, 1870, 4204, 3946, 988, 3579, 62],\n",
              " [2854, 1712, 3929],\n",
              " [1974, 3377, 1859, 4804, 2588, 2473, 2648, 3581, 3873, 62],\n",
              " [1141, 4123, 2854, 731, 1690, 170],\n",
              " [2648, 2506, 4103, 4941, 1720, 3882, 4477, 2290, 3711, 1467, 1618],\n",
              " [2189, 3221, 4340, 4047, 4861],\n",
              " [615, 1141, 4567, 4123, 3944, 782, 381, 3330, 1595],\n",
              " [3144, 2872, 1231, 4935, 1815, 799, 4522, 4316],\n",
              " [3315, 1092, 538, 1781, 3811, 443, 799, 4522, 4316],\n",
              " [4204, 282, 2962, 1484, 4123],\n",
              " [371, 2320, 1011, 76, 605, 1808, 2218, 4924, 799, 4522, 4316],\n",
              " [3647, 2435, 4450, 3871, 4901, 3504, 4122, 865],\n",
              " [4861, 342, 2900, 607, 2661, 3587, 2869, 4841, 4946, 799, 4522, 4316],\n",
              " [381, 2585, 4340, 2332, 367, 4613, 538, 381, 381],\n",
              " [3338, 1443, 493, 2783, 1140, 1368, 1080, 597, 3844, 3510],\n",
              " [2020, 307, 2139, 884, 2783, 995, 415, 3214, 2020, 624],\n",
              " [956, 653, 1788, 4138, 799, 4522, 4316],\n",
              " [4448, 2423, 2180, 4290, 2684, 1141, 2292, 3330, 4531],\n",
              " [292, 256, 3916, 20],\n",
              " [2620, 352, 2091, 4003, 3695],\n",
              " [3985, 2962, 3593, 3081, 799, 4522, 4316],\n",
              " [2695, 190, 3608, 1189, 2193, 799, 3319, 799, 4522, 4316],\n",
              " [2314, 636, 1989, 3443, 601, 183, 2630, 2704, 799, 4522, 4316],\n",
              " [2620, 4077, 3161, 1523, 3488, 799, 4522, 4316],\n",
              " [658, 1025, 2050, 3443, 1754, 2199, 252],\n",
              " [381, 503, 2525, 2923, 4103, 4182, 799, 4522, 4316],\n",
              " [579, 2577, 2779, 2936, 1141, 3248, 2076, 62],\n",
              " [1607, 4604, 2880, 381, 4665, 1866, 3709, 1552, 3474, 799, 4522, 4316],\n",
              " [2579, 1898, 1898, 4530, 1866, 4816, 1764, 287, 959],\n",
              " [4353, 226, 3663, 4103, 410, 644, 3677, 2270],\n",
              " [1141, 45, 4608, 4618, 799, 4522, 4316],\n",
              " [416, 4357, 513, 4840, 3186, 4797, 3401, 695, 799, 4522, 4316],\n",
              " [1905],\n",
              " [1141, 1152, 4138, 982, 2906, 2775, 4590, 799, 4522, 4316],\n",
              " [2058, 615, 3695, 3079, 3264, 2130, 2020, 4138, 1680, 1141, 52, 4227, 1484],\n",
              " [1070, 947, 1359, 4816, 799, 4522, 4316],\n",
              " [1119, 4256, 275, 292, 1381, 1691, 2604, 799, 4522, 4316],\n",
              " [2709, 3277, 4364, 1006, 1736, 2826, 3859, 2072, 1126, 4555],\n",
              " [3631, 813, 2419, 471, 3327, 4499, 450, 799, 4522, 4316],\n",
              " [1062,\n",
              "  2657,\n",
              "  2229,\n",
              "  4732,\n",
              "  319,\n",
              "  615,\n",
              "  1141,\n",
              "  2620,\n",
              "  1808,\n",
              "  165,\n",
              "  3564,\n",
              "  3393,\n",
              "  1784,\n",
              "  4662,\n",
              "  4599,\n",
              "  3451],\n",
              " [62, 252, 3916, 1141, 4893, 62],\n",
              " [3605, 1824, 4032, 2690, 3989, 3443, 590, 2410],\n",
              " [831, 4993, 3579, 2620, 4123, 3451, 62],\n",
              " [4530, 220, 4395, 1484, 1318, 838, 2495, 799, 4522, 4316],\n",
              " [3174, 1128, 2755, 1493, 4615, 1806, 542, 799, 4522, 4316],\n",
              " [3733, 3033, 3195, 1388, 4545, 855, 66],\n",
              " [3994, 2473, 4083, 4195, 4905, 1960, 799, 4522, 4316],\n",
              " [3214, 2020, 2083, 1218, 3564, 1658, 4086, 615, 1141, 799, 4522, 4316],\n",
              " [1141, 4025, 163, 3695, 4826, 48, 3584, 990],\n",
              " [3488, 421, 3185, 4436, 4544],\n",
              " [674, 4293, 4493, 3645, 4363, 2813, 2096],\n",
              " [1390, 2332, 4019, 1969, 721, 2209, 3890, 4019, 1969, 721, 62],\n",
              " [1199, 2941, 251, 97, 3598, 2254, 3865, 990, 62],\n",
              " [3647, 3411, 3848, 1903, 2268, 3461, 4673, 2909, 4195, 62],\n",
              " [1478, 2547, 4283, 4273, 440, 1941, 1086, 3324, 2941, 4422, 799, 4522, 4316],\n",
              " [4864, 2280, 1277, 1003, 3407, 1141, 4405, 4055, 1432, 2112],\n",
              " [4907, 1141, 2968, 137, 826, 4044, 2457, 2813, 124, 3844, 967, 1449, 2331],\n",
              " [420, 59, 618, 3185, 2535, 2320, 3124, 3158, 799, 4522, 4316],\n",
              " [2020, 307, 3455, 115, 934, 782, 289, 4014, 1484, 3214, 486, 2437],\n",
              " [1935, 4415, 4901, 233, 775, 3110, 3879, 4014, 1325, 3350, 62],\n",
              " [4813, 4927, 4530, 3393, 2955, 131, 2964, 145, 799, 4522, 4316],\n",
              " [3280, 567, 2906, 2455, 3023, 3769, 799, 4522, 4316],\n",
              " [4861, 3156, 292, 21, 4102, 536, 799, 4522, 4316],\n",
              " [1141, 1447, 2733, 1191, 3757, 4642, 289, 2180, 799, 4522, 4316],\n",
              " [468, 3567, 3844, 624, 1120, 555, 629, 624],\n",
              " [113, 2526, 1824, 799, 4915, 947, 4946, 2753, 2704, 3759],\n",
              " [1058, 3994, 4139, 178, 2611, 1058, 87, 799, 4522, 4316],\n",
              " [3530, 3419, 2002, 1824, 4484, 4555, 3287],\n",
              " [1360, 3976, 48, 381, 4123, 3245, 4771, 3214, 4567],\n",
              " [4432, 4107, 2832, 3565, 1361, 1057, 799, 4522, 4316],\n",
              " [657, 1902, 2350, 3388, 1016, 2849, 799, 4522, 4316],\n",
              " [1935, 4588, 3865, 3605, 1824, 2790, 615, 1141, 62],\n",
              " [4077, 4599, 4277, 1141, 3894, 2900, 1543, 4590, 62],\n",
              " [3500, 2222, 2320, 2054, 1557],\n",
              " [2670, 1141, 252, 4544, 1092, 686, 799, 4522, 4316],\n",
              " [615, 1141, 3540, 1806, 1460, 415, 3393, 3534, 799, 4522, 4316],\n",
              " [556, 2620, 3534, 990, 1175, 995, 886, 2577, 2651, 62],\n",
              " [4315, 3844, 1768, 2112],\n",
              " [289, 4604, 2880, 2320, 4927, 2912, 799, 4522, 4316],\n",
              " [3530, 2494, 4717, 4928, 2072, 1683, 4904, 1862, 2482],\n",
              " [1388, 3363, 2585, 4057, 187, 125, 2290, 637, 2906],\n",
              " [1141, 2461, 4720, 3092, 588, 4085, 3994, 4993, 4318, 3323, 1618],\n",
              " [884, 1443, 1651, 3482, 3214, 2020, 624, 4044, 2517],\n",
              " [1086, 3994, 759, 1438, 597, 4038, 4182, 418, 3251],\n",
              " [3695, 2457, 3016, 743, 3718, 4202, 1886, 1141, 3024],\n",
              " [292, 679, 2973, 3728, 1160, 2241],\n",
              " [131, 1438, 2221, 1839, 4088, 4404, 4613],\n",
              " [3601, 4346, 4998, 4467, 1934, 1478, 1044, 2547, 1457, 909, 1011, 3336],\n",
              " [1003, 4103, 2349, 1184, 4241, 577, 4450, 353, 741, 1366],\n",
              " [268, 1860, 3844, 855, 4014, 4679, 644, 813, 2901, 1484, 825],\n",
              " [2028, 66, 1152, 2489, 799, 4522, 4316],\n",
              " [2488, 176, 1390, 3463, 1141, 1272, 4450, 799, 4522, 4316],\n",
              " [229, 4569, 2208, 3976, 4194, 1806, 494, 1191, 799, 4522, 4316],\n",
              " [1719, 4936],\n",
              " [3154, 3179, 3605, 1824, 520, 2120, 1738, 1858, 799, 4522, 4316],\n",
              " [2031, 84, 1510, 2936, 971, 2099, 1141, 4323, 927, 62],\n",
              " [2020, 4733],\n",
              " [3484, 345, 1532, 4752, 934, 4923, 1184, 799, 4522, 4316],\n",
              " [934, 4453, 2320, 2838, 1277, 2417],\n",
              " [799, 1974, 1052, 2506, 2976, 3368, 2867, 2996, 2360],\n",
              " [2602, 3501, 3363, 2444],\n",
              " [4103, 1720, 418, 576, 3534, 1141],\n",
              " [2826, 1689, 1113, 3579, 79, 4103, 3230, 777, 1681, 4901, 799, 4522, 4316],\n",
              " [2767, 3708, 1034, 1370, 3848, 4204, 118, 799, 4522, 4316],\n",
              " [2722, 253, 4103, 131, 799, 4522, 4316],\n",
              " [3117, 4719, 2241, 2671, 236, 886, 3183, 62],\n",
              " [1641, 1325, 2833, 1397, 2360, 3848, 62],\n",
              " [966, 3323, 4156, 328, 1012, 4365],\n",
              " [1141, 1460, 4060, 141, 1367, 1782, 116, 1866, 1113],\n",
              " [3149,\n",
              "  152,\n",
              "  3181,\n",
              "  2973,\n",
              "  1090,\n",
              "  442,\n",
              "  4985,\n",
              "  788,\n",
              "  2704,\n",
              "  1648,\n",
              "  3069,\n",
              "  2180,\n",
              "  1157,\n",
              "  893,\n",
              "  615,\n",
              "  1141,\n",
              "  62],\n",
              " [97, 1935, 2990, 4599, 1947, 615, 1141, 2772, 799, 4522, 4316],\n",
              " [1898, 3682, 1141, 4993, 3633, 2962],\n",
              " [236, 2590, 1781, 254, 2276, 14, 3214, 1397, 4435, 250],\n",
              " [2961, 2247, 1048, 3923, 225, 1866, 1267, 799, 4522, 4316],\n",
              " [909, 2962, 4644, 4644, 4482, 3974, 799, 4522, 4316],\n",
              " [3674, 2180, 567, 2257, 179, 1301, 2054, 1638, 799, 4522, 4316],\n",
              " [1518, 381, 4526, 4182, 304, 4435, 683, 811, 799, 4522, 4316],\n",
              " [4834, 1849, 1510, 1778, 3246, 1421, 1521],\n",
              " [1648, 1740, 4446, 1648, 799, 4522, 4316],\n",
              " [2924, 3199, 4435, 1824, 4129, 1141, 799, 4522, 4316],\n",
              " [35, 381, 3890, 4935, 3388, 2444, 4555, 1510],\n",
              " [3785,\n",
              "  68,\n",
              "  3564,\n",
              "  2625,\n",
              "  2971,\n",
              "  1249,\n",
              "  3998,\n",
              "  1824,\n",
              "  721,\n",
              "  2757,\n",
              "  2971,\n",
              "  4954,\n",
              "  297,\n",
              "  1184,\n",
              "  3612],\n",
              " [4362, 4935, 3564, 229, 2527, 3514, 14, 2457, 1969, 251, 3514],\n",
              " [755, 1141, 4379, 1600, 799, 4522, 4316],\n",
              " [884, 3039, 3201, 2568, 782, 2915, 2020],\n",
              " [3718, 1369, 3103, 3830, 2317, 3050, 4613]]"
            ]
          },
          "metadata": {},
          "execution_count": 34
        }
      ]
    },
    {
      "cell_type": "markdown",
      "source": [
        "### Embedding Representation"
      ],
      "metadata": {
        "id": "_AZPjxgTvO2W"
      }
    },
    {
      "cell_type": "code",
      "source": [
        "sent_length=20\n",
        "embedded_docs=pad_sequences(onehot_repr,padding='pre',maxlen=sent_length)\n",
        "print(embedded_docs)"
      ],
      "metadata": {
        "colab": {
          "base_uri": "https://localhost:8080/"
        },
        "id": "iD-HUePGtd7B",
        "outputId": "3f6f8d8e-a1dd-4088-abd9-701020da22b3"
      },
      "execution_count": 44,
      "outputs": [
        {
          "output_type": "stream",
          "name": "stdout",
          "text": [
            "[[   0    0    0 ... 3905 3159  927]\n",
            " [   0    0    0 ... 3593 1975   62]\n",
            " [   0    0    0 ... 3666 2971 1510]\n",
            " ...\n",
            " [   0    0    0 ...  799 4522 4316]\n",
            " [   0    0    0 ...  782 2915 2020]\n",
            " [   0    0    0 ... 2317 3050 4613]]\n"
          ]
        }
      ]
    },
    {
      "cell_type": "code",
      "source": [
        "## Creating model\n",
        "embedding_vector_features=40 # Each word is represented as a vector of size 40.\n",
        "model=Sequential()\n",
        "model.add(Embedding(voc_size,embedding_vector_features,input_length=sent_length))\n",
        "model.add(LSTM(100))\n",
        "model.add(Dense(1,activation='sigmoid')) #This adds a dense (fully connected) output layer with one unit and a sigmoid activation function.\n",
        "model.compile(loss='binary_crossentropy',optimizer='adam',metrics=['accuracy'])\n",
        "print(model.summary())"
      ],
      "metadata": {
        "colab": {
          "base_uri": "https://localhost:8080/",
          "height": 242
        },
        "id": "lozMpDlQvU3U",
        "outputId": "2a2b7332-5466-4f57-f17b-75ae99a8db0b"
      },
      "execution_count": 45,
      "outputs": [
        {
          "output_type": "display_data",
          "data": {
            "text/plain": [
              "\u001b[1mModel: \"sequential_1\"\u001b[0m\n"
            ],
            "text/html": [
              "<pre style=\"white-space:pre;overflow-x:auto;line-height:normal;font-family:Menlo,'DejaVu Sans Mono',consolas,'Courier New',monospace\"><span style=\"font-weight: bold\">Model: \"sequential_1\"</span>\n",
              "</pre>\n"
            ]
          },
          "metadata": {}
        },
        {
          "output_type": "display_data",
          "data": {
            "text/plain": [
              "┏━━━━━━━━━━━━━━━━━━━━━━━━━━━━━━━━━┳━━━━━━━━━━━━━━━━━━━━━━━━┳━━━━━━━━━━━━━━━┓\n",
              "┃\u001b[1m \u001b[0m\u001b[1mLayer (type)                   \u001b[0m\u001b[1m \u001b[0m┃\u001b[1m \u001b[0m\u001b[1mOutput Shape          \u001b[0m\u001b[1m \u001b[0m┃\u001b[1m \u001b[0m\u001b[1m      Param #\u001b[0m\u001b[1m \u001b[0m┃\n",
              "┡━━━━━━━━━━━━━━━━━━━━━━━━━━━━━━━━━╇━━━━━━━━━━━━━━━━━━━━━━━━╇━━━━━━━━━━━━━━━┩\n",
              "│ embedding_1 (\u001b[38;5;33mEmbedding\u001b[0m)         │ ?                      │   \u001b[38;5;34m0\u001b[0m (unbuilt) │\n",
              "├─────────────────────────────────┼────────────────────────┼───────────────┤\n",
              "│ lstm_1 (\u001b[38;5;33mLSTM\u001b[0m)                   │ ?                      │   \u001b[38;5;34m0\u001b[0m (unbuilt) │\n",
              "├─────────────────────────────────┼────────────────────────┼───────────────┤\n",
              "│ dense_1 (\u001b[38;5;33mDense\u001b[0m)                 │ ?                      │   \u001b[38;5;34m0\u001b[0m (unbuilt) │\n",
              "└─────────────────────────────────┴────────────────────────┴───────────────┘\n"
            ],
            "text/html": [
              "<pre style=\"white-space:pre;overflow-x:auto;line-height:normal;font-family:Menlo,'DejaVu Sans Mono',consolas,'Courier New',monospace\">┏━━━━━━━━━━━━━━━━━━━━━━━━━━━━━━━━━┳━━━━━━━━━━━━━━━━━━━━━━━━┳━━━━━━━━━━━━━━━┓\n",
              "┃<span style=\"font-weight: bold\"> Layer (type)                    </span>┃<span style=\"font-weight: bold\"> Output Shape           </span>┃<span style=\"font-weight: bold\">       Param # </span>┃\n",
              "┡━━━━━━━━━━━━━━━━━━━━━━━━━━━━━━━━━╇━━━━━━━━━━━━━━━━━━━━━━━━╇━━━━━━━━━━━━━━━┩\n",
              "│ embedding_1 (<span style=\"color: #0087ff; text-decoration-color: #0087ff\">Embedding</span>)         │ ?                      │   <span style=\"color: #00af00; text-decoration-color: #00af00\">0</span> (unbuilt) │\n",
              "├─────────────────────────────────┼────────────────────────┼───────────────┤\n",
              "│ lstm_1 (<span style=\"color: #0087ff; text-decoration-color: #0087ff\">LSTM</span>)                   │ ?                      │   <span style=\"color: #00af00; text-decoration-color: #00af00\">0</span> (unbuilt) │\n",
              "├─────────────────────────────────┼────────────────────────┼───────────────┤\n",
              "│ dense_1 (<span style=\"color: #0087ff; text-decoration-color: #0087ff\">Dense</span>)                 │ ?                      │   <span style=\"color: #00af00; text-decoration-color: #00af00\">0</span> (unbuilt) │\n",
              "└─────────────────────────────────┴────────────────────────┴───────────────┘\n",
              "</pre>\n"
            ]
          },
          "metadata": {}
        },
        {
          "output_type": "display_data",
          "data": {
            "text/plain": [
              "\u001b[1m Total params: \u001b[0m\u001b[38;5;34m0\u001b[0m (0.00 B)\n"
            ],
            "text/html": [
              "<pre style=\"white-space:pre;overflow-x:auto;line-height:normal;font-family:Menlo,'DejaVu Sans Mono',consolas,'Courier New',monospace\"><span style=\"font-weight: bold\"> Total params: </span><span style=\"color: #00af00; text-decoration-color: #00af00\">0</span> (0.00 B)\n",
              "</pre>\n"
            ]
          },
          "metadata": {}
        },
        {
          "output_type": "display_data",
          "data": {
            "text/plain": [
              "\u001b[1m Trainable params: \u001b[0m\u001b[38;5;34m0\u001b[0m (0.00 B)\n"
            ],
            "text/html": [
              "<pre style=\"white-space:pre;overflow-x:auto;line-height:normal;font-family:Menlo,'DejaVu Sans Mono',consolas,'Courier New',monospace\"><span style=\"font-weight: bold\"> Trainable params: </span><span style=\"color: #00af00; text-decoration-color: #00af00\">0</span> (0.00 B)\n",
              "</pre>\n"
            ]
          },
          "metadata": {}
        },
        {
          "output_type": "display_data",
          "data": {
            "text/plain": [
              "\u001b[1m Non-trainable params: \u001b[0m\u001b[38;5;34m0\u001b[0m (0.00 B)\n"
            ],
            "text/html": [
              "<pre style=\"white-space:pre;overflow-x:auto;line-height:normal;font-family:Menlo,'DejaVu Sans Mono',consolas,'Courier New',monospace\"><span style=\"font-weight: bold\"> Non-trainable params: </span><span style=\"color: #00af00; text-decoration-color: #00af00\">0</span> (0.00 B)\n",
              "</pre>\n"
            ]
          },
          "metadata": {}
        },
        {
          "output_type": "stream",
          "name": "stdout",
          "text": [
            "None\n"
          ]
        }
      ]
    },
    {
      "cell_type": "code",
      "source": [
        "model.predict(embedded_docs)\n",
        "#In the above cell I have defined and compiled the model, and then immediately used model.predict(embedded_docs) in this cell.\n",
        "# Since the model hasn't been trained yet using fit(), the predictions I am seeing are essentially random outputs\n",
        "# from an uninitialized model."
      ],
      "metadata": {
        "colab": {
          "base_uri": "https://localhost:8080/"
        },
        "id": "84e7Pdq4wyAd",
        "outputId": "c7d16f6c-ccb6-4c2f-9ee2-5220737fd2ac"
      },
      "execution_count": 46,
      "outputs": [
        {
          "output_type": "stream",
          "name": "stdout",
          "text": [
            "\u001b[1m6/6\u001b[0m \u001b[32m━━━━━━━━━━━━━━━━━━━━\u001b[0m\u001b[37m\u001b[0m \u001b[1m1s\u001b[0m 60ms/step\n"
          ]
        },
        {
          "output_type": "execute_result",
          "data": {
            "text/plain": [
              "array([[0.5002737 ],\n",
              "       [0.50147164],\n",
              "       [0.50339353],\n",
              "       [0.50308335],\n",
              "       [0.49860555],\n",
              "       [0.50141823],\n",
              "       [0.49852446],\n",
              "       [0.49855006],\n",
              "       [0.50265867],\n",
              "       [0.4992363 ],\n",
              "       [0.50170386],\n",
              "       [0.49924427],\n",
              "       [0.49828303],\n",
              "       [0.49685946],\n",
              "       [0.49593064],\n",
              "       [0.50522876],\n",
              "       [0.4997782 ],\n",
              "       [0.5004973 ],\n",
              "       [0.49712968],\n",
              "       [0.49762025],\n",
              "       [0.4976942 ],\n",
              "       [0.49631417],\n",
              "       [0.4977251 ],\n",
              "       [0.5008292 ],\n",
              "       [0.49906433],\n",
              "       [0.4985    ],\n",
              "       [0.4970721 ],\n",
              "       [0.4990389 ],\n",
              "       [0.50033647],\n",
              "       [0.49637592],\n",
              "       [0.4964206 ],\n",
              "       [0.50285614],\n",
              "       [0.5005306 ],\n",
              "       [0.4985834 ],\n",
              "       [0.49788463],\n",
              "       [0.49834293],\n",
              "       [0.49810958],\n",
              "       [0.49948713],\n",
              "       [0.4968985 ],\n",
              "       [0.4969362 ],\n",
              "       [0.5041095 ],\n",
              "       [0.49844933],\n",
              "       [0.5044023 ],\n",
              "       [0.5019809 ],\n",
              "       [0.5005462 ],\n",
              "       [0.4998064 ],\n",
              "       [0.5022266 ],\n",
              "       [0.49894667],\n",
              "       [0.50100935],\n",
              "       [0.49709842],\n",
              "       [0.50084114],\n",
              "       [0.5016696 ],\n",
              "       [0.49903178],\n",
              "       [0.4999449 ],\n",
              "       [0.49811456],\n",
              "       [0.50139046],\n",
              "       [0.5021728 ],\n",
              "       [0.5043298 ],\n",
              "       [0.49590594],\n",
              "       [0.49902073],\n",
              "       [0.5017649 ],\n",
              "       [0.5009454 ],\n",
              "       [0.4993599 ],\n",
              "       [0.49912208],\n",
              "       [0.4968674 ],\n",
              "       [0.49776757],\n",
              "       [0.50085115],\n",
              "       [0.4971602 ],\n",
              "       [0.49908915],\n",
              "       [0.49860156],\n",
              "       [0.5027739 ],\n",
              "       [0.4974656 ],\n",
              "       [0.50037634],\n",
              "       [0.49660438],\n",
              "       [0.5053574 ],\n",
              "       [0.49770075],\n",
              "       [0.50025547],\n",
              "       [0.49906242],\n",
              "       [0.49970853],\n",
              "       [0.5021436 ],\n",
              "       [0.49787116],\n",
              "       [0.49830425],\n",
              "       [0.50107694],\n",
              "       [0.49824852],\n",
              "       [0.4999317 ],\n",
              "       [0.49773854],\n",
              "       [0.49737793],\n",
              "       [0.50314796],\n",
              "       [0.49756992],\n",
              "       [0.4981849 ],\n",
              "       [0.49784952],\n",
              "       [0.49900252],\n",
              "       [0.5022601 ],\n",
              "       [0.50086606],\n",
              "       [0.49956843],\n",
              "       [0.49850467],\n",
              "       [0.49790734],\n",
              "       [0.50369966],\n",
              "       [0.501531  ],\n",
              "       [0.49591005],\n",
              "       [0.50186086],\n",
              "       [0.499115  ],\n",
              "       [0.49649364],\n",
              "       [0.50016046],\n",
              "       [0.49731836],\n",
              "       [0.49745464],\n",
              "       [0.4992508 ],\n",
              "       [0.496769  ],\n",
              "       [0.49679196],\n",
              "       [0.5000324 ],\n",
              "       [0.50312996],\n",
              "       [0.49599206],\n",
              "       [0.5006218 ],\n",
              "       [0.49935558],\n",
              "       [0.4972244 ],\n",
              "       [0.501801  ],\n",
              "       [0.49681658],\n",
              "       [0.49989504],\n",
              "       [0.49967277],\n",
              "       [0.5021707 ],\n",
              "       [0.49798214],\n",
              "       [0.4986993 ],\n",
              "       [0.50318104],\n",
              "       [0.4995785 ],\n",
              "       [0.5001805 ],\n",
              "       [0.49878705],\n",
              "       [0.5036335 ],\n",
              "       [0.50146854],\n",
              "       [0.500177  ],\n",
              "       [0.50085664],\n",
              "       [0.49802062],\n",
              "       [0.50362945],\n",
              "       [0.4997837 ],\n",
              "       [0.49734184],\n",
              "       [0.49793464],\n",
              "       [0.5034032 ],\n",
              "       [0.4979523 ],\n",
              "       [0.49661076],\n",
              "       [0.50313395],\n",
              "       [0.49678642],\n",
              "       [0.49907213],\n",
              "       [0.5001128 ],\n",
              "       [0.5007702 ],\n",
              "       [0.5008087 ],\n",
              "       [0.49879155],\n",
              "       [0.496557  ],\n",
              "       [0.49698174],\n",
              "       [0.50065154],\n",
              "       [0.5008119 ],\n",
              "       [0.49909198],\n",
              "       [0.49796876],\n",
              "       [0.49900877],\n",
              "       [0.4980186 ],\n",
              "       [0.5022106 ],\n",
              "       [0.49597916],\n",
              "       [0.49866292],\n",
              "       [0.49786037],\n",
              "       [0.499542  ],\n",
              "       [0.49728692],\n",
              "       [0.5023153 ],\n",
              "       [0.49717042],\n",
              "       [0.49676794],\n",
              "       [0.49999237],\n",
              "       [0.49689764],\n",
              "       [0.5033899 ],\n",
              "       [0.49927562],\n",
              "       [0.5008402 ],\n",
              "       [0.5010405 ]], dtype=float32)"
            ]
          },
          "metadata": {},
          "execution_count": 46
        }
      ]
    },
    {
      "cell_type": "code",
      "source": [
        "model.summary()"
      ],
      "metadata": {
        "colab": {
          "base_uri": "https://localhost:8080/",
          "height": 225
        },
        "id": "m-ZlGqiOyoMf",
        "outputId": "bbed8916-30b0-4e74-e333-3acd82dc4e7a"
      },
      "execution_count": 47,
      "outputs": [
        {
          "output_type": "display_data",
          "data": {
            "text/plain": [
              "\u001b[1mModel: \"sequential_1\"\u001b[0m\n"
            ],
            "text/html": [
              "<pre style=\"white-space:pre;overflow-x:auto;line-height:normal;font-family:Menlo,'DejaVu Sans Mono',consolas,'Courier New',monospace\"><span style=\"font-weight: bold\">Model: \"sequential_1\"</span>\n",
              "</pre>\n"
            ]
          },
          "metadata": {}
        },
        {
          "output_type": "display_data",
          "data": {
            "text/plain": [
              "┏━━━━━━━━━━━━━━━━━━━━━━━━━━━━━━━━━┳━━━━━━━━━━━━━━━━━━━━━━━━┳━━━━━━━━━━━━━━━┓\n",
              "┃\u001b[1m \u001b[0m\u001b[1mLayer (type)                   \u001b[0m\u001b[1m \u001b[0m┃\u001b[1m \u001b[0m\u001b[1mOutput Shape          \u001b[0m\u001b[1m \u001b[0m┃\u001b[1m \u001b[0m\u001b[1m      Param #\u001b[0m\u001b[1m \u001b[0m┃\n",
              "┡━━━━━━━━━━━━━━━━━━━━━━━━━━━━━━━━━╇━━━━━━━━━━━━━━━━━━━━━━━━╇━━━━━━━━━━━━━━━┩\n",
              "│ embedding_1 (\u001b[38;5;33mEmbedding\u001b[0m)         │ (\u001b[38;5;34m32\u001b[0m, \u001b[38;5;34m20\u001b[0m, \u001b[38;5;34m40\u001b[0m)           │       \u001b[38;5;34m200,000\u001b[0m │\n",
              "├─────────────────────────────────┼────────────────────────┼───────────────┤\n",
              "│ lstm_1 (\u001b[38;5;33mLSTM\u001b[0m)                   │ (\u001b[38;5;34m32\u001b[0m, \u001b[38;5;34m100\u001b[0m)              │        \u001b[38;5;34m56,400\u001b[0m │\n",
              "├─────────────────────────────────┼────────────────────────┼───────────────┤\n",
              "│ dense_1 (\u001b[38;5;33mDense\u001b[0m)                 │ (\u001b[38;5;34m32\u001b[0m, \u001b[38;5;34m1\u001b[0m)                │           \u001b[38;5;34m101\u001b[0m │\n",
              "└─────────────────────────────────┴────────────────────────┴───────────────┘\n"
            ],
            "text/html": [
              "<pre style=\"white-space:pre;overflow-x:auto;line-height:normal;font-family:Menlo,'DejaVu Sans Mono',consolas,'Courier New',monospace\">┏━━━━━━━━━━━━━━━━━━━━━━━━━━━━━━━━━┳━━━━━━━━━━━━━━━━━━━━━━━━┳━━━━━━━━━━━━━━━┓\n",
              "┃<span style=\"font-weight: bold\"> Layer (type)                    </span>┃<span style=\"font-weight: bold\"> Output Shape           </span>┃<span style=\"font-weight: bold\">       Param # </span>┃\n",
              "┡━━━━━━━━━━━━━━━━━━━━━━━━━━━━━━━━━╇━━━━━━━━━━━━━━━━━━━━━━━━╇━━━━━━━━━━━━━━━┩\n",
              "│ embedding_1 (<span style=\"color: #0087ff; text-decoration-color: #0087ff\">Embedding</span>)         │ (<span style=\"color: #00af00; text-decoration-color: #00af00\">32</span>, <span style=\"color: #00af00; text-decoration-color: #00af00\">20</span>, <span style=\"color: #00af00; text-decoration-color: #00af00\">40</span>)           │       <span style=\"color: #00af00; text-decoration-color: #00af00\">200,000</span> │\n",
              "├─────────────────────────────────┼────────────────────────┼───────────────┤\n",
              "│ lstm_1 (<span style=\"color: #0087ff; text-decoration-color: #0087ff\">LSTM</span>)                   │ (<span style=\"color: #00af00; text-decoration-color: #00af00\">32</span>, <span style=\"color: #00af00; text-decoration-color: #00af00\">100</span>)              │        <span style=\"color: #00af00; text-decoration-color: #00af00\">56,400</span> │\n",
              "├─────────────────────────────────┼────────────────────────┼───────────────┤\n",
              "│ dense_1 (<span style=\"color: #0087ff; text-decoration-color: #0087ff\">Dense</span>)                 │ (<span style=\"color: #00af00; text-decoration-color: #00af00\">32</span>, <span style=\"color: #00af00; text-decoration-color: #00af00\">1</span>)                │           <span style=\"color: #00af00; text-decoration-color: #00af00\">101</span> │\n",
              "└─────────────────────────────────┴────────────────────────┴───────────────┘\n",
              "</pre>\n"
            ]
          },
          "metadata": {}
        },
        {
          "output_type": "display_data",
          "data": {
            "text/plain": [
              "\u001b[1m Total params: \u001b[0m\u001b[38;5;34m256,501\u001b[0m (1001.96 KB)\n"
            ],
            "text/html": [
              "<pre style=\"white-space:pre;overflow-x:auto;line-height:normal;font-family:Menlo,'DejaVu Sans Mono',consolas,'Courier New',monospace\"><span style=\"font-weight: bold\"> Total params: </span><span style=\"color: #00af00; text-decoration-color: #00af00\">256,501</span> (1001.96 KB)\n",
              "</pre>\n"
            ]
          },
          "metadata": {}
        },
        {
          "output_type": "display_data",
          "data": {
            "text/plain": [
              "\u001b[1m Trainable params: \u001b[0m\u001b[38;5;34m256,501\u001b[0m (1001.96 KB)\n"
            ],
            "text/html": [
              "<pre style=\"white-space:pre;overflow-x:auto;line-height:normal;font-family:Menlo,'DejaVu Sans Mono',consolas,'Courier New',monospace\"><span style=\"font-weight: bold\"> Trainable params: </span><span style=\"color: #00af00; text-decoration-color: #00af00\">256,501</span> (1001.96 KB)\n",
              "</pre>\n"
            ]
          },
          "metadata": {}
        },
        {
          "output_type": "display_data",
          "data": {
            "text/plain": [
              "\u001b[1m Non-trainable params: \u001b[0m\u001b[38;5;34m0\u001b[0m (0.00 B)\n"
            ],
            "text/html": [
              "<pre style=\"white-space:pre;overflow-x:auto;line-height:normal;font-family:Menlo,'DejaVu Sans Mono',consolas,'Courier New',monospace\"><span style=\"font-weight: bold\"> Non-trainable params: </span><span style=\"color: #00af00; text-decoration-color: #00af00\">0</span> (0.00 B)\n",
              "</pre>\n"
            ]
          },
          "metadata": {}
        }
      ]
    },
    {
      "cell_type": "markdown",
      "source": [
        "### Lets convert the embedded_docs and y from list to numpy array\n",
        "###### Converting your data to NumPy arrays is a standard and best practice when working with deep learning models in Python due to the performance, memory efficiency, and compatibility benefits."
      ],
      "metadata": {
        "id": "M9cvAndg14Wf"
      }
    },
    {
      "cell_type": "code",
      "source": [
        "import numpy as np\n",
        "X_final=np.array(embedded_docs)\n",
        "y_final=np.array(y)"
      ],
      "metadata": {
        "id": "YEd8OanyzkF4"
      },
      "execution_count": 48,
      "outputs": []
    },
    {
      "cell_type": "code",
      "source": [
        "X_final"
      ],
      "metadata": {
        "colab": {
          "base_uri": "https://localhost:8080/"
        },
        "id": "kLJI6BvhzznH",
        "outputId": "a7120677-73b1-4502-8f89-553d96803e14"
      },
      "execution_count": 49,
      "outputs": [
        {
          "output_type": "execute_result",
          "data": {
            "text/plain": [
              "array([[   0,    0,    0, ..., 3905, 3159,  927],\n",
              "       [   0,    0,    0, ..., 3593, 1975,   62],\n",
              "       [   0,    0,    0, ..., 3666, 2971, 1510],\n",
              "       ...,\n",
              "       [   0,    0,    0, ...,  799, 4522, 4316],\n",
              "       [   0,    0,    0, ...,  782, 2915, 2020],\n",
              "       [   0,    0,    0, ..., 2317, 3050, 4613]], dtype=int32)"
            ]
          },
          "metadata": {},
          "execution_count": 49
        }
      ]
    },
    {
      "cell_type": "code",
      "source": [
        "y_final"
      ],
      "metadata": {
        "colab": {
          "base_uri": "https://localhost:8080/"
        },
        "id": "cx_7JjX-4bMJ",
        "outputId": "7737498a-11cb-4ee0-fb4e-7bb8140afef0"
      },
      "execution_count": 50,
      "outputs": [
        {
          "output_type": "execute_result",
          "data": {
            "text/plain": [
              "array([1, 0, 1, 1, 1, 0, 0, 0, 0, 0, 1, 1, 1, 0, 0, 1, 1, 0, 0, 0, 0, 1,\n",
              "       0, 1, 0, 0, 0, 0, 0, 0, 0, 1, 1, 0, 0, 0, 1, 0, 0, 0, 1, 0, 0, 1,\n",
              "       0, 1, 1, 1, 1, 0, 0, 1, 0, 1, 0, 0, 1, 1, 0, 1, 1, 1, 0, 0, 0, 0,\n",
              "       1, 0, 0, 0, 0, 1, 0, 0, 1, 0, 1, 0, 0, 1, 0, 1, 0, 0, 0, 0, 0, 1,\n",
              "       0, 0, 1, 0, 1, 0, 0, 0, 0, 0, 1, 0, 1, 0, 0, 0, 0, 0, 1, 1, 0, 1,\n",
              "       1, 0, 0, 0, 0, 1, 0, 0, 0, 1, 0, 1, 1, 1, 1, 1, 0, 1, 0, 1, 1, 0,\n",
              "       0, 0, 0, 1, 0, 0, 1, 0, 1, 1, 1, 1, 0, 0, 0, 0, 0, 1, 1, 0, 0, 1,\n",
              "       1, 0, 0, 0, 0, 1, 0, 0, 0, 1, 1, 0, 1, 1])"
            ]
          },
          "metadata": {},
          "execution_count": 50
        }
      ]
    },
    {
      "cell_type": "markdown",
      "source": [
        "### Model Training"
      ],
      "metadata": {
        "id": "vUOVFv7Uz8Rj"
      }
    },
    {
      "cell_type": "code",
      "source": [
        "from sklearn.model_selection import train_test_split\n",
        "X_train, X_test, y_train, y_test = train_test_split(X_final, y_final, test_size=0.33, random_state=42)"
      ],
      "metadata": {
        "id": "MpiooVlDz3eH"
      },
      "execution_count": 51,
      "outputs": []
    },
    {
      "cell_type": "code",
      "source": [
        "model.fit(X_train,y_train,validation_data=(X_test,y_test),epochs=10,batch_size=64)"
      ],
      "metadata": {
        "colab": {
          "base_uri": "https://localhost:8080/"
        },
        "id": "fenSZU0C2eD2",
        "outputId": "334471b7-ea34-4dc9-cc88-3ae27f43a5e9"
      },
      "execution_count": 52,
      "outputs": [
        {
          "output_type": "stream",
          "name": "stdout",
          "text": [
            "Epoch 1/10\n",
            "\u001b[1m2/2\u001b[0m \u001b[32m━━━━━━━━━━━━━━━━━━━━\u001b[0m\u001b[37m\u001b[0m \u001b[1m3s\u001b[0m 472ms/step - accuracy: 0.6057 - loss: 0.6910 - val_accuracy: 0.6429 - val_loss: 0.6806\n",
            "Epoch 2/10\n",
            "\u001b[1m2/2\u001b[0m \u001b[32m━━━━━━━━━━━━━━━━━━━━\u001b[0m\u001b[37m\u001b[0m \u001b[1m0s\u001b[0m 96ms/step - accuracy: 0.5744 - loss: 0.6792 - val_accuracy: 0.6429 - val_loss: 0.6695\n",
            "Epoch 3/10\n",
            "\u001b[1m2/2\u001b[0m \u001b[32m━━━━━━━━━━━━━━━━━━━━\u001b[0m\u001b[37m\u001b[0m \u001b[1m0s\u001b[0m 128ms/step - accuracy: 0.5952 - loss: 0.6654 - val_accuracy: 0.6429 - val_loss: 0.6549\n",
            "Epoch 4/10\n",
            "\u001b[1m2/2\u001b[0m \u001b[32m━━━━━━━━━━━━━━━━━━━━\u001b[0m\u001b[37m\u001b[0m \u001b[1m0s\u001b[0m 130ms/step - accuracy: 0.5952 - loss: 0.6475 - val_accuracy: 0.6429 - val_loss: 0.6365\n",
            "Epoch 5/10\n",
            "\u001b[1m2/2\u001b[0m \u001b[32m━━━━━━━━━━━━━━━━━━━━\u001b[0m\u001b[37m\u001b[0m \u001b[1m0s\u001b[0m 96ms/step - accuracy: 0.5952 - loss: 0.6249 - val_accuracy: 0.6429 - val_loss: 0.6139\n",
            "Epoch 6/10\n",
            "\u001b[1m2/2\u001b[0m \u001b[32m━━━━━━━━━━━━━━━━━━━━\u001b[0m\u001b[37m\u001b[0m \u001b[1m0s\u001b[0m 165ms/step - accuracy: 0.6124 - loss: 0.5950 - val_accuracy: 0.6786 - val_loss: 0.5873\n",
            "Epoch 7/10\n",
            "\u001b[1m2/2\u001b[0m \u001b[32m━━━━━━━━━━━━━━━━━━━━\u001b[0m\u001b[37m\u001b[0m \u001b[1m0s\u001b[0m 173ms/step - accuracy: 0.6771 - loss: 0.5614 - val_accuracy: 0.8036 - val_loss: 0.5583\n",
            "Epoch 8/10\n",
            "\u001b[1m2/2\u001b[0m \u001b[32m━━━━━━━━━━━━━━━━━━━━\u001b[0m\u001b[37m\u001b[0m \u001b[1m0s\u001b[0m 172ms/step - accuracy: 0.9271 - loss: 0.5174 - val_accuracy: 0.8393 - val_loss: 0.5326\n",
            "Epoch 9/10\n",
            "\u001b[1m2/2\u001b[0m \u001b[32m━━━━━━━━━━━━━━━━━━━━\u001b[0m\u001b[37m\u001b[0m \u001b[1m0s\u001b[0m 167ms/step - accuracy: 0.9315 - loss: 0.4639 - val_accuracy: 0.8393 - val_loss: 0.4980\n",
            "Epoch 10/10\n",
            "\u001b[1m2/2\u001b[0m \u001b[32m━━━━━━━━━━━━━━━━━━━━\u001b[0m\u001b[37m\u001b[0m \u001b[1m0s\u001b[0m 142ms/step - accuracy: 0.9256 - loss: 0.4061 - val_accuracy: 0.8393 - val_loss: 0.4618\n"
          ]
        },
        {
          "output_type": "execute_result",
          "data": {
            "text/plain": [
              "<keras.src.callbacks.history.History at 0x78b1cb4cd2e0>"
            ]
          },
          "metadata": {},
          "execution_count": 52
        }
      ]
    },
    {
      "cell_type": "markdown",
      "source": [
        "### Adding Dropout"
      ],
      "metadata": {
        "id": "GEyZKaLK4iNn"
      }
    },
    {
      "cell_type": "code",
      "source": [
        "from tensorflow.keras.layers import Dropout\n",
        "## Creating model\n",
        "embedding_vector_features=40\n",
        "model=Sequential()\n",
        "model.add(Embedding(voc_size,embedding_vector_features,input_length=sent_length))\n",
        "model.add(Dropout(0.3))# During training, this layer will randomly set 30% of the input units to zero.\n",
        "model.add(LSTM(100))\n",
        "model.add(Dropout(0.3)) #it randomly sets 30% of the output units from the LSTM layer to zero during training, further reducing overfitting.\n",
        "model.add(Dense(1,activation='sigmoid'))\n",
        "model.compile(loss='binary_crossentropy',optimizer='adam',metrics=['accuracy'])"
      ],
      "metadata": {
        "colab": {
          "base_uri": "https://localhost:8080/"
        },
        "id": "N_oE4bHf3p7k",
        "outputId": "af79195a-9c97-4cf0-d38f-370ef25a6712"
      },
      "execution_count": 54,
      "outputs": [
        {
          "output_type": "stream",
          "name": "stderr",
          "text": [
            "/usr/local/lib/python3.12/dist-packages/keras/src/layers/core/embedding.py:97: UserWarning: Argument `input_length` is deprecated. Just remove it.\n",
            "  warnings.warn(\n"
          ]
        }
      ]
    },
    {
      "cell_type": "markdown",
      "source": [
        "### Performance Metrics And Accuracy"
      ],
      "metadata": {
        "id": "jW3UG26L5peJ"
      }
    },
    {
      "cell_type": "code",
      "source": [
        "y_pred = model.predict(X_test)"
      ],
      "metadata": {
        "colab": {
          "base_uri": "https://localhost:8080/"
        },
        "id": "0tuUAd5z2Ix-",
        "outputId": "3a48c282-424d-4955-b34c-d766e2609fd2"
      },
      "execution_count": 70,
      "outputs": [
        {
          "output_type": "stream",
          "name": "stdout",
          "text": [
            "\u001b[1m2/2\u001b[0m \u001b[32m━━━━━━━━━━━━━━━━━━━━\u001b[0m\u001b[37m\u001b[0m \u001b[1m0s\u001b[0m 34ms/step\n"
          ]
        }
      ]
    },
    {
      "cell_type": "code",
      "source": [
        "y_pred"
      ],
      "metadata": {
        "colab": {
          "base_uri": "https://localhost:8080/"
        },
        "id": "Es6_SD735xei",
        "outputId": "26366005-9ff5-43ac-9f52-a00244e75039"
      },
      "execution_count": 71,
      "outputs": [
        {
          "output_type": "execute_result",
          "data": {
            "text/plain": [
              "array([[0.5012126 ],\n",
              "       [0.50025016],\n",
              "       [0.5018759 ],\n",
              "       [0.50100565],\n",
              "       [0.49843666],\n",
              "       [0.5017276 ],\n",
              "       [0.50051606],\n",
              "       [0.500352  ],\n",
              "       [0.50131273],\n",
              "       [0.5003335 ],\n",
              "       [0.5005802 ],\n",
              "       [0.50158715],\n",
              "       [0.50093937],\n",
              "       [0.5006292 ],\n",
              "       [0.50052845],\n",
              "       [0.50059766],\n",
              "       [0.50079834],\n",
              "       [0.4991123 ],\n",
              "       [0.50140774],\n",
              "       [0.49992943],\n",
              "       [0.5006341 ],\n",
              "       [0.49928796],\n",
              "       [0.5003108 ],\n",
              "       [0.4989546 ],\n",
              "       [0.5010203 ],\n",
              "       [0.5012397 ],\n",
              "       [0.5012483 ],\n",
              "       [0.4996899 ],\n",
              "       [0.5005189 ],\n",
              "       [0.50329375],\n",
              "       [0.5024836 ],\n",
              "       [0.4985878 ],\n",
              "       [0.501053  ],\n",
              "       [0.49963468],\n",
              "       [0.5003512 ],\n",
              "       [0.50122297],\n",
              "       [0.5031749 ],\n",
              "       [0.50048274],\n",
              "       [0.49991125],\n",
              "       [0.5016163 ],\n",
              "       [0.49820203],\n",
              "       [0.5005828 ],\n",
              "       [0.498735  ],\n",
              "       [0.50155246],\n",
              "       [0.5013524 ],\n",
              "       [0.5007393 ],\n",
              "       [0.5003242 ],\n",
              "       [0.49996528],\n",
              "       [0.50293267],\n",
              "       [0.5015192 ],\n",
              "       [0.50102484],\n",
              "       [0.5049912 ],\n",
              "       [0.5015599 ],\n",
              "       [0.5021208 ],\n",
              "       [0.5017579 ],\n",
              "       [0.5016115 ]], dtype=float32)"
            ]
          },
          "metadata": {},
          "execution_count": 71
        }
      ]
    },
    {
      "cell_type": "code",
      "source": [
        "y_pred=np.where(y_pred > 0.5, 1,0)"
      ],
      "metadata": {
        "id": "AJG6H0BU51vk"
      },
      "execution_count": 72,
      "outputs": []
    },
    {
      "cell_type": "code",
      "source": [
        "y_pred"
      ],
      "metadata": {
        "colab": {
          "base_uri": "https://localhost:8080/"
        },
        "id": "E89EaYpa6EvA",
        "outputId": "f44a09a3-d2e6-4d52-870e-77a7bc1c9782"
      },
      "execution_count": 73,
      "outputs": [
        {
          "output_type": "execute_result",
          "data": {
            "text/plain": [
              "array([[1],\n",
              "       [1],\n",
              "       [1],\n",
              "       [1],\n",
              "       [0],\n",
              "       [1],\n",
              "       [1],\n",
              "       [1],\n",
              "       [1],\n",
              "       [1],\n",
              "       [1],\n",
              "       [1],\n",
              "       [1],\n",
              "       [1],\n",
              "       [1],\n",
              "       [1],\n",
              "       [1],\n",
              "       [0],\n",
              "       [1],\n",
              "       [0],\n",
              "       [1],\n",
              "       [0],\n",
              "       [1],\n",
              "       [0],\n",
              "       [1],\n",
              "       [1],\n",
              "       [1],\n",
              "       [0],\n",
              "       [1],\n",
              "       [1],\n",
              "       [1],\n",
              "       [0],\n",
              "       [1],\n",
              "       [0],\n",
              "       [1],\n",
              "       [1],\n",
              "       [1],\n",
              "       [1],\n",
              "       [0],\n",
              "       [1],\n",
              "       [0],\n",
              "       [1],\n",
              "       [0],\n",
              "       [1],\n",
              "       [1],\n",
              "       [1],\n",
              "       [1],\n",
              "       [0],\n",
              "       [1],\n",
              "       [1],\n",
              "       [1],\n",
              "       [1],\n",
              "       [1],\n",
              "       [1],\n",
              "       [1],\n",
              "       [1]])"
            ]
          },
          "metadata": {},
          "execution_count": 73
        }
      ]
    },
    {
      "cell_type": "code",
      "source": [
        "y_test"
      ],
      "metadata": {
        "colab": {
          "base_uri": "https://localhost:8080/"
        },
        "id": "eRvuOPcb6Flr",
        "outputId": "8e4d17a7-1d49-48a5-e68d-2834a865b23b"
      },
      "execution_count": 60,
      "outputs": [
        {
          "output_type": "execute_result",
          "data": {
            "text/plain": [
              "array([0, 0, 1, 0, 1, 0, 1, 1, 0, 1, 1, 0, 0, 1, 0, 0, 0, 1, 0, 0, 0, 1,\n",
              "       1, 0, 1, 0, 0, 1, 1, 0, 0, 1, 0, 0, 0, 0, 1, 0, 0, 0, 1, 0, 0, 0,\n",
              "       1, 0, 0, 1, 0, 0, 0, 1, 0, 1, 0, 0])"
            ]
          },
          "metadata": {},
          "execution_count": 60
        }
      ]
    },
    {
      "cell_type": "code",
      "source": [
        "from sklearn.metrics import confusion_matrix"
      ],
      "metadata": {
        "id": "p_h_jEx-6Q9h"
      },
      "execution_count": 74,
      "outputs": []
    },
    {
      "cell_type": "code",
      "source": [
        "confusion_matrix(y_test,y_pred)"
      ],
      "metadata": {
        "colab": {
          "base_uri": "https://localhost:8080/"
        },
        "id": "CuLZGMY26XIc",
        "outputId": "d1de3de1-27f7-4075-ad03-c001d99e3149"
      },
      "execution_count": 75,
      "outputs": [
        {
          "output_type": "execute_result",
          "data": {
            "text/plain": [
              "array([[ 5, 31],\n",
              "       [ 7, 13]])"
            ]
          },
          "metadata": {},
          "execution_count": 75
        }
      ]
    },
    {
      "cell_type": "code",
      "source": [
        "from sklearn.metrics import accuracy_score\n",
        "accuracy_score(y_test,y_pred)"
      ],
      "metadata": {
        "colab": {
          "base_uri": "https://localhost:8080/"
        },
        "id": "-q0dUGCr6g3M",
        "outputId": "ae287908-c7b7-45c4-fa57-1ed17df34479"
      },
      "execution_count": 76,
      "outputs": [
        {
          "output_type": "execute_result",
          "data": {
            "text/plain": [
              "0.32142857142857145"
            ]
          },
          "metadata": {},
          "execution_count": 76
        }
      ]
    },
    {
      "cell_type": "code",
      "source": [
        "from sklearn.metrics import classification_report\n",
        "print(classification_report(y_test,y_pred))"
      ],
      "metadata": {
        "colab": {
          "base_uri": "https://localhost:8080/"
        },
        "id": "ghtgsEIx6nxr",
        "outputId": "6f43cebf-77db-4fc7-cd3f-057868b3fb28"
      },
      "execution_count": 77,
      "outputs": [
        {
          "output_type": "stream",
          "name": "stdout",
          "text": [
            "              precision    recall  f1-score   support\n",
            "\n",
            "           0       0.42      0.14      0.21        36\n",
            "           1       0.30      0.65      0.41        20\n",
            "\n",
            "    accuracy                           0.32        56\n",
            "   macro avg       0.36      0.39      0.31        56\n",
            "weighted avg       0.37      0.32      0.28        56\n",
            "\n"
          ]
        }
      ]
    },
    {
      "cell_type": "code",
      "source": [],
      "metadata": {
        "id": "lo_VTkjF6uYp"
      },
      "execution_count": null,
      "outputs": []
    }
  ]
}